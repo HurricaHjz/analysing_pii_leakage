{
  "cells": [
    {
      "cell_type": "markdown",
      "source": [
        "## Git config"
      ],
      "metadata": {
        "id": "wOtAOGSyB0KR"
      },
      "id": "wOtAOGSyB0KR"
    },
    {
      "cell_type": "code",
      "execution_count": null,
      "id": "71628f18",
      "metadata": {
        "id": "71628f18"
      },
      "outputs": [],
      "source": [
        "!git config --global user.name \"HurricaHjz\"\n",
        "!git config --global user.email \"jerryzmj4210@gmail.com\"\n",
        "!git config --global user.password \"jerryzmj021226.\""
      ]
    },
    {
      "cell_type": "code",
      "execution_count": null,
      "id": "171fc6ed",
      "metadata": {
        "id": "171fc6ed"
      },
      "outputs": [],
      "source": [
        "token = 'ilovellm'\n",
        "username = 'HurricaHjz'\n",
        "repo = 'analysing_pii_leakage'\n",
        "mod_repo = 'pii_models'"
      ]
    },
    {
      "cell_type": "code",
      "source": [
        "!git clone https://{token}@github.com/{username}/{repo}"
      ],
      "metadata": {
        "colab": {
          "base_uri": "https://localhost:8080/"
        },
        "id": "rAhALp6e-DPz",
        "outputId": "fb2b4d54-d683-4b5d-fa1d-5a1c76a4d017"
      },
      "id": "rAhALp6e-DPz",
      "execution_count": null,
      "outputs": [
        {
          "output_type": "stream",
          "name": "stdout",
          "text": [
            "Cloning into 'analysing_pii_leakage'...\n",
            "remote: Enumerating objects: 374, done.\u001b[K\n",
            "remote: Counting objects: 100% (149/149), done.\u001b[K\n",
            "remote: Compressing objects: 100% (89/89), done.\u001b[K\n",
            "remote: Total 374 (delta 96), reused 91 (delta 60), pack-reused 225\u001b[K\n",
            "Receiving objects: 100% (374/374), 171.80 KiB | 8.18 MiB/s, done.\n",
            "Resolving deltas: 100% (174/174), done.\n"
          ]
        }
      ]
    },
    {
      "cell_type": "code",
      "source": [
        "%cd {repo}"
      ],
      "metadata": {
        "colab": {
          "base_uri": "https://localhost:8080/"
        },
        "id": "RC-SHfgj--c6",
        "outputId": "be2c5838-ab06-4086-f2f5-bef59e263a98"
      },
      "id": "RC-SHfgj--c6",
      "execution_count": null,
      "outputs": [
        {
          "output_type": "stream",
          "name": "stdout",
          "text": [
            "/content/analysing_pii_leakage\n"
          ]
        }
      ]
    },
    {
      "cell_type": "code",
      "source": [
        "!git clone https://{token}@github.com/{username}/{mod_repo}"
      ],
      "metadata": {
        "id": "0dAwqBJV88C6"
      },
      "id": "0dAwqBJV88C6",
      "execution_count": null,
      "outputs": []
    },
    {
      "cell_type": "code",
      "source": [
        "%ls"
      ],
      "metadata": {
        "colab": {
          "base_uri": "https://localhost:8080/"
        },
        "id": "sT8Em-Sm_AlT",
        "outputId": "71652e90-1422-44d0-857c-7e9106746bb3"
      },
      "id": "sT8Em-Sm_AlT",
      "execution_count": null,
      "outputs": [
        {
          "output_type": "stream",
          "name": "stdout",
          "text": [
            "clear_cache.py      \u001b[0m\u001b[01;34mexamples\u001b[0m/         README.md         setup.cfg  SUPPORT.md\n",
            "CODE_OF_CONDUCT.md  Experiment.ipynb  requirements.txt  setup.py\n",
            "\u001b[01;34mconfigs\u001b[0m/            LICENSE           SECURITY.md       \u001b[01;34msrc\u001b[0m/\n"
          ]
        }
      ]
    },
    {
      "cell_type": "code",
      "source": [
        "# !mv /content/Check_If_Two_String_Arrays_are_Equivalent.ipynb /content/LeetCode-HackerRank-Solutions-and-More/Solutions\n",
        "\n",
        "\n",
        "# !git status\n",
        "\n",
        "\n",
        "# !git add --all\n",
        "\n",
        "\n",
        "# !git commit -a -m \"Added a file to the LeetCode folder\"\n",
        "\n",
        "\n",
        "# !git remote -v\n",
        "\n",
        "\n",
        "# !git push origin master"
      ],
      "metadata": {
        "id": "MMCkoTL8_FkL"
      },
      "id": "MMCkoTL8_FkL",
      "execution_count": null,
      "outputs": []
    },
    {
      "cell_type": "markdown",
      "source": [
        "## set-up"
      ],
      "metadata": {
        "id": "9gTqc_mGBvcG"
      },
      "id": "9gTqc_mGBvcG"
    },
    {
      "cell_type": "code",
      "source": [
        "!python --version\n"
      ],
      "metadata": {
        "colab": {
          "base_uri": "https://localhost:8080/"
        },
        "id": "LfxfTm9D_3_j",
        "outputId": "9504cfe2-a2a3-4e47-c8ea-ef8c14c36524"
      },
      "id": "LfxfTm9D_3_j",
      "execution_count": null,
      "outputs": [
        {
          "output_type": "stream",
          "name": "stdout",
          "text": [
            "Python 3.10.12\n"
          ]
        }
      ]
    },
    {
      "cell_type": "code",
      "source": [
        "%env PYTHONUTF8=1\n"
      ],
      "metadata": {
        "colab": {
          "base_uri": "https://localhost:8080/"
        },
        "id": "MXLm7EMd_RVm",
        "outputId": "0f8b85ef-3c8a-42f4-b0bc-a6f7bc85fdb1"
      },
      "id": "MXLm7EMd_RVm",
      "execution_count": null,
      "outputs": [
        {
          "output_type": "stream",
          "name": "stdout",
          "text": [
            "env: PYTHONUTF8=1\n"
          ]
        }
      ]
    },
    {
      "cell_type": "code",
      "source": [
        "!pip install -e ."
      ],
      "metadata": {
        "id": "zj3UH1e4BswF",
        "outputId": "3384135b-fb05-4374-e09c-2ed7ef433048",
        "colab": {
          "base_uri": "https://localhost:8080/"
        }
      },
      "id": "zj3UH1e4BswF",
      "execution_count": null,
      "outputs": [
        {
          "output_type": "stream",
          "name": "stdout",
          "text": [
            "Obtaining file:///content/analysing_pii_leakage\n",
            "  Preparing metadata (setup.py) ... \u001b[?25l\u001b[?25hdone\n",
            "Collecting flair@ git+https://github.com/flairNLP/flair (from pii-leakage==0.1.0)\n",
            "  Cloning https://github.com/flairNLP/flair to /tmp/pip-install-ha4ihcow/flair_6ce47415fb264024ba8e12398377ad5e\n",
            "  Running command git clone --filter=blob:none --quiet https://github.com/flairNLP/flair /tmp/pip-install-ha4ihcow/flair_6ce47415fb264024ba8e12398377ad5e\n",
            "  Resolved https://github.com/flairNLP/flair to commit ddf3bb3e44f2a68b32d532ae5438d71c4125e4ab\n",
            "  Installing build dependencies ... \u001b[?25l\u001b[?25hdone\n",
            "  Getting requirements to build wheel ... \u001b[?25l\u001b[?25hdone\n",
            "  Preparing metadata (pyproject.toml) ... \u001b[?25l\u001b[?25hdone\n",
            "Collecting dp_transformers@ git+https://github.com/microsoft/dp-transformers.git@main#egg=dp_transformers (from pii-leakage==0.1.0)\n",
            "  Cloning https://github.com/microsoft/dp-transformers.git (to revision main) to /tmp/pip-install-ha4ihcow/dp-transformers_77e13baabd924c15be639b0f234da7f8\n",
            "  Running command git clone --filter=blob:none --quiet https://github.com/microsoft/dp-transformers.git /tmp/pip-install-ha4ihcow/dp-transformers_77e13baabd924c15be639b0f234da7f8\n",
            "  Resolved https://github.com/microsoft/dp-transformers.git to commit 70f1abbc84e2bee04bc6b9f15e5ce4783f025f00\n",
            "  Preparing metadata (setup.py) ... \u001b[?25l\u001b[?25hdone\n",
            "Collecting torch<2.0,>=1.10 (from pii-leakage==0.1.0)\n",
            "  Downloading torch-1.13.1-cp310-cp310-manylinux1_x86_64.whl (887.5 MB)\n",
            "\u001b[2K     \u001b[90m━━━━━━━━━━━━━━━━━━━━━━━━━━━━━━━━━━━━━━━━\u001b[0m \u001b[32m887.5/887.5 MB\u001b[0m \u001b[31m2.1 MB/s\u001b[0m eta \u001b[36m0:00:00\u001b[0m\n",
            "\u001b[?25hRequirement already satisfied: transformers in /usr/local/lib/python3.10/dist-packages (from pii-leakage==0.1.0) (4.35.2)\n",
            "Requirement already satisfied: tqdm in /usr/local/lib/python3.10/dist-packages (from pii-leakage==0.1.0) (4.66.1)\n",
            "Collecting opacus (from pii-leakage==0.1.0)\n",
            "  Downloading opacus-1.4.0-py3-none-any.whl (224 kB)\n",
            "\u001b[2K     \u001b[90m━━━━━━━━━━━━━━━━━━━━━━━━━━━━━━━━━━━━━━━━\u001b[0m \u001b[32m224.8/224.8 kB\u001b[0m \u001b[31m26.0 MB/s\u001b[0m eta \u001b[36m0:00:00\u001b[0m\n",
            "\u001b[?25hRequirement already satisfied: typing-extensions in /usr/local/lib/python3.10/dist-packages (from torch<2.0,>=1.10->pii-leakage==0.1.0) (4.5.0)\n",
            "Collecting nvidia-cuda-runtime-cu11==11.7.99 (from torch<2.0,>=1.10->pii-leakage==0.1.0)\n",
            "  Downloading nvidia_cuda_runtime_cu11-11.7.99-py3-none-manylinux1_x86_64.whl (849 kB)\n",
            "\u001b[2K     \u001b[90m━━━━━━━━━━━━━━━━━━━━━━━━━━━━━━━━━━━━━━━━\u001b[0m \u001b[32m849.3/849.3 kB\u001b[0m \u001b[31m64.7 MB/s\u001b[0m eta \u001b[36m0:00:00\u001b[0m\n",
            "\u001b[?25hCollecting nvidia-cudnn-cu11==8.5.0.96 (from torch<2.0,>=1.10->pii-leakage==0.1.0)\n",
            "  Downloading nvidia_cudnn_cu11-8.5.0.96-2-py3-none-manylinux1_x86_64.whl (557.1 MB)\n",
            "\u001b[2K     \u001b[90m━━━━━━━━━━━━━━━━━━━━━━━━━━━━━━━━━━━━━━━━\u001b[0m \u001b[32m557.1/557.1 MB\u001b[0m \u001b[31m2.6 MB/s\u001b[0m eta \u001b[36m0:00:00\u001b[0m\n",
            "\u001b[?25hCollecting nvidia-cublas-cu11==11.10.3.66 (from torch<2.0,>=1.10->pii-leakage==0.1.0)\n",
            "  Downloading nvidia_cublas_cu11-11.10.3.66-py3-none-manylinux1_x86_64.whl (317.1 MB)\n",
            "\u001b[2K     \u001b[90m━━━━━━━━━━━━━━━━━━━━━━━━━━━━━━━━━━━━━━━━\u001b[0m \u001b[32m317.1/317.1 MB\u001b[0m \u001b[31m2.8 MB/s\u001b[0m eta \u001b[36m0:00:00\u001b[0m\n",
            "\u001b[?25hCollecting nvidia-cuda-nvrtc-cu11==11.7.99 (from torch<2.0,>=1.10->pii-leakage==0.1.0)\n",
            "  Downloading nvidia_cuda_nvrtc_cu11-11.7.99-2-py3-none-manylinux1_x86_64.whl (21.0 MB)\n",
            "\u001b[2K     \u001b[90m━━━━━━━━━━━━━━━━━━━━━━━━━━━━━━━━━━━━━━━━\u001b[0m \u001b[32m21.0/21.0 MB\u001b[0m \u001b[31m71.3 MB/s\u001b[0m eta \u001b[36m0:00:00\u001b[0m\n",
            "\u001b[?25hRequirement already satisfied: setuptools in /usr/local/lib/python3.10/dist-packages (from nvidia-cublas-cu11==11.10.3.66->torch<2.0,>=1.10->pii-leakage==0.1.0) (67.7.2)\n",
            "Requirement already satisfied: wheel in /usr/local/lib/python3.10/dist-packages (from nvidia-cublas-cu11==11.10.3.66->torch<2.0,>=1.10->pii-leakage==0.1.0) (0.42.0)\n",
            "Collecting datasets>=2.0.0 (from dp_transformers@ git+https://github.com/microsoft/dp-transformers.git@main#egg=dp_transformers->pii-leakage==0.1.0)\n",
            "  Downloading datasets-2.15.0-py3-none-any.whl (521 kB)\n",
            "\u001b[2K     \u001b[90m━━━━━━━━━━━━━━━━━━━━━━━━━━━━━━━━━━━━━━━━\u001b[0m \u001b[32m521.2/521.2 kB\u001b[0m \u001b[31m46.7 MB/s\u001b[0m eta \u001b[36m0:00:00\u001b[0m\n",
            "\u001b[?25hCollecting peft (from dp_transformers@ git+https://github.com/microsoft/dp-transformers.git@main#egg=dp_transformers->pii-leakage==0.1.0)\n",
            "  Downloading peft-0.7.1-py3-none-any.whl (168 kB)\n",
            "\u001b[2K     \u001b[90m━━━━━━━━━━━━━━━━━━━━━━━━━━━━━━━━━━━━━━━━\u001b[0m \u001b[32m168.3/168.3 kB\u001b[0m \u001b[31m22.7 MB/s\u001b[0m eta \u001b[36m0:00:00\u001b[0m\n",
            "\u001b[?25hCollecting prv_accountant<0.2.0 (from dp_transformers@ git+https://github.com/microsoft/dp-transformers.git@main#egg=dp_transformers->pii-leakage==0.1.0)\n",
            "  Downloading prv_accountant-0.1.1.post1-py3-none-any.whl (13 kB)\n",
            "Requirement already satisfied: numpy>=1.15 in /usr/local/lib/python3.10/dist-packages (from opacus->pii-leakage==0.1.0) (1.23.5)\n",
            "Requirement already satisfied: scipy>=1.2 in /usr/local/lib/python3.10/dist-packages (from opacus->pii-leakage==0.1.0) (1.11.4)\n",
            "Requirement already satisfied: opt-einsum>=3.3.0 in /usr/local/lib/python3.10/dist-packages (from opacus->pii-leakage==0.1.0) (3.3.0)\n",
            "Requirement already satisfied: filelock in /usr/local/lib/python3.10/dist-packages (from transformers->pii-leakage==0.1.0) (3.13.1)\n",
            "Requirement already satisfied: huggingface-hub<1.0,>=0.16.4 in /usr/local/lib/python3.10/dist-packages (from transformers->pii-leakage==0.1.0) (0.19.4)\n",
            "Requirement already satisfied: packaging>=20.0 in /usr/local/lib/python3.10/dist-packages (from transformers->pii-leakage==0.1.0) (23.2)\n",
            "Requirement already satisfied: pyyaml>=5.1 in /usr/local/lib/python3.10/dist-packages (from transformers->pii-leakage==0.1.0) (6.0.1)\n",
            "Requirement already satisfied: regex!=2019.12.17 in /usr/local/lib/python3.10/dist-packages (from transformers->pii-leakage==0.1.0) (2023.6.3)\n",
            "Requirement already satisfied: requests in /usr/local/lib/python3.10/dist-packages (from transformers->pii-leakage==0.1.0) (2.31.0)\n",
            "Requirement already satisfied: tokenizers<0.19,>=0.14 in /usr/local/lib/python3.10/dist-packages (from transformers->pii-leakage==0.1.0) (0.15.0)\n",
            "Requirement already satisfied: safetensors>=0.3.1 in /usr/local/lib/python3.10/dist-packages (from transformers->pii-leakage==0.1.0) (0.4.1)\n",
            "Collecting boto3>=1.20.27 (from flair@ git+https://github.com/flairNLP/flair->pii-leakage==0.1.0)\n",
            "  Downloading boto3-1.34.3-py3-none-any.whl (139 kB)\n",
            "\u001b[2K     \u001b[90m━━━━━━━━━━━━━━━━━━━━━━━━━━━━━━━━━━━━━━━━\u001b[0m \u001b[32m139.3/139.3 kB\u001b[0m \u001b[31m19.6 MB/s\u001b[0m eta \u001b[36m0:00:00\u001b[0m\n",
            "\u001b[?25hCollecting bpemb>=0.3.2 (from flair@ git+https://github.com/flairNLP/flair->pii-leakage==0.1.0)\n",
            "  Downloading bpemb-0.3.4-py3-none-any.whl (19 kB)\n",
            "Collecting conllu>=4.0 (from flair@ git+https://github.com/flairNLP/flair->pii-leakage==0.1.0)\n",
            "  Downloading conllu-4.5.3-py2.py3-none-any.whl (16 kB)\n",
            "Collecting deprecated>=1.2.13 (from flair@ git+https://github.com/flairNLP/flair->pii-leakage==0.1.0)\n",
            "  Downloading Deprecated-1.2.14-py2.py3-none-any.whl (9.6 kB)\n",
            "Collecting ftfy>=6.1.0 (from flair@ git+https://github.com/flairNLP/flair->pii-leakage==0.1.0)\n",
            "  Downloading ftfy-6.1.3-py3-none-any.whl (53 kB)\n",
            "\u001b[2K     \u001b[90m━━━━━━━━━━━━━━━━━━━━━━━━━━━━━━━━━━━━━━━━\u001b[0m \u001b[32m53.4/53.4 kB\u001b[0m \u001b[31m7.8 MB/s\u001b[0m eta \u001b[36m0:00:00\u001b[0m\n",
            "\u001b[?25hRequirement already satisfied: gdown>=4.4.0 in /usr/local/lib/python3.10/dist-packages (from flair@ git+https://github.com/flairNLP/flair->pii-leakage==0.1.0) (4.6.6)\n",
            "Requirement already satisfied: gensim>=4.2.0 in /usr/local/lib/python3.10/dist-packages (from flair@ git+https://github.com/flairNLP/flair->pii-leakage==0.1.0) (4.3.2)\n",
            "Collecting janome>=0.4.2 (from flair@ git+https://github.com/flairNLP/flair->pii-leakage==0.1.0)\n",
            "  Downloading Janome-0.5.0-py2.py3-none-any.whl (19.7 MB)\n",
            "\u001b[2K     \u001b[90m━━━━━━━━━━━━━━━━━━━━━━━━━━━━━━━━━━━━━━━━\u001b[0m \u001b[32m19.7/19.7 MB\u001b[0m \u001b[31m73.7 MB/s\u001b[0m eta \u001b[36m0:00:00\u001b[0m\n",
            "\u001b[?25hCollecting langdetect>=1.0.9 (from flair@ git+https://github.com/flairNLP/flair->pii-leakage==0.1.0)\n",
            "  Downloading langdetect-1.0.9.tar.gz (981 kB)\n",
            "\u001b[2K     \u001b[90m━━━━━━━━━━━━━━━━━━━━━━━━━━━━━━━━━━━━━━━━\u001b[0m \u001b[32m981.5/981.5 kB\u001b[0m \u001b[31m71.3 MB/s\u001b[0m eta \u001b[36m0:00:00\u001b[0m\n",
            "\u001b[?25h  Preparing metadata (setup.py) ... \u001b[?25l\u001b[?25hdone\n",
            "Requirement already satisfied: lxml>=4.8.0 in /usr/local/lib/python3.10/dist-packages (from flair@ git+https://github.com/flairNLP/flair->pii-leakage==0.1.0) (4.9.3)\n",
            "Requirement already satisfied: matplotlib>=2.2.3 in /usr/local/lib/python3.10/dist-packages (from flair@ git+https://github.com/flairNLP/flair->pii-leakage==0.1.0) (3.7.1)\n",
            "Requirement already satisfied: more-itertools>=8.13.0 in /usr/local/lib/python3.10/dist-packages (from flair@ git+https://github.com/flairNLP/flair->pii-leakage==0.1.0) (10.1.0)\n",
            "Collecting mpld3>=0.3 (from flair@ git+https://github.com/flairNLP/flair->pii-leakage==0.1.0)\n",
            "  Downloading mpld3-0.5.9-py3-none-any.whl (201 kB)\n",
            "\u001b[2K     \u001b[90m━━━━━━━━━━━━━━━━━━━━━━━━━━━━━━━━━━━━━━━━\u001b[0m \u001b[32m201.2/201.2 kB\u001b[0m \u001b[31m26.5 MB/s\u001b[0m eta \u001b[36m0:00:00\u001b[0m\n",
            "\u001b[?25hCollecting pptree>=3.1 (from flair@ git+https://github.com/flairNLP/flair->pii-leakage==0.1.0)\n",
            "  Downloading pptree-3.1.tar.gz (3.0 kB)\n",
            "  Preparing metadata (setup.py) ... \u001b[?25l\u001b[?25hdone\n",
            "Requirement already satisfied: python-dateutil>=2.8.2 in /usr/local/lib/python3.10/dist-packages (from flair@ git+https://github.com/flairNLP/flair->pii-leakage==0.1.0) (2.8.2)\n",
            "Collecting pytorch-revgrad>=0.2.0 (from flair@ git+https://github.com/flairNLP/flair->pii-leakage==0.1.0)\n",
            "  Downloading pytorch_revgrad-0.2.0-py3-none-any.whl (4.6 kB)\n",
            "Requirement already satisfied: scikit-learn>=1.0.2 in /usr/local/lib/python3.10/dist-packages (from flair@ git+https://github.com/flairNLP/flair->pii-leakage==0.1.0) (1.2.2)\n",
            "Collecting segtok>=1.5.11 (from flair@ git+https://github.com/flairNLP/flair->pii-leakage==0.1.0)\n",
            "  Downloading segtok-1.5.11-py3-none-any.whl (24 kB)\n",
            "Collecting sqlitedict>=2.0.0 (from flair@ git+https://github.com/flairNLP/flair->pii-leakage==0.1.0)\n",
            "  Downloading sqlitedict-2.1.0.tar.gz (21 kB)\n",
            "  Preparing metadata (setup.py) ... \u001b[?25l\u001b[?25hdone\n",
            "Requirement already satisfied: tabulate>=0.8.10 in /usr/local/lib/python3.10/dist-packages (from flair@ git+https://github.com/flairNLP/flair->pii-leakage==0.1.0) (0.9.0)\n",
            "Collecting transformer-smaller-training-vocab>=0.2.3 (from flair@ git+https://github.com/flairNLP/flair->pii-leakage==0.1.0)\n",
            "  Downloading transformer_smaller_training_vocab-0.3.3-py3-none-any.whl (14 kB)\n",
            "Collecting urllib3<2.0.0,>=1.0.0 (from flair@ git+https://github.com/flairNLP/flair->pii-leakage==0.1.0)\n",
            "  Downloading urllib3-1.26.18-py2.py3-none-any.whl (143 kB)\n",
            "\u001b[2K     \u001b[90m━━━━━━━━━━━━━━━━━━━━━━━━━━━━━━━━━━━━━━━━\u001b[0m \u001b[32m143.8/143.8 kB\u001b[0m \u001b[31m20.3 MB/s\u001b[0m eta \u001b[36m0:00:00\u001b[0m\n",
            "\u001b[?25hCollecting wikipedia-api>=0.5.7 (from flair@ git+https://github.com/flairNLP/flair->pii-leakage==0.1.0)\n",
            "  Downloading Wikipedia_API-0.6.0-py3-none-any.whl (14 kB)\n",
            "Collecting semver<4.0.0,>=3.0.0 (from flair@ git+https://github.com/flairNLP/flair->pii-leakage==0.1.0)\n",
            "  Downloading semver-3.0.2-py3-none-any.whl (17 kB)\n",
            "Collecting botocore<1.35.0,>=1.34.3 (from boto3>=1.20.27->flair@ git+https://github.com/flairNLP/flair->pii-leakage==0.1.0)\n",
            "  Downloading botocore-1.34.3-py3-none-any.whl (11.8 MB)\n",
            "\u001b[2K     \u001b[90m━━━━━━━━━━━━━━━━━━━━━━━━━━━━━━━━━━━━━━━━\u001b[0m \u001b[32m11.8/11.8 MB\u001b[0m \u001b[31m110.5 MB/s\u001b[0m eta \u001b[36m0:00:00\u001b[0m\n",
            "\u001b[?25hCollecting jmespath<2.0.0,>=0.7.1 (from boto3>=1.20.27->flair@ git+https://github.com/flairNLP/flair->pii-leakage==0.1.0)\n",
            "  Downloading jmespath-1.0.1-py3-none-any.whl (20 kB)\n",
            "Collecting s3transfer<0.10.0,>=0.9.0 (from boto3>=1.20.27->flair@ git+https://github.com/flairNLP/flair->pii-leakage==0.1.0)\n",
            "  Downloading s3transfer-0.9.0-py3-none-any.whl (82 kB)\n",
            "\u001b[2K     \u001b[90m━━━━━━━━━━━━━━━━━━━━━━━━━━━━━━━━━━━━━━━━\u001b[0m \u001b[32m82.0/82.0 kB\u001b[0m \u001b[31m11.7 MB/s\u001b[0m eta \u001b[36m0:00:00\u001b[0m\n",
            "\u001b[?25hCollecting sentencepiece (from bpemb>=0.3.2->flair@ git+https://github.com/flairNLP/flair->pii-leakage==0.1.0)\n",
            "  Downloading sentencepiece-0.1.99-cp310-cp310-manylinux_2_17_x86_64.manylinux2014_x86_64.whl (1.3 MB)\n",
            "\u001b[2K     \u001b[90m━━━━━━━━━━━━━━━━━━━━━━━━━━━━━━━━━━━━━━━━\u001b[0m \u001b[32m1.3/1.3 MB\u001b[0m \u001b[31m80.5 MB/s\u001b[0m eta \u001b[36m0:00:00\u001b[0m\n",
            "\u001b[?25hRequirement already satisfied: pyarrow>=8.0.0 in /usr/local/lib/python3.10/dist-packages (from datasets>=2.0.0->dp_transformers@ git+https://github.com/microsoft/dp-transformers.git@main#egg=dp_transformers->pii-leakage==0.1.0) (10.0.1)\n",
            "Collecting pyarrow-hotfix (from datasets>=2.0.0->dp_transformers@ git+https://github.com/microsoft/dp-transformers.git@main#egg=dp_transformers->pii-leakage==0.1.0)\n",
            "  Downloading pyarrow_hotfix-0.6-py3-none-any.whl (7.9 kB)\n",
            "Collecting dill<0.3.8,>=0.3.0 (from datasets>=2.0.0->dp_transformers@ git+https://github.com/microsoft/dp-transformers.git@main#egg=dp_transformers->pii-leakage==0.1.0)\n",
            "  Downloading dill-0.3.7-py3-none-any.whl (115 kB)\n",
            "\u001b[2K     \u001b[90m━━━━━━━━━━━━━━━━━━━━━━━━━━━━━━━━━━━━━━━━\u001b[0m \u001b[32m115.3/115.3 kB\u001b[0m \u001b[31m16.3 MB/s\u001b[0m eta \u001b[36m0:00:00\u001b[0m\n",
            "\u001b[?25hRequirement already satisfied: pandas in /usr/local/lib/python3.10/dist-packages (from datasets>=2.0.0->dp_transformers@ git+https://github.com/microsoft/dp-transformers.git@main#egg=dp_transformers->pii-leakage==0.1.0) (1.5.3)\n",
            "Requirement already satisfied: xxhash in /usr/local/lib/python3.10/dist-packages (from datasets>=2.0.0->dp_transformers@ git+https://github.com/microsoft/dp-transformers.git@main#egg=dp_transformers->pii-leakage==0.1.0) (3.4.1)\n",
            "Collecting multiprocess (from datasets>=2.0.0->dp_transformers@ git+https://github.com/microsoft/dp-transformers.git@main#egg=dp_transformers->pii-leakage==0.1.0)\n",
            "  Downloading multiprocess-0.70.15-py310-none-any.whl (134 kB)\n",
            "\u001b[2K     \u001b[90m━━━━━━━━━━━━━━━━━━━━━━━━━━━━━━━━━━━━━━━━\u001b[0m \u001b[32m134.8/134.8 kB\u001b[0m \u001b[31m19.0 MB/s\u001b[0m eta \u001b[36m0:00:00\u001b[0m\n",
            "\u001b[?25hRequirement already satisfied: fsspec[http]<=2023.10.0,>=2023.1.0 in /usr/local/lib/python3.10/dist-packages (from datasets>=2.0.0->dp_transformers@ git+https://github.com/microsoft/dp-transformers.git@main#egg=dp_transformers->pii-leakage==0.1.0) (2023.6.0)\n",
            "Requirement already satisfied: aiohttp in /usr/local/lib/python3.10/dist-packages (from datasets>=2.0.0->dp_transformers@ git+https://github.com/microsoft/dp-transformers.git@main#egg=dp_transformers->pii-leakage==0.1.0) (3.9.1)\n",
            "Requirement already satisfied: wrapt<2,>=1.10 in /usr/local/lib/python3.10/dist-packages (from deprecated>=1.2.13->flair@ git+https://github.com/flairNLP/flair->pii-leakage==0.1.0) (1.14.1)\n",
            "Requirement already satisfied: wcwidth<0.3.0,>=0.2.12 in /usr/local/lib/python3.10/dist-packages (from ftfy>=6.1.0->flair@ git+https://github.com/flairNLP/flair->pii-leakage==0.1.0) (0.2.12)\n",
            "Requirement already satisfied: six in /usr/local/lib/python3.10/dist-packages (from gdown>=4.4.0->flair@ git+https://github.com/flairNLP/flair->pii-leakage==0.1.0) (1.16.0)\n",
            "Requirement already satisfied: beautifulsoup4 in /usr/local/lib/python3.10/dist-packages (from gdown>=4.4.0->flair@ git+https://github.com/flairNLP/flair->pii-leakage==0.1.0) (4.11.2)\n",
            "Requirement already satisfied: smart-open>=1.8.1 in /usr/local/lib/python3.10/dist-packages (from gensim>=4.2.0->flair@ git+https://github.com/flairNLP/flair->pii-leakage==0.1.0) (6.4.0)\n",
            "Requirement already satisfied: contourpy>=1.0.1 in /usr/local/lib/python3.10/dist-packages (from matplotlib>=2.2.3->flair@ git+https://github.com/flairNLP/flair->pii-leakage==0.1.0) (1.2.0)\n",
            "Requirement already satisfied: cycler>=0.10 in /usr/local/lib/python3.10/dist-packages (from matplotlib>=2.2.3->flair@ git+https://github.com/flairNLP/flair->pii-leakage==0.1.0) (0.12.1)\n",
            "Requirement already satisfied: fonttools>=4.22.0 in /usr/local/lib/python3.10/dist-packages (from matplotlib>=2.2.3->flair@ git+https://github.com/flairNLP/flair->pii-leakage==0.1.0) (4.46.0)\n",
            "Requirement already satisfied: kiwisolver>=1.0.1 in /usr/local/lib/python3.10/dist-packages (from matplotlib>=2.2.3->flair@ git+https://github.com/flairNLP/flair->pii-leakage==0.1.0) (1.4.5)\n",
            "Requirement already satisfied: pillow>=6.2.0 in /usr/local/lib/python3.10/dist-packages (from matplotlib>=2.2.3->flair@ git+https://github.com/flairNLP/flair->pii-leakage==0.1.0) (9.4.0)\n",
            "Requirement already satisfied: pyparsing>=2.3.1 in /usr/local/lib/python3.10/dist-packages (from matplotlib>=2.2.3->flair@ git+https://github.com/flairNLP/flair->pii-leakage==0.1.0) (3.1.1)\n",
            "Requirement already satisfied: jinja2 in /usr/local/lib/python3.10/dist-packages (from mpld3>=0.3->flair@ git+https://github.com/flairNLP/flair->pii-leakage==0.1.0) (3.1.2)\n",
            "Requirement already satisfied: charset-normalizer<4,>=2 in /usr/local/lib/python3.10/dist-packages (from requests->transformers->pii-leakage==0.1.0) (3.3.2)\n",
            "Requirement already satisfied: idna<4,>=2.5 in /usr/local/lib/python3.10/dist-packages (from requests->transformers->pii-leakage==0.1.0) (3.6)\n",
            "Requirement already satisfied: certifi>=2017.4.17 in /usr/local/lib/python3.10/dist-packages (from requests->transformers->pii-leakage==0.1.0) (2023.11.17)\n",
            "Requirement already satisfied: joblib>=1.1.1 in /usr/local/lib/python3.10/dist-packages (from scikit-learn>=1.0.2->flair@ git+https://github.com/flairNLP/flair->pii-leakage==0.1.0) (1.3.2)\n",
            "Requirement already satisfied: threadpoolctl>=2.0.0 in /usr/local/lib/python3.10/dist-packages (from scikit-learn>=1.0.2->flair@ git+https://github.com/flairNLP/flair->pii-leakage==0.1.0) (3.2.0)\n",
            "Requirement already satisfied: protobuf in /usr/local/lib/python3.10/dist-packages (from transformers->pii-leakage==0.1.0) (3.20.3)\n",
            "Requirement already satisfied: psutil in /usr/local/lib/python3.10/dist-packages (from peft->dp_transformers@ git+https://github.com/microsoft/dp-transformers.git@main#egg=dp_transformers->pii-leakage==0.1.0) (5.9.5)\n",
            "Collecting accelerate>=0.21.0 (from peft->dp_transformers@ git+https://github.com/microsoft/dp-transformers.git@main#egg=dp_transformers->pii-leakage==0.1.0)\n",
            "  Downloading accelerate-0.25.0-py3-none-any.whl (265 kB)\n",
            "\u001b[2K     \u001b[90m━━━━━━━━━━━━━━━━━━━━━━━━━━━━━━━━━━━━━━━━\u001b[0m \u001b[32m265.7/265.7 kB\u001b[0m \u001b[31m32.5 MB/s\u001b[0m eta \u001b[36m0:00:00\u001b[0m\n",
            "\u001b[?25hRequirement already satisfied: attrs>=17.3.0 in /usr/local/lib/python3.10/dist-packages (from aiohttp->datasets>=2.0.0->dp_transformers@ git+https://github.com/microsoft/dp-transformers.git@main#egg=dp_transformers->pii-leakage==0.1.0) (23.1.0)\n",
            "Requirement already satisfied: multidict<7.0,>=4.5 in /usr/local/lib/python3.10/dist-packages (from aiohttp->datasets>=2.0.0->dp_transformers@ git+https://github.com/microsoft/dp-transformers.git@main#egg=dp_transformers->pii-leakage==0.1.0) (6.0.4)\n",
            "Requirement already satisfied: yarl<2.0,>=1.0 in /usr/local/lib/python3.10/dist-packages (from aiohttp->datasets>=2.0.0->dp_transformers@ git+https://github.com/microsoft/dp-transformers.git@main#egg=dp_transformers->pii-leakage==0.1.0) (1.9.4)\n",
            "Requirement already satisfied: frozenlist>=1.1.1 in /usr/local/lib/python3.10/dist-packages (from aiohttp->datasets>=2.0.0->dp_transformers@ git+https://github.com/microsoft/dp-transformers.git@main#egg=dp_transformers->pii-leakage==0.1.0) (1.4.0)\n",
            "Requirement already satisfied: aiosignal>=1.1.2 in /usr/local/lib/python3.10/dist-packages (from aiohttp->datasets>=2.0.0->dp_transformers@ git+https://github.com/microsoft/dp-transformers.git@main#egg=dp_transformers->pii-leakage==0.1.0) (1.3.1)\n",
            "Requirement already satisfied: async-timeout<5.0,>=4.0 in /usr/local/lib/python3.10/dist-packages (from aiohttp->datasets>=2.0.0->dp_transformers@ git+https://github.com/microsoft/dp-transformers.git@main#egg=dp_transformers->pii-leakage==0.1.0) (4.0.3)\n",
            "Requirement already satisfied: soupsieve>1.2 in /usr/local/lib/python3.10/dist-packages (from beautifulsoup4->gdown>=4.4.0->flair@ git+https://github.com/flairNLP/flair->pii-leakage==0.1.0) (2.5)\n",
            "Requirement already satisfied: MarkupSafe>=2.0 in /usr/local/lib/python3.10/dist-packages (from jinja2->mpld3>=0.3->flair@ git+https://github.com/flairNLP/flair->pii-leakage==0.1.0) (2.1.3)\n",
            "Requirement already satisfied: pytz>=2020.1 in /usr/local/lib/python3.10/dist-packages (from pandas->datasets>=2.0.0->dp_transformers@ git+https://github.com/microsoft/dp-transformers.git@main#egg=dp_transformers->pii-leakage==0.1.0) (2023.3.post1)\n",
            "Requirement already satisfied: PySocks!=1.5.7,>=1.5.6 in /usr/local/lib/python3.10/dist-packages (from requests->transformers->pii-leakage==0.1.0) (1.7.1)\n",
            "Building wheels for collected packages: dp_transformers, flair, langdetect, pptree, sqlitedict\n",
            "  Building wheel for dp_transformers (setup.py) ... \u001b[?25l\u001b[?25hdone\n",
            "  Created wheel for dp_transformers: filename=dp_transformers-1.0.1-py3-none-any.whl size=13940 sha256=ca182b0cd1d0886ae16e67dfcb9de4d2d195e72d59c2d072fb1851844d66b14a\n",
            "  Stored in directory: /tmp/pip-ephem-wheel-cache-m98wf1zh/wheels/1c/75/2f/807887690881d9f539a452fa76715f242f7adf97b5735c74cf\n",
            "  Building wheel for flair (pyproject.toml) ... \u001b[?25l\u001b[?25hdone\n",
            "  Created wheel for flair: filename=flair-0.13.1-py3-none-any.whl size=387857 sha256=21039a54e3ed15b9ea493cbf6dc9c2cbba99af1f9a153b2485ac6ecd0ef5ae1e\n",
            "  Stored in directory: /tmp/pip-ephem-wheel-cache-m98wf1zh/wheels/f1/44/f7/f83748b4cb09d18f413dfd2f23c765c2e45898cdb64674601c\n",
            "  Building wheel for langdetect (setup.py) ... \u001b[?25l\u001b[?25hdone\n",
            "  Created wheel for langdetect: filename=langdetect-1.0.9-py3-none-any.whl size=993225 sha256=674892bfe5bd868c7a38499f3d9a4b9fa5e2d70260791f192950c974eb9143e2\n",
            "  Stored in directory: /root/.cache/pip/wheels/95/03/7d/59ea870c70ce4e5a370638b5462a7711ab78fba2f655d05106\n",
            "  Building wheel for pptree (setup.py) ... \u001b[?25l\u001b[?25hdone\n",
            "  Created wheel for pptree: filename=pptree-3.1-py3-none-any.whl size=4608 sha256=8ab4a0c265061ad91d2414f28897a93dc407875d285d31f0b5dbb9ff66408a52\n",
            "  Stored in directory: /root/.cache/pip/wheels/9f/b6/0e/6f26eb9e6eb53ff2107a7888d72b5a6a597593956113037828\n",
            "  Building wheel for sqlitedict (setup.py) ... \u001b[?25l\u001b[?25hdone\n",
            "  Created wheel for sqlitedict: filename=sqlitedict-2.1.0-py3-none-any.whl size=16863 sha256=db97361c635299a4da5e4d2d68e320bef9bd3d8e9dab5a861553cbf117a7b441\n",
            "  Stored in directory: /root/.cache/pip/wheels/79/d6/e7/304e0e6cb2221022c26d8161f7c23cd4f259a9e41e8bbcfabd\n",
            "Successfully built dp_transformers flair langdetect pptree sqlitedict\n",
            "Installing collected packages: sqlitedict, sentencepiece, pptree, janome, urllib3, semver, segtok, pyarrow-hotfix, nvidia-cuda-runtime-cu11, nvidia-cuda-nvrtc-cu11, nvidia-cublas-cu11, langdetect, jmespath, ftfy, dill, deprecated, conllu, prv_accountant, nvidia-cudnn-cu11, multiprocess, botocore, wikipedia-api, torch, s3transfer, mpld3, bpemb, pytorch-revgrad, opacus, datasets, boto3, accelerate, peft, transformer-smaller-training-vocab, dp_transformers, flair, pii-leakage\n",
            "  Attempting uninstall: urllib3\n",
            "    Found existing installation: urllib3 2.0.7\n",
            "    Uninstalling urllib3-2.0.7:\n",
            "      Successfully uninstalled urllib3-2.0.7\n",
            "  Attempting uninstall: torch\n",
            "    Found existing installation: torch 2.1.0+cu121\n",
            "    Uninstalling torch-2.1.0+cu121:\n",
            "      Successfully uninstalled torch-2.1.0+cu121\n",
            "  Running setup.py develop for pii-leakage\n",
            "\u001b[31mERROR: pip's dependency resolver does not currently take into account all the packages that are installed. This behaviour is the source of the following dependency conflicts.\n",
            "torchaudio 2.1.0+cu121 requires torch==2.1.0, but you have torch 1.13.1 which is incompatible.\n",
            "torchdata 0.7.0 requires torch==2.1.0, but you have torch 1.13.1 which is incompatible.\n",
            "torchtext 0.16.0 requires torch==2.1.0, but you have torch 1.13.1 which is incompatible.\n",
            "torchvision 0.16.0+cu121 requires torch==2.1.0, but you have torch 1.13.1 which is incompatible.\u001b[0m\u001b[31m\n",
            "\u001b[0mSuccessfully installed accelerate-0.25.0 boto3-1.34.3 botocore-1.34.3 bpemb-0.3.4 conllu-4.5.3 datasets-2.15.0 deprecated-1.2.14 dill-0.3.7 dp_transformers-1.0.1 flair-0.13.1 ftfy-6.1.3 janome-0.5.0 jmespath-1.0.1 langdetect-1.0.9 mpld3-0.5.9 multiprocess-0.70.15 nvidia-cublas-cu11-11.10.3.66 nvidia-cuda-nvrtc-cu11-11.7.99 nvidia-cuda-runtime-cu11-11.7.99 nvidia-cudnn-cu11-8.5.0.96 opacus-1.4.0 peft-0.7.1 pii-leakage-0.1.0 pptree-3.1 prv_accountant-0.1.1.post1 pyarrow-hotfix-0.6 pytorch-revgrad-0.2.0 s3transfer-0.9.0 segtok-1.5.11 semver-3.0.2 sentencepiece-0.1.99 sqlitedict-2.1.0 torch-1.13.1 transformer-smaller-training-vocab-0.3.3 urllib3-1.26.18 wikipedia-api-0.6.0\n"
          ]
        }
      ]
    },
    {
      "cell_type": "code",
      "source": [
        "!pwd\n"
      ],
      "metadata": {
        "id": "iIGqdeg1B-ej",
        "outputId": "a4ff96be-163c-454c-f765-e588e620ec48",
        "colab": {
          "base_uri": "https://localhost:8080/"
        }
      },
      "id": "iIGqdeg1B-ej",
      "execution_count": null,
      "outputs": [
        {
          "output_type": "stream",
          "name": "stdout",
          "text": [
            "/content/analysing_pii_leakage\n"
          ]
        }
      ]
    },
    {
      "cell_type": "code",
      "source": [
        "!pip install torch==1.13.1+cu117 torchvision==0.14.1+cu117 torchaudio==0.13.1 --extra-index-url https://download.pytorch.org/whl/cu117"
      ],
      "metadata": {
        "colab": {
          "base_uri": "https://localhost:8080/"
        },
        "id": "pJFv6eV6Ddv4",
        "outputId": "241cce7b-e1ad-4419-aad7-4ae8d9252782"
      },
      "id": "pJFv6eV6Ddv4",
      "execution_count": null,
      "outputs": [
        {
          "output_type": "stream",
          "name": "stdout",
          "text": [
            "Looking in indexes: https://pypi.org/simple, https://download.pytorch.org/whl/cu117\n",
            "Collecting torch==1.13.1+cu117\n",
            "  Downloading https://download.pytorch.org/whl/cu117/torch-1.13.1%2Bcu117-cp310-cp310-linux_x86_64.whl (1801.8 MB)\n",
            "\u001b[2K     \u001b[90m━━━━━━━━━━━━━━━━━━━━━━━━━━━━━━━━━━━━━━━━\u001b[0m \u001b[32m1.8/1.8 GB\u001b[0m \u001b[31m1.1 MB/s\u001b[0m eta \u001b[36m0:00:00\u001b[0m\n",
            "\u001b[?25hCollecting torchvision==0.14.1+cu117\n",
            "  Downloading https://download.pytorch.org/whl/cu117/torchvision-0.14.1%2Bcu117-cp310-cp310-linux_x86_64.whl (24.3 MB)\n",
            "\u001b[2K     \u001b[90m━━━━━━━━━━━━━━━━━━━━━━━━━━━━━━━━━━━━━━━━\u001b[0m \u001b[32m24.3/24.3 MB\u001b[0m \u001b[31m60.6 MB/s\u001b[0m eta \u001b[36m0:00:00\u001b[0m\n",
            "\u001b[?25hCollecting torchaudio==0.13.1\n",
            "  Downloading https://download.pytorch.org/whl/cu117/torchaudio-0.13.1%2Bcu117-cp310-cp310-linux_x86_64.whl (4.2 MB)\n",
            "\u001b[2K     \u001b[90m━━━━━━━━━━━━━━━━━━━━━━━━━━━━━━━━━━━━━━━━\u001b[0m \u001b[32m4.2/4.2 MB\u001b[0m \u001b[31m97.6 MB/s\u001b[0m eta \u001b[36m0:00:00\u001b[0m\n",
            "\u001b[?25hRequirement already satisfied: typing-extensions in /usr/local/lib/python3.10/dist-packages (from torch==1.13.1+cu117) (4.5.0)\n",
            "Requirement already satisfied: numpy in /usr/local/lib/python3.10/dist-packages (from torchvision==0.14.1+cu117) (1.23.5)\n",
            "Requirement already satisfied: requests in /usr/local/lib/python3.10/dist-packages (from torchvision==0.14.1+cu117) (2.31.0)\n",
            "Requirement already satisfied: pillow!=8.3.*,>=5.3.0 in /usr/local/lib/python3.10/dist-packages (from torchvision==0.14.1+cu117) (9.4.0)\n",
            "Requirement already satisfied: charset-normalizer<4,>=2 in /usr/local/lib/python3.10/dist-packages (from requests->torchvision==0.14.1+cu117) (3.3.2)\n",
            "Requirement already satisfied: idna<4,>=2.5 in /usr/local/lib/python3.10/dist-packages (from requests->torchvision==0.14.1+cu117) (3.6)\n",
            "Requirement already satisfied: urllib3<3,>=1.21.1 in /usr/local/lib/python3.10/dist-packages (from requests->torchvision==0.14.1+cu117) (1.26.18)\n",
            "Requirement already satisfied: certifi>=2017.4.17 in /usr/local/lib/python3.10/dist-packages (from requests->torchvision==0.14.1+cu117) (2023.11.17)\n",
            "Installing collected packages: torch, torchvision, torchaudio\n",
            "  Attempting uninstall: torch\n",
            "    Found existing installation: torch 1.13.1\n",
            "    Uninstalling torch-1.13.1:\n",
            "      Successfully uninstalled torch-1.13.1\n",
            "  Attempting uninstall: torchvision\n",
            "    Found existing installation: torchvision 0.16.0+cu121\n",
            "    Uninstalling torchvision-0.16.0+cu121:\n",
            "      Successfully uninstalled torchvision-0.16.0+cu121\n",
            "  Attempting uninstall: torchaudio\n",
            "    Found existing installation: torchaudio 2.1.0+cu121\n",
            "    Uninstalling torchaudio-2.1.0+cu121:\n",
            "      Successfully uninstalled torchaudio-2.1.0+cu121\n",
            "\u001b[31mERROR: pip's dependency resolver does not currently take into account all the packages that are installed. This behaviour is the source of the following dependency conflicts.\n",
            "torchdata 0.7.0 requires torch==2.1.0, but you have torch 1.13.1+cu117 which is incompatible.\n",
            "torchtext 0.16.0 requires torch==2.1.0, but you have torch 1.13.1+cu117 which is incompatible.\u001b[0m\u001b[31m\n",
            "\u001b[0mSuccessfully installed torch-1.13.1+cu117 torchaudio-0.13.1+cu117 torchvision-0.14.1+cu117\n"
          ]
        }
      ]
    },
    {
      "cell_type": "code",
      "source": [
        "%cd examples\n"
      ],
      "metadata": {
        "id": "PIppegJvEw8x",
        "outputId": "cac765a0-45ff-4808-ffc8-3a54245ebeb7",
        "colab": {
          "base_uri": "https://localhost:8080/"
        }
      },
      "id": "PIppegJvEw8x",
      "execution_count": null,
      "outputs": [
        {
          "output_type": "stream",
          "name": "stdout",
          "text": [
            "/content/analysing_pii_leakage/examples\n"
          ]
        }
      ]
    },
    {
      "cell_type": "code",
      "source": [
        "!python fine_tune.py --config_path ../configs/fine-tune/MG03_config.yml\n"
      ],
      "metadata": {
        "id": "zfxYWjiGE5OY",
        "outputId": "745e802f-c4e2-4067-b8d8-7730ad6d9787",
        "colab": {
          "base_uri": "https://localhost:8080/"
        }
      },
      "id": "zfxYWjiGE5OY",
      "execution_count": null,
      "outputs": [
        {
          "output_type": "stream",
          "name": "stdout",
          "text": [
            "2023-12-19 05:42:52.289346: E external/local_xla/xla/stream_executor/cuda/cuda_dnn.cc:9261] Unable to register cuDNN factory: Attempting to register factory for plugin cuDNN when one has already been registered\n",
            "2023-12-19 05:42:52.289402: E external/local_xla/xla/stream_executor/cuda/cuda_fft.cc:607] Unable to register cuFFT factory: Attempting to register factory for plugin cuFFT when one has already been registered\n",
            "2023-12-19 05:42:52.290725: E external/local_xla/xla/stream_executor/cuda/cuda_blas.cc:1515] Unable to register cuBLAS factory: Attempting to register factory for plugin cuBLAS when one has already been registered\n",
            "2023-12-19 05:42:53.463650: W tensorflow/compiler/tf2tensorrt/utils/py_utils.cc:38] TF-TRT Warning: Could not find TensorRT\n",
            "\n",
            "\u001b[92m\n",
            "eps_error       : 0.1000\n",
            "lora_alpha      : 32\n",
            "lora_dim        : 0\n",
            "lora_dropout    : 0.0000\n",
            "max_grad_norm_dp: 1.0000\n",
            "no_accountant   : False\n",
            "noise_multiplier: None\n",
            "target_delta    : None\n",
            "target_epsilon  : 8\n",
            "\u001b[0m\n",
            "\n",
            "> Loading a public, pre-trained gpt2 model.\n",
            "config.json: 100% 665/665 [00:00<00:00, 4.60MB/s]\n",
            "model.safetensors: 100% 548M/548M [00:01<00:00, 431MB/s]\n",
            "generation_config.json: 100% 124/124 [00:00<00:00, 637kB/s]\n",
            "vocab.json: 100% 1.04M/1.04M [00:00<00:00, 3.14MB/s]\n",
            "merges.txt: 100% 456k/456k [00:00<00:00, 41.1MB/s]\n",
            "tokenizer.json: 100% 1.36M/1.36M [00:00<00:00, 3.33MB/s]\n",
            "pytorch_model.bin: 100% 2.24G/2.24G [00:08<00:00, 259MB/s]\n",
            "config.json: 100% 616/616 [00:00<00:00, 4.34MB/s]\n",
            "sentencepiece.bpe.model: 100% 5.07M/5.07M [00:00<00:00, 8.84MB/s]\n",
            "tokenizer.json: 100% 9.10M/9.10M [00:00<00:00, 13.6MB/s]\n",
            "2023-12-19 05:43:27,711 SequenceTagger predicts: Dictionary with 76 tags: <unk>, O, B-CARDINAL, E-CARDINAL, S-PERSON, S-CARDINAL, S-PRODUCT, B-PRODUCT, I-PRODUCT, E-PRODUCT, B-WORK_OF_ART, I-WORK_OF_ART, E-WORK_OF_ART, B-PERSON, E-PERSON, S-GPE, B-DATE, I-DATE, E-DATE, S-ORDINAL, S-LANGUAGE, I-PERSON, S-EVENT, S-DATE, B-QUANTITY, E-QUANTITY, S-TIME, B-TIME, I-TIME, E-TIME, B-GPE, E-GPE, S-ORG, I-GPE, S-NORP, B-FAC, I-FAC, E-FAC, B-NORP, E-NORP, S-PERCENT, B-ORG, E-ORG, B-LANGUAGE, E-LANGUAGE, I-CARDINAL, I-ORG, S-WORK_OF_ART, I-QUANTITY, B-MONEY\n",
            "\n",
            "\u001b[92m\n",
            "anon_token   : <MASK>\n",
            "anonymize    : False\n",
            "ner          : flair\n",
            "ner_model    : flair/ner-english-ontonotes-large\n",
            "tag_n_batches: 10000\n",
            "\u001b[0m\n",
            "\n",
            "Downloading builder script: 100% 8.61k/8.61k [00:00<00:00, 30.8MB/s]\n",
            "Downloading metadata: 100% 4.57k/4.57k [00:00<00:00, 23.0MB/s]\n",
            "Downloading readme: 100% 13.9k/13.9k [00:00<00:00, 40.0MB/s]\n",
            "Downloading data: 100% 32.8M/32.8M [00:02<00:00, 12.5MB/s]\n",
            "Generating train split: 100% 9000/9000 [00:01<00:00, 4618.35 examples/s]\n",
            "Generating test split: 100% 1000/1000 [00:00<00:00, 4055.41 examples/s]\n",
            "Generating validation split: 100% 1000/1000 [00:00<00:00, 4024.53 examples/s]\n",
            "Generating train split: 0 examples [00:00, ? examples/s]\n",
            "\u001b[92m\n",
            "Length of data: 262580. Scrubbing from 0 to 118161 (Total=118161).\n",
            "\u001b[0m\n",
            "\n",
            "\n",
            "\u001b[92m\n",
            "72.  On 23 October 2000 the Aliens Office informed the applicant’s lawyer that the time-limit had been extended until such time as the applicant and his child were fully recovered.\n",
            "\u001b[0m\n",
            "\n",
            "Generating train split: 118161 examples [1:02:32, 31.49 examples/s]\n",
            "Generating test split: 0 examples [00:00, ? examples/s]\n",
            "\u001b[92m\n",
            "Length of data: 262580. Scrubbing from 118161 to 144419 (Total=26258).\n",
            "\u001b[0m\n",
            "\n",
            "\n",
            "\u001b[92m\n",
            "7.  The applicant was the owner of three plots of land in the village of Ayios Tychonas in the district of Limassol (plots nos. 148, 137 and 137/1). These plots were classified under the Antiquities Law as being of archaeological importance and were within the ambit of a town planning zone subject to building restrictions for the purpose of protecting antiquities in the area.\n",
            "\u001b[0m\n",
            "\n",
            "Generating test split: 26258 examples [13:57, 31.36 examples/s]\n",
            "Generating validation split: 0 examples [00:00, ? examples/s]\n",
            "\u001b[92m\n",
            "Length of data: 262580. Scrubbing from 144419 to 262580 (Total=118161).\n",
            "\u001b[0m\n",
            "\n",
            "\n",
            "\u001b[92m\n",
            "9.  On 18 March 2004 the applicant was ordered not to leave town.\n",
            "\u001b[0m\n",
            "\n",
            "Generating validation split: 95107 examples [49:36, 30.87 examples/s]"
          ]
        }
      ]
    },
    {
      "cell_type": "code",
      "source": [],
      "metadata": {
        "id": "-aoM4dGHVS5E"
      },
      "id": "-aoM4dGHVS5E",
      "execution_count": null,
      "outputs": []
    },
    {
      "cell_type": "code",
      "source": [],
      "metadata": {
        "id": "LdKG4w4XTBZ1"
      },
      "id": "LdKG4w4XTBZ1",
      "execution_count": null,
      "outputs": []
    },
    {
      "cell_type": "code",
      "source": [],
      "metadata": {
        "id": "t1R_wZE2FIg6"
      },
      "id": "t1R_wZE2FIg6",
      "execution_count": null,
      "outputs": []
    }
  ],
  "metadata": {
    "kernelspec": {
      "display_name": "Python 3",
      "name": "python3"
    },
    "language_info": {
      "codemirror_mode": {
        "name": "ipython",
        "version": 3
      },
      "file_extension": ".py",
      "mimetype": "text/x-python",
      "name": "python",
      "nbconvert_exporter": "python",
      "pygments_lexer": "ipython3",
      "version": "3.11.4"
    },
    "colab": {
      "provenance": [],
      "gpuType": "V100",
      "machine_shape": "hm"
    },
    "accelerator": "GPU"
  },
  "nbformat": 4,
  "nbformat_minor": 5
}