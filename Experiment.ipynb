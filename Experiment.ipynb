{
  "cells": [
    {
      "cell_type": "code",
      "execution_count": 2,
      "id": "71628f18",
      "metadata": {
        "id": "71628f18"
      },
      "outputs": [],
      "source": [
        "!git config --global user.name \"HurricaHjz\"\n",
        "!git config --global user.email \"jerryzmj4210@gmail.com\"\n",
        "!git config --global user.password \"jerryzmj021226.\""
      ]
    },
    {
      "cell_type": "code",
      "execution_count": 3,
      "id": "171fc6ed",
      "metadata": {
        "id": "171fc6ed"
      },
      "outputs": [],
      "source": [
        "token = 'ilovellm'\n",
        "username = 'HurricaHjz'\n",
        "repo = 'analysing_pii_leakage'"
      ]
    },
    {
      "cell_type": "code",
      "source": [
        "!git clone https://{token}@github.com/{username}/{repo}"
      ],
      "metadata": {
        "id": "rAhALp6e-DPz",
        "outputId": "1df4da02-4c9c-4b2e-ac1c-f4ed6486aa0d",
        "colab": {
          "base_uri": "https://localhost:8080/"
        }
      },
      "id": "rAhALp6e-DPz",
      "execution_count": 4,
      "outputs": [
        {
          "output_type": "stream",
          "name": "stdout",
          "text": [
            "Cloning into 'analysing_pii_leakage'...\n",
            "remote: Enumerating objects: 265, done.\u001b[K\n",
            "remote: Counting objects: 100% (265/265), done.\u001b[K\n",
            "remote: Compressing objects: 100% (199/199), done.\u001b[K\n",
            "remote: Total 265 (delta 114), reused 193 (delta 60), pack-reused 0\u001b[K\n",
            "Receiving objects: 100% (265/265), 93.50 KiB | 1.73 MiB/s, done.\n",
            "Resolving deltas: 100% (114/114), done.\n"
          ]
        }
      ]
    },
    {
      "cell_type": "code",
      "source": [
        "%cd {repo}"
      ],
      "metadata": {
        "id": "RC-SHfgj--c6",
        "outputId": "690426f5-947c-4ca6-b072-85deaaa5f316",
        "colab": {
          "base_uri": "https://localhost:8080/"
        }
      },
      "id": "RC-SHfgj--c6",
      "execution_count": 5,
      "outputs": [
        {
          "output_type": "stream",
          "name": "stdout",
          "text": [
            "/content/analysing_pii_leakage\n"
          ]
        }
      ]
    },
    {
      "cell_type": "code",
      "source": [
        "%ls"
      ],
      "metadata": {
        "id": "sT8Em-Sm_AlT",
        "outputId": "0edacfc8-c2b7-4e5b-c3fa-57fbd79c3673",
        "colab": {
          "base_uri": "https://localhost:8080/"
        }
      },
      "id": "sT8Em-Sm_AlT",
      "execution_count": 6,
      "outputs": [
        {
          "output_type": "stream",
          "name": "stdout",
          "text": [
            "CODE_OF_CONDUCT.md  \u001b[0m\u001b[01;34mexamples\u001b[0m/         LICENSE    requirements.txt  setup.cfg  \u001b[01;34msrc\u001b[0m/\n",
            "\u001b[01;34mconfigs\u001b[0m/            Experiment.ipynb  README.md  SECURITY.md       setup.py   SUPPORT.md\n"
          ]
        }
      ]
    },
    {
      "cell_type": "code",
      "source": [
        "# !mv /content/Check_If_Two_String_Arrays_are_Equivalent.ipynb /content/LeetCode-HackerRank-Solutions-and-More/Solutions\n",
        "\n",
        "\n",
        "# !git status\n",
        "\n",
        "\n",
        "# !git add --all\n",
        "\n",
        "\n",
        "# !git commit -a -m \"Added a file to the LeetCode folder\"\n",
        "\n",
        "\n",
        "# !git remote -v\n",
        "\n",
        "\n",
        "# !git push origin master"
      ],
      "metadata": {
        "id": "MMCkoTL8_FkL"
      },
      "id": "MMCkoTL8_FkL",
      "execution_count": null,
      "outputs": []
    },
    {
      "cell_type": "code",
      "source": [],
      "metadata": {
        "id": "LfxfTm9D_3_j"
      },
      "id": "LfxfTm9D_3_j",
      "execution_count": null,
      "outputs": []
    },
    {
      "cell_type": "code",
      "source": [],
      "metadata": {
        "id": "MXLm7EMd_RVm"
      },
      "id": "MXLm7EMd_RVm",
      "execution_count": null,
      "outputs": []
    }
  ],
  "metadata": {
    "kernelspec": {
      "display_name": "Python 3",
      "name": "python3"
    },
    "language_info": {
      "codemirror_mode": {
        "name": "ipython",
        "version": 3
      },
      "file_extension": ".py",
      "mimetype": "text/x-python",
      "name": "python",
      "nbconvert_exporter": "python",
      "pygments_lexer": "ipython3",
      "version": "3.11.4"
    },
    "colab": {
      "provenance": [],
      "toc_visible": true,
      "gpuType": "T4"
    },
    "accelerator": "GPU"
  },
  "nbformat": 4,
  "nbformat_minor": 5
}