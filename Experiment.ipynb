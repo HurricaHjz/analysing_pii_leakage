{
  "cells": [
    {
      "cell_type": "markdown",
      "source": [
        "## Git config"
      ],
      "metadata": {
        "id": "wOtAOGSyB0KR"
      },
      "id": "wOtAOGSyB0KR"
    },
    {
      "cell_type": "code",
      "execution_count": 1,
      "id": "71628f18",
      "metadata": {
        "id": "71628f18"
      },
      "outputs": [],
      "source": [
        "!git config --global user.name \"HurricaHjz\"\n",
        "!git config --global user.email \"jerryzmj4210@gmail.com\"\n",
        "!git config --global user.password \"jerryzmj021226.\""
      ]
    },
    {
      "cell_type": "code",
      "execution_count": 2,
      "id": "171fc6ed",
      "metadata": {
        "id": "171fc6ed"
      },
      "outputs": [],
      "source": [
        "token = 'ilovellm'\n",
        "username = 'HurricaHjz'\n",
        "repo = 'analysing_pii_leakage'"
      ]
    },
    {
      "cell_type": "code",
      "source": [
        "!git clone https://{token}@github.com/{username}/{repo}"
      ],
      "metadata": {
        "colab": {
          "base_uri": "https://localhost:8080/"
        },
        "id": "rAhALp6e-DPz",
        "outputId": "04cd765e-59b0-4348-ad4f-a2b8a04f4094"
      },
      "id": "rAhALp6e-DPz",
      "execution_count": 3,
      "outputs": [
        {
          "output_type": "stream",
          "name": "stdout",
          "text": [
            "Cloning into 'analysing_pii_leakage'...\n",
            "remote: Enumerating objects: 347, done.\u001b[K\n",
            "remote: Counting objects: 100% (122/122), done.\u001b[K\n",
            "remote: Compressing objects: 100% (69/69), done.\u001b[K\n",
            "remote: Total 347 (delta 78), reused 78 (delta 53), pack-reused 225\u001b[K\n",
            "Receiving objects: 100% (347/347), 158.08 KiB | 8.32 MiB/s, done.\n",
            "Resolving deltas: 100% (156/156), done.\n"
          ]
        }
      ]
    },
    {
      "cell_type": "code",
      "source": [
        "%cd {repo}"
      ],
      "metadata": {
        "colab": {
          "base_uri": "https://localhost:8080/"
        },
        "id": "RC-SHfgj--c6",
        "outputId": "01887636-6427-4f66-dca1-3b0eb918a3da"
      },
      "id": "RC-SHfgj--c6",
      "execution_count": 4,
      "outputs": [
        {
          "output_type": "stream",
          "name": "stdout",
          "text": [
            "/content/analysing_pii_leakage\n"
          ]
        }
      ]
    },
    {
      "cell_type": "code",
      "source": [
        "%ls"
      ],
      "metadata": {
        "colab": {
          "base_uri": "https://localhost:8080/"
        },
        "id": "sT8Em-Sm_AlT",
        "outputId": "f0a85f59-707d-4125-e1b7-ae88f902d889"
      },
      "id": "sT8Em-Sm_AlT",
      "execution_count": 5,
      "outputs": [
        {
          "output_type": "stream",
          "name": "stdout",
          "text": [
            "clear_cache.py      \u001b[0m\u001b[01;34mexamples\u001b[0m/         \u001b[01;34mpii_models\u001b[0m/       SECURITY.md  \u001b[01;34msrc\u001b[0m/\n",
            "CODE_OF_CONDUCT.md  Experiment.ipynb  README.md         setup.cfg    SUPPORT.md\n",
            "\u001b[01;34mconfigs\u001b[0m/            LICENSE           requirements.txt  setup.py\n"
          ]
        }
      ]
    },
    {
      "cell_type": "code",
      "source": [
        "# !mv /content/Check_If_Two_String_Arrays_are_Equivalent.ipynb /content/LeetCode-HackerRank-Solutions-and-More/Solutions\n",
        "\n",
        "\n",
        "# !git status\n",
        "\n",
        "\n",
        "# !git add --all\n",
        "\n",
        "\n",
        "# !git commit -a -m \"Added a file to the LeetCode folder\"\n",
        "\n",
        "\n",
        "# !git remote -v\n",
        "\n",
        "\n",
        "# !git push origin master"
      ],
      "metadata": {
        "id": "MMCkoTL8_FkL"
      },
      "id": "MMCkoTL8_FkL",
      "execution_count": 6,
      "outputs": []
    },
    {
      "cell_type": "markdown",
      "source": [
        "## set-up"
      ],
      "metadata": {
        "id": "9gTqc_mGBvcG"
      },
      "id": "9gTqc_mGBvcG"
    },
    {
      "cell_type": "code",
      "source": [
        "!python --version\n"
      ],
      "metadata": {
        "colab": {
          "base_uri": "https://localhost:8080/"
        },
        "id": "LfxfTm9D_3_j",
        "outputId": "3fc66c22-3dc1-4dcd-a6b4-083cd8b45019"
      },
      "id": "LfxfTm9D_3_j",
      "execution_count": 7,
      "outputs": [
        {
          "output_type": "stream",
          "name": "stdout",
          "text": [
            "Python 3.10.12\n"
          ]
        }
      ]
    },
    {
      "cell_type": "code",
      "source": [
        "%env PYTHONUTF8=1\n"
      ],
      "metadata": {
        "colab": {
          "base_uri": "https://localhost:8080/"
        },
        "id": "MXLm7EMd_RVm",
        "outputId": "9d229b2b-7655-4dcb-ec8f-f7f18f6db9a0"
      },
      "id": "MXLm7EMd_RVm",
      "execution_count": 8,
      "outputs": [
        {
          "output_type": "stream",
          "name": "stdout",
          "text": [
            "env: PYTHONUTF8=1\n"
          ]
        }
      ]
    },
    {
      "cell_type": "code",
      "source": [
        "!pip install -e ."
      ],
      "metadata": {
        "id": "zj3UH1e4BswF",
        "outputId": "c4eeacb5-91df-41de-d523-c4c8542721e5",
        "colab": {
          "base_uri": "https://localhost:8080/"
        }
      },
      "id": "zj3UH1e4BswF",
      "execution_count": 9,
      "outputs": [
        {
          "output_type": "stream",
          "name": "stdout",
          "text": [
            "Obtaining file:///content/analysing_pii_leakage\n",
            "  Preparing metadata (setup.py) ... \u001b[?25l\u001b[?25hdone\n",
            "Collecting flair@ git+https://github.com/flairNLP/flair (from pii-leakage==0.1.0)\n",
            "  Cloning https://github.com/flairNLP/flair to /tmp/pip-install-y79n0628/flair_3d43ddd48ee149e49749c8bbd9a537b3\n",
            "  Running command git clone --filter=blob:none --quiet https://github.com/flairNLP/flair /tmp/pip-install-y79n0628/flair_3d43ddd48ee149e49749c8bbd9a537b3\n",
            "  Resolved https://github.com/flairNLP/flair to commit c84776c29cf365a28bab84167ecca92e3f9562f1\n",
            "  Installing build dependencies ... \u001b[?25l\u001b[?25hdone\n",
            "  Getting requirements to build wheel ... \u001b[?25l\u001b[?25hdone\n",
            "  Preparing metadata (pyproject.toml) ... \u001b[?25l\u001b[?25hdone\n",
            "Collecting dp_transformers@ git+https://github.com/microsoft/dp-transformers.git@main#egg=dp_transformers (from pii-leakage==0.1.0)\n",
            "  Cloning https://github.com/microsoft/dp-transformers.git (to revision main) to /tmp/pip-install-y79n0628/dp-transformers_5c9415745ea34bbdb2def415343a5469\n",
            "  Running command git clone --filter=blob:none --quiet https://github.com/microsoft/dp-transformers.git /tmp/pip-install-y79n0628/dp-transformers_5c9415745ea34bbdb2def415343a5469\n",
            "  Resolved https://github.com/microsoft/dp-transformers.git to commit 9451d385ccea43807a5bedf94d0693383577f2ec\n",
            "  Preparing metadata (setup.py) ... \u001b[?25l\u001b[?25hdone\n",
            "Collecting torch<2.0,>=1.10 (from pii-leakage==0.1.0)\n",
            "  Downloading torch-1.13.1-cp310-cp310-manylinux1_x86_64.whl (887.5 MB)\n",
            "\u001b[2K     \u001b[91m━━━━━━━━━━━━━━━━━━━━━━━━━━━━━━━━━━━━━━━\u001b[0m\u001b[91m╸\u001b[0m \u001b[32m887.4/887.5 MB\u001b[0m \u001b[31m140.7 MB/s\u001b[0m eta \u001b[36m0:00:01\u001b[0m\n",
            "\u001b[?25h\u001b[31mERROR: Operation cancelled by user\u001b[0m\u001b[31m\n",
            "\u001b[0m"
          ]
        }
      ]
    },
    {
      "cell_type": "code",
      "source": [
        "!pwd\n"
      ],
      "metadata": {
        "id": "iIGqdeg1B-ej",
        "outputId": "2cc52286-b2c0-4781-e777-15a4793baece",
        "colab": {
          "base_uri": "https://localhost:8080/"
        }
      },
      "id": "iIGqdeg1B-ej",
      "execution_count": null,
      "outputs": [
        {
          "output_type": "stream",
          "name": "stdout",
          "text": [
            "/content/analysing_pii_leakage\n"
          ]
        }
      ]
    },
    {
      "cell_type": "code",
      "source": [
        "!pip install torch==1.13.1+cu117 torchvision==0.14.1+cu117 torchaudio==0.13.1 --extra-index-url https://download.pytorch.org/whl/cu117"
      ],
      "metadata": {
        "id": "pJFv6eV6Ddv4"
      },
      "id": "pJFv6eV6Ddv4",
      "execution_count": null,
      "outputs": []
    },
    {
      "cell_type": "code",
      "source": [
        "%cd examples\n"
      ],
      "metadata": {
        "id": "PIppegJvEw8x"
      },
      "id": "PIppegJvEw8x",
      "execution_count": null,
      "outputs": []
    },
    {
      "cell_type": "code",
      "source": [
        "!python fine_tune.py --config_path ../configs/fine-tune/bert_config.yml\n"
      ],
      "metadata": {
        "id": "zfxYWjiGE5OY"
      },
      "id": "zfxYWjiGE5OY",
      "execution_count": null,
      "outputs": []
    },
    {
      "cell_type": "code",
      "source": [],
      "metadata": {
        "id": "t1R_wZE2FIg6"
      },
      "id": "t1R_wZE2FIg6",
      "execution_count": null,
      "outputs": []
    }
  ],
  "metadata": {
    "kernelspec": {
      "display_name": "Python 3",
      "name": "python3"
    },
    "language_info": {
      "codemirror_mode": {
        "name": "ipython",
        "version": 3
      },
      "file_extension": ".py",
      "mimetype": "text/x-python",
      "name": "python",
      "nbconvert_exporter": "python",
      "pygments_lexer": "ipython3",
      "version": "3.11.4"
    },
    "colab": {
      "provenance": [],
      "gpuType": "T4"
    },
    "accelerator": "GPU"
  },
  "nbformat": 4,
  "nbformat_minor": 5
}