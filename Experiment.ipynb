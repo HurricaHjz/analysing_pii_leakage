{
  "cells": [
    {
      "cell_type": "markdown",
      "source": [
        "## Git config"
      ],
      "metadata": {
        "id": "wOtAOGSyB0KR"
      },
      "id": "wOtAOGSyB0KR"
    },
    {
      "cell_type": "code",
      "execution_count": 1,
      "id": "71628f18",
      "metadata": {
        "id": "71628f18"
      },
      "outputs": [],
      "source": [
        "!git config --global user.name \"HurricaHjz\"\n",
        "!git config --global user.email \"jerryzmj4210@gmail.com\"\n",
        "!git config --global user.password \"jerryzmj021226.\""
      ]
    },
    {
      "cell_type": "code",
      "execution_count": 2,
      "id": "171fc6ed",
      "metadata": {
        "id": "171fc6ed"
      },
      "outputs": [],
      "source": [
        "token = 'ilovellm'\n",
        "username = 'HurricaHjz'\n",
        "repo = 'analysing_pii_leakage'"
      ]
    },
    {
      "cell_type": "code",
      "source": [
        "!git clone https://{token}@github.com/{username}/{repo}"
      ],
      "metadata": {
        "colab": {
          "base_uri": "https://localhost:8080/"
        },
        "id": "rAhALp6e-DPz",
        "outputId": "3fefb7c8-e93c-4e57-de99-70f31c57b38a"
      },
      "id": "rAhALp6e-DPz",
      "execution_count": 3,
      "outputs": [
        {
          "output_type": "stream",
          "name": "stdout",
          "text": [
            "fatal: destination path 'analysing_pii_leakage' already exists and is not an empty directory.\n"
          ]
        }
      ]
    },
    {
      "cell_type": "code",
      "source": [
        "%cd {repo}"
      ],
      "metadata": {
        "colab": {
          "base_uri": "https://localhost:8080/"
        },
        "id": "RC-SHfgj--c6",
        "outputId": "7f47a776-3f7b-4c1d-a6b3-d5a81d03586e"
      },
      "id": "RC-SHfgj--c6",
      "execution_count": 4,
      "outputs": [
        {
          "output_type": "stream",
          "name": "stdout",
          "text": [
            "/content/analysing_pii_leakage\n"
          ]
        }
      ]
    },
    {
      "cell_type": "code",
      "source": [
        "%ls"
      ],
      "metadata": {
        "colab": {
          "base_uri": "https://localhost:8080/"
        },
        "id": "sT8Em-Sm_AlT",
        "outputId": "329a4611-c4b6-4cff-aa96-686b8a6c13cd"
      },
      "id": "sT8Em-Sm_AlT",
      "execution_count": 5,
      "outputs": [
        {
          "output_type": "stream",
          "name": "stdout",
          "text": [
            "clear_cache.py      \u001b[0m\u001b[01;34mexamples\u001b[0m/         \u001b[01;34mpii_models\u001b[0m/       SECURITY.md  \u001b[01;34msrc\u001b[0m/\n",
            "CODE_OF_CONDUCT.md  Experiment.ipynb  README.md         setup.cfg    SUPPORT.md\n",
            "\u001b[01;34mconfigs\u001b[0m/            LICENSE           requirements.txt  setup.py\n"
          ]
        }
      ]
    },
    {
      "cell_type": "code",
      "source": [
        "# !mv /content/Check_If_Two_String_Arrays_are_Equivalent.ipynb /content/LeetCode-HackerRank-Solutions-and-More/Solutions\n",
        "\n",
        "\n",
        "# !git status\n",
        "\n",
        "\n",
        "# !git add --all\n",
        "\n",
        "\n",
        "# !git commit -a -m \"Added a file to the LeetCode folder\"\n",
        "\n",
        "\n",
        "# !git remote -v\n",
        "\n",
        "\n",
        "# !git push origin master"
      ],
      "metadata": {
        "id": "MMCkoTL8_FkL"
      },
      "id": "MMCkoTL8_FkL",
      "execution_count": 6,
      "outputs": []
    },
    {
      "cell_type": "markdown",
      "source": [
        "## set-up"
      ],
      "metadata": {
        "id": "9gTqc_mGBvcG"
      },
      "id": "9gTqc_mGBvcG"
    },
    {
      "cell_type": "code",
      "source": [
        "!python --version\n"
      ],
      "metadata": {
        "colab": {
          "base_uri": "https://localhost:8080/"
        },
        "id": "LfxfTm9D_3_j",
        "outputId": "84f73381-fdac-4fec-ca6a-fa4b8000447a"
      },
      "id": "LfxfTm9D_3_j",
      "execution_count": 7,
      "outputs": [
        {
          "output_type": "stream",
          "name": "stdout",
          "text": [
            "Python 3.10.12\n"
          ]
        }
      ]
    },
    {
      "cell_type": "code",
      "source": [
        "%env PYTHONUTF8=1\n"
      ],
      "metadata": {
        "colab": {
          "base_uri": "https://localhost:8080/"
        },
        "id": "MXLm7EMd_RVm",
        "outputId": "a5e019f3-c1bb-4a3d-b092-dcd358177c0c"
      },
      "id": "MXLm7EMd_RVm",
      "execution_count": 8,
      "outputs": [
        {
          "output_type": "stream",
          "name": "stdout",
          "text": [
            "env: PYTHONUTF8=1\n"
          ]
        }
      ]
    },
    {
      "cell_type": "code",
      "source": [
        "!pip install -e ."
      ],
      "metadata": {
        "id": "zj3UH1e4BswF",
        "outputId": "5d3ed4a1-ec4c-4b2f-a8a9-88a354ff9b84",
        "colab": {
          "base_uri": "https://localhost:8080/"
        }
      },
      "id": "zj3UH1e4BswF",
      "execution_count": 9,
      "outputs": [
        {
          "output_type": "stream",
          "name": "stdout",
          "text": [
            "Obtaining file:///content/analysing_pii_leakage\n",
            "  Preparing metadata (setup.py) ... \u001b[?25l\u001b[?25hdone\n",
            "Collecting flair@ git+https://github.com/flairNLP/flair (from pii-leakage==0.1.0)\n",
            "  Cloning https://github.com/flairNLP/flair to /tmp/pip-install-lg07lccz/flair_61b15fbbcf5147288f06a78033535ee5\n",
            "  Running command git clone --filter=blob:none --quiet https://github.com/flairNLP/flair /tmp/pip-install-lg07lccz/flair_61b15fbbcf5147288f06a78033535ee5\n",
            "  Resolved https://github.com/flairNLP/flair to commit c84776c29cf365a28bab84167ecca92e3f9562f1\n",
            "  Installing build dependencies ... \u001b[?25l\u001b[?25hdone\n",
            "  Getting requirements to build wheel ... \u001b[?25l\u001b[?25hdone\n",
            "  Preparing metadata (pyproject.toml) ... \u001b[?25l\u001b[?25hdone\n",
            "Collecting dp_transformers@ git+https://github.com/microsoft/dp-transformers.git@main#egg=dp_transformers (from pii-leakage==0.1.0)\n",
            "  Cloning https://github.com/microsoft/dp-transformers.git (to revision main) to /tmp/pip-install-lg07lccz/dp-transformers_fbf2e1407851403ba9ebd65b728ff470\n",
            "  Running command git clone --filter=blob:none --quiet https://github.com/microsoft/dp-transformers.git /tmp/pip-install-lg07lccz/dp-transformers_fbf2e1407851403ba9ebd65b728ff470\n",
            "  Resolved https://github.com/microsoft/dp-transformers.git to commit 9451d385ccea43807a5bedf94d0693383577f2ec\n",
            "  Preparing metadata (setup.py) ... \u001b[?25l\u001b[?25hdone\n",
            "Requirement already satisfied: torch<2.0,>=1.10 in /usr/local/lib/python3.10/dist-packages (from pii-leakage==0.1.0) (1.13.1+cu117)\n",
            "Requirement already satisfied: transformers in /usr/local/lib/python3.10/dist-packages (from pii-leakage==0.1.0) (4.35.2)\n",
            "Requirement already satisfied: tqdm in /usr/local/lib/python3.10/dist-packages (from pii-leakage==0.1.0) (4.66.1)\n",
            "Requirement already satisfied: opacus in /usr/local/lib/python3.10/dist-packages (from pii-leakage==0.1.0) (1.4.0)\n",
            "Requirement already satisfied: typing-extensions in /usr/local/lib/python3.10/dist-packages (from torch<2.0,>=1.10->pii-leakage==0.1.0) (4.5.0)\n",
            "Requirement already satisfied: datasets>=2.0.0 in /usr/local/lib/python3.10/dist-packages (from dp_transformers@ git+https://github.com/microsoft/dp-transformers.git@main#egg=dp_transformers->pii-leakage==0.1.0) (2.15.0)\n",
            "Requirement already satisfied: peft in /usr/local/lib/python3.10/dist-packages (from dp_transformers@ git+https://github.com/microsoft/dp-transformers.git@main#egg=dp_transformers->pii-leakage==0.1.0) (0.7.1)\n",
            "Requirement already satisfied: prv_accountant<0.2.0 in /usr/local/lib/python3.10/dist-packages (from dp_transformers@ git+https://github.com/microsoft/dp-transformers.git@main#egg=dp_transformers->pii-leakage==0.1.0) (0.1.1.post1)\n",
            "Requirement already satisfied: numpy>=1.15 in /usr/local/lib/python3.10/dist-packages (from opacus->pii-leakage==0.1.0) (1.23.5)\n",
            "Requirement already satisfied: scipy>=1.2 in /usr/local/lib/python3.10/dist-packages (from opacus->pii-leakage==0.1.0) (1.11.4)\n",
            "Requirement already satisfied: opt-einsum>=3.3.0 in /usr/local/lib/python3.10/dist-packages (from opacus->pii-leakage==0.1.0) (3.3.0)\n",
            "Requirement already satisfied: filelock in /usr/local/lib/python3.10/dist-packages (from transformers->pii-leakage==0.1.0) (3.13.1)\n",
            "Requirement already satisfied: huggingface-hub<1.0,>=0.16.4 in /usr/local/lib/python3.10/dist-packages (from transformers->pii-leakage==0.1.0) (0.19.4)\n",
            "Requirement already satisfied: packaging>=20.0 in /usr/local/lib/python3.10/dist-packages (from transformers->pii-leakage==0.1.0) (23.2)\n",
            "Requirement already satisfied: pyyaml>=5.1 in /usr/local/lib/python3.10/dist-packages (from transformers->pii-leakage==0.1.0) (6.0.1)\n",
            "Requirement already satisfied: regex!=2019.12.17 in /usr/local/lib/python3.10/dist-packages (from transformers->pii-leakage==0.1.0) (2023.6.3)\n",
            "Requirement already satisfied: requests in /usr/local/lib/python3.10/dist-packages (from transformers->pii-leakage==0.1.0) (2.31.0)\n",
            "Requirement already satisfied: tokenizers<0.19,>=0.14 in /usr/local/lib/python3.10/dist-packages (from transformers->pii-leakage==0.1.0) (0.15.0)\n",
            "Requirement already satisfied: safetensors>=0.3.1 in /usr/local/lib/python3.10/dist-packages (from transformers->pii-leakage==0.1.0) (0.4.1)\n",
            "Requirement already satisfied: boto3>=1.20.27 in /usr/local/lib/python3.10/dist-packages (from flair@ git+https://github.com/flairNLP/flair->pii-leakage==0.1.0) (1.34.2)\n",
            "Requirement already satisfied: bpemb>=0.3.2 in /usr/local/lib/python3.10/dist-packages (from flair@ git+https://github.com/flairNLP/flair->pii-leakage==0.1.0) (0.3.4)\n",
            "Requirement already satisfied: conllu>=4.0 in /usr/local/lib/python3.10/dist-packages (from flair@ git+https://github.com/flairNLP/flair->pii-leakage==0.1.0) (4.5.3)\n",
            "Requirement already satisfied: deprecated>=1.2.13 in /usr/local/lib/python3.10/dist-packages (from flair@ git+https://github.com/flairNLP/flair->pii-leakage==0.1.0) (1.2.14)\n",
            "Requirement already satisfied: ftfy>=6.1.0 in /usr/local/lib/python3.10/dist-packages (from flair@ git+https://github.com/flairNLP/flair->pii-leakage==0.1.0) (6.1.3)\n",
            "Requirement already satisfied: gdown>=4.4.0 in /usr/local/lib/python3.10/dist-packages (from flair@ git+https://github.com/flairNLP/flair->pii-leakage==0.1.0) (4.6.6)\n",
            "Requirement already satisfied: gensim>=4.2.0 in /usr/local/lib/python3.10/dist-packages (from flair@ git+https://github.com/flairNLP/flair->pii-leakage==0.1.0) (4.3.2)\n",
            "Requirement already satisfied: janome>=0.4.2 in /usr/local/lib/python3.10/dist-packages (from flair@ git+https://github.com/flairNLP/flair->pii-leakage==0.1.0) (0.5.0)\n",
            "Requirement already satisfied: langdetect>=1.0.9 in /usr/local/lib/python3.10/dist-packages (from flair@ git+https://github.com/flairNLP/flair->pii-leakage==0.1.0) (1.0.9)\n",
            "Requirement already satisfied: lxml>=4.8.0 in /usr/local/lib/python3.10/dist-packages (from flair@ git+https://github.com/flairNLP/flair->pii-leakage==0.1.0) (4.9.3)\n",
            "Requirement already satisfied: matplotlib>=2.2.3 in /usr/local/lib/python3.10/dist-packages (from flair@ git+https://github.com/flairNLP/flair->pii-leakage==0.1.0) (3.7.1)\n",
            "Requirement already satisfied: more-itertools>=8.13.0 in /usr/local/lib/python3.10/dist-packages (from flair@ git+https://github.com/flairNLP/flair->pii-leakage==0.1.0) (10.1.0)\n",
            "Requirement already satisfied: mpld3>=0.3 in /usr/local/lib/python3.10/dist-packages (from flair@ git+https://github.com/flairNLP/flair->pii-leakage==0.1.0) (0.5.9)\n",
            "Requirement already satisfied: pptree>=3.1 in /usr/local/lib/python3.10/dist-packages (from flair@ git+https://github.com/flairNLP/flair->pii-leakage==0.1.0) (3.1)\n",
            "Requirement already satisfied: python-dateutil>=2.8.2 in /usr/local/lib/python3.10/dist-packages (from flair@ git+https://github.com/flairNLP/flair->pii-leakage==0.1.0) (2.8.2)\n",
            "Requirement already satisfied: pytorch-revgrad>=0.2.0 in /usr/local/lib/python3.10/dist-packages (from flair@ git+https://github.com/flairNLP/flair->pii-leakage==0.1.0) (0.2.0)\n",
            "Requirement already satisfied: scikit-learn>=1.0.2 in /usr/local/lib/python3.10/dist-packages (from flair@ git+https://github.com/flairNLP/flair->pii-leakage==0.1.0) (1.2.2)\n",
            "Requirement already satisfied: segtok>=1.5.11 in /usr/local/lib/python3.10/dist-packages (from flair@ git+https://github.com/flairNLP/flair->pii-leakage==0.1.0) (1.5.11)\n",
            "Requirement already satisfied: sqlitedict>=2.0.0 in /usr/local/lib/python3.10/dist-packages (from flair@ git+https://github.com/flairNLP/flair->pii-leakage==0.1.0) (2.1.0)\n",
            "Requirement already satisfied: tabulate>=0.8.10 in /usr/local/lib/python3.10/dist-packages (from flair@ git+https://github.com/flairNLP/flair->pii-leakage==0.1.0) (0.9.0)\n",
            "Requirement already satisfied: transformer-smaller-training-vocab>=0.2.3 in /usr/local/lib/python3.10/dist-packages (from flair@ git+https://github.com/flairNLP/flair->pii-leakage==0.1.0) (0.3.3)\n",
            "Requirement already satisfied: urllib3<2.0.0,>=1.0.0 in /usr/local/lib/python3.10/dist-packages (from flair@ git+https://github.com/flairNLP/flair->pii-leakage==0.1.0) (1.26.18)\n",
            "Requirement already satisfied: wikipedia-api>=0.5.7 in /usr/local/lib/python3.10/dist-packages (from flair@ git+https://github.com/flairNLP/flair->pii-leakage==0.1.0) (0.6.0)\n",
            "Requirement already satisfied: semver<4.0.0,>=3.0.0 in /usr/local/lib/python3.10/dist-packages (from flair@ git+https://github.com/flairNLP/flair->pii-leakage==0.1.0) (3.0.2)\n",
            "Requirement already satisfied: botocore<1.35.0,>=1.34.2 in /usr/local/lib/python3.10/dist-packages (from boto3>=1.20.27->flair@ git+https://github.com/flairNLP/flair->pii-leakage==0.1.0) (1.34.2)\n",
            "Requirement already satisfied: jmespath<2.0.0,>=0.7.1 in /usr/local/lib/python3.10/dist-packages (from boto3>=1.20.27->flair@ git+https://github.com/flairNLP/flair->pii-leakage==0.1.0) (1.0.1)\n",
            "Requirement already satisfied: s3transfer<0.10.0,>=0.9.0 in /usr/local/lib/python3.10/dist-packages (from boto3>=1.20.27->flair@ git+https://github.com/flairNLP/flair->pii-leakage==0.1.0) (0.9.0)\n",
            "Requirement already satisfied: sentencepiece in /usr/local/lib/python3.10/dist-packages (from bpemb>=0.3.2->flair@ git+https://github.com/flairNLP/flair->pii-leakage==0.1.0) (0.1.99)\n",
            "Requirement already satisfied: pyarrow>=8.0.0 in /usr/local/lib/python3.10/dist-packages (from datasets>=2.0.0->dp_transformers@ git+https://github.com/microsoft/dp-transformers.git@main#egg=dp_transformers->pii-leakage==0.1.0) (10.0.1)\n",
            "Requirement already satisfied: pyarrow-hotfix in /usr/local/lib/python3.10/dist-packages (from datasets>=2.0.0->dp_transformers@ git+https://github.com/microsoft/dp-transformers.git@main#egg=dp_transformers->pii-leakage==0.1.0) (0.6)\n",
            "Requirement already satisfied: dill<0.3.8,>=0.3.0 in /usr/local/lib/python3.10/dist-packages (from datasets>=2.0.0->dp_transformers@ git+https://github.com/microsoft/dp-transformers.git@main#egg=dp_transformers->pii-leakage==0.1.0) (0.3.7)\n",
            "Requirement already satisfied: pandas in /usr/local/lib/python3.10/dist-packages (from datasets>=2.0.0->dp_transformers@ git+https://github.com/microsoft/dp-transformers.git@main#egg=dp_transformers->pii-leakage==0.1.0) (1.5.3)\n",
            "Requirement already satisfied: xxhash in /usr/local/lib/python3.10/dist-packages (from datasets>=2.0.0->dp_transformers@ git+https://github.com/microsoft/dp-transformers.git@main#egg=dp_transformers->pii-leakage==0.1.0) (3.4.1)\n",
            "Requirement already satisfied: multiprocess in /usr/local/lib/python3.10/dist-packages (from datasets>=2.0.0->dp_transformers@ git+https://github.com/microsoft/dp-transformers.git@main#egg=dp_transformers->pii-leakage==0.1.0) (0.70.15)\n",
            "Requirement already satisfied: fsspec[http]<=2023.10.0,>=2023.1.0 in /usr/local/lib/python3.10/dist-packages (from datasets>=2.0.0->dp_transformers@ git+https://github.com/microsoft/dp-transformers.git@main#egg=dp_transformers->pii-leakage==0.1.0) (2023.6.0)\n",
            "Requirement already satisfied: aiohttp in /usr/local/lib/python3.10/dist-packages (from datasets>=2.0.0->dp_transformers@ git+https://github.com/microsoft/dp-transformers.git@main#egg=dp_transformers->pii-leakage==0.1.0) (3.9.1)\n",
            "Requirement already satisfied: wrapt<2,>=1.10 in /usr/local/lib/python3.10/dist-packages (from deprecated>=1.2.13->flair@ git+https://github.com/flairNLP/flair->pii-leakage==0.1.0) (1.14.1)\n",
            "Requirement already satisfied: wcwidth<0.3.0,>=0.2.12 in /usr/local/lib/python3.10/dist-packages (from ftfy>=6.1.0->flair@ git+https://github.com/flairNLP/flair->pii-leakage==0.1.0) (0.2.12)\n",
            "Requirement already satisfied: six in /usr/local/lib/python3.10/dist-packages (from gdown>=4.4.0->flair@ git+https://github.com/flairNLP/flair->pii-leakage==0.1.0) (1.16.0)\n",
            "Requirement already satisfied: beautifulsoup4 in /usr/local/lib/python3.10/dist-packages (from gdown>=4.4.0->flair@ git+https://github.com/flairNLP/flair->pii-leakage==0.1.0) (4.11.2)\n",
            "Requirement already satisfied: smart-open>=1.8.1 in /usr/local/lib/python3.10/dist-packages (from gensim>=4.2.0->flair@ git+https://github.com/flairNLP/flair->pii-leakage==0.1.0) (6.4.0)\n",
            "Requirement already satisfied: contourpy>=1.0.1 in /usr/local/lib/python3.10/dist-packages (from matplotlib>=2.2.3->flair@ git+https://github.com/flairNLP/flair->pii-leakage==0.1.0) (1.2.0)\n",
            "Requirement already satisfied: cycler>=0.10 in /usr/local/lib/python3.10/dist-packages (from matplotlib>=2.2.3->flair@ git+https://github.com/flairNLP/flair->pii-leakage==0.1.0) (0.12.1)\n",
            "Requirement already satisfied: fonttools>=4.22.0 in /usr/local/lib/python3.10/dist-packages (from matplotlib>=2.2.3->flair@ git+https://github.com/flairNLP/flair->pii-leakage==0.1.0) (4.46.0)\n",
            "Requirement already satisfied: kiwisolver>=1.0.1 in /usr/local/lib/python3.10/dist-packages (from matplotlib>=2.2.3->flair@ git+https://github.com/flairNLP/flair->pii-leakage==0.1.0) (1.4.5)\n",
            "Requirement already satisfied: pillow>=6.2.0 in /usr/local/lib/python3.10/dist-packages (from matplotlib>=2.2.3->flair@ git+https://github.com/flairNLP/flair->pii-leakage==0.1.0) (9.4.0)\n",
            "Requirement already satisfied: pyparsing>=2.3.1 in /usr/local/lib/python3.10/dist-packages (from matplotlib>=2.2.3->flair@ git+https://github.com/flairNLP/flair->pii-leakage==0.1.0) (3.1.1)\n",
            "Requirement already satisfied: jinja2 in /usr/local/lib/python3.10/dist-packages (from mpld3>=0.3->flair@ git+https://github.com/flairNLP/flair->pii-leakage==0.1.0) (3.1.2)\n",
            "Requirement already satisfied: charset-normalizer<4,>=2 in /usr/local/lib/python3.10/dist-packages (from requests->transformers->pii-leakage==0.1.0) (3.3.2)\n",
            "Requirement already satisfied: idna<4,>=2.5 in /usr/local/lib/python3.10/dist-packages (from requests->transformers->pii-leakage==0.1.0) (3.6)\n",
            "Requirement already satisfied: certifi>=2017.4.17 in /usr/local/lib/python3.10/dist-packages (from requests->transformers->pii-leakage==0.1.0) (2023.11.17)\n",
            "Requirement already satisfied: joblib>=1.1.1 in /usr/local/lib/python3.10/dist-packages (from scikit-learn>=1.0.2->flair@ git+https://github.com/flairNLP/flair->pii-leakage==0.1.0) (1.3.2)\n",
            "Requirement already satisfied: threadpoolctl>=2.0.0 in /usr/local/lib/python3.10/dist-packages (from scikit-learn>=1.0.2->flair@ git+https://github.com/flairNLP/flair->pii-leakage==0.1.0) (3.2.0)\n",
            "Requirement already satisfied: protobuf in /usr/local/lib/python3.10/dist-packages (from transformers->pii-leakage==0.1.0) (3.20.3)\n",
            "Requirement already satisfied: psutil in /usr/local/lib/python3.10/dist-packages (from peft->dp_transformers@ git+https://github.com/microsoft/dp-transformers.git@main#egg=dp_transformers->pii-leakage==0.1.0) (5.9.5)\n",
            "Requirement already satisfied: accelerate>=0.21.0 in /usr/local/lib/python3.10/dist-packages (from peft->dp_transformers@ git+https://github.com/microsoft/dp-transformers.git@main#egg=dp_transformers->pii-leakage==0.1.0) (0.25.0)\n",
            "Requirement already satisfied: attrs>=17.3.0 in /usr/local/lib/python3.10/dist-packages (from aiohttp->datasets>=2.0.0->dp_transformers@ git+https://github.com/microsoft/dp-transformers.git@main#egg=dp_transformers->pii-leakage==0.1.0) (23.1.0)\n",
            "Requirement already satisfied: multidict<7.0,>=4.5 in /usr/local/lib/python3.10/dist-packages (from aiohttp->datasets>=2.0.0->dp_transformers@ git+https://github.com/microsoft/dp-transformers.git@main#egg=dp_transformers->pii-leakage==0.1.0) (6.0.4)\n",
            "Requirement already satisfied: yarl<2.0,>=1.0 in /usr/local/lib/python3.10/dist-packages (from aiohttp->datasets>=2.0.0->dp_transformers@ git+https://github.com/microsoft/dp-transformers.git@main#egg=dp_transformers->pii-leakage==0.1.0) (1.9.4)\n",
            "Requirement already satisfied: frozenlist>=1.1.1 in /usr/local/lib/python3.10/dist-packages (from aiohttp->datasets>=2.0.0->dp_transformers@ git+https://github.com/microsoft/dp-transformers.git@main#egg=dp_transformers->pii-leakage==0.1.0) (1.4.0)\n",
            "Requirement already satisfied: aiosignal>=1.1.2 in /usr/local/lib/python3.10/dist-packages (from aiohttp->datasets>=2.0.0->dp_transformers@ git+https://github.com/microsoft/dp-transformers.git@main#egg=dp_transformers->pii-leakage==0.1.0) (1.3.1)\n",
            "Requirement already satisfied: async-timeout<5.0,>=4.0 in /usr/local/lib/python3.10/dist-packages (from aiohttp->datasets>=2.0.0->dp_transformers@ git+https://github.com/microsoft/dp-transformers.git@main#egg=dp_transformers->pii-leakage==0.1.0) (4.0.3)\n",
            "Requirement already satisfied: soupsieve>1.2 in /usr/local/lib/python3.10/dist-packages (from beautifulsoup4->gdown>=4.4.0->flair@ git+https://github.com/flairNLP/flair->pii-leakage==0.1.0) (2.5)\n",
            "Requirement already satisfied: MarkupSafe>=2.0 in /usr/local/lib/python3.10/dist-packages (from jinja2->mpld3>=0.3->flair@ git+https://github.com/flairNLP/flair->pii-leakage==0.1.0) (2.1.3)\n",
            "Requirement already satisfied: pytz>=2020.1 in /usr/local/lib/python3.10/dist-packages (from pandas->datasets>=2.0.0->dp_transformers@ git+https://github.com/microsoft/dp-transformers.git@main#egg=dp_transformers->pii-leakage==0.1.0) (2023.3.post1)\n",
            "Requirement already satisfied: PySocks!=1.5.7,>=1.5.6 in /usr/local/lib/python3.10/dist-packages (from requests->transformers->pii-leakage==0.1.0) (1.7.1)\n",
            "Installing collected packages: pii-leakage\n",
            "  Attempting uninstall: pii-leakage\n",
            "    Found existing installation: pii-leakage 0.1.0\n",
            "    Uninstalling pii-leakage-0.1.0:\n",
            "      Successfully uninstalled pii-leakage-0.1.0\n",
            "  Running setup.py develop for pii-leakage\n",
            "Successfully installed pii-leakage-0.1.0\n"
          ]
        }
      ]
    },
    {
      "cell_type": "code",
      "source": [
        "!pwd\n"
      ],
      "metadata": {
        "id": "iIGqdeg1B-ej",
        "outputId": "223f2321-ed43-40d6-e00b-8d283d08c927",
        "colab": {
          "base_uri": "https://localhost:8080/"
        }
      },
      "id": "iIGqdeg1B-ej",
      "execution_count": 10,
      "outputs": [
        {
          "output_type": "stream",
          "name": "stdout",
          "text": [
            "/content/analysing_pii_leakage\n"
          ]
        }
      ]
    },
    {
      "cell_type": "code",
      "source": [
        "!pip install torch==1.13.1+cu117 torchvision==0.14.1+cu117 torchaudio==0.13.1 --extra-index-url https://download.pytorch.org/whl/cu117"
      ],
      "metadata": {
        "colab": {
          "base_uri": "https://localhost:8080/"
        },
        "id": "pJFv6eV6Ddv4",
        "outputId": "eaceef19-2d68-4c19-f6e6-4104a277f9df"
      },
      "id": "pJFv6eV6Ddv4",
      "execution_count": 11,
      "outputs": [
        {
          "output_type": "stream",
          "name": "stdout",
          "text": [
            "Looking in indexes: https://pypi.org/simple, https://download.pytorch.org/whl/cu117\n",
            "Requirement already satisfied: torch==1.13.1+cu117 in /usr/local/lib/python3.10/dist-packages (1.13.1+cu117)\n",
            "Requirement already satisfied: torchvision==0.14.1+cu117 in /usr/local/lib/python3.10/dist-packages (0.14.1+cu117)\n",
            "Requirement already satisfied: torchaudio==0.13.1 in /usr/local/lib/python3.10/dist-packages (0.13.1+cu117)\n",
            "Requirement already satisfied: typing-extensions in /usr/local/lib/python3.10/dist-packages (from torch==1.13.1+cu117) (4.5.0)\n",
            "Requirement already satisfied: numpy in /usr/local/lib/python3.10/dist-packages (from torchvision==0.14.1+cu117) (1.23.5)\n",
            "Requirement already satisfied: requests in /usr/local/lib/python3.10/dist-packages (from torchvision==0.14.1+cu117) (2.31.0)\n",
            "Requirement already satisfied: pillow!=8.3.*,>=5.3.0 in /usr/local/lib/python3.10/dist-packages (from torchvision==0.14.1+cu117) (9.4.0)\n",
            "Requirement already satisfied: charset-normalizer<4,>=2 in /usr/local/lib/python3.10/dist-packages (from requests->torchvision==0.14.1+cu117) (3.3.2)\n",
            "Requirement already satisfied: idna<4,>=2.5 in /usr/local/lib/python3.10/dist-packages (from requests->torchvision==0.14.1+cu117) (3.6)\n",
            "Requirement already satisfied: urllib3<3,>=1.21.1 in /usr/local/lib/python3.10/dist-packages (from requests->torchvision==0.14.1+cu117) (1.26.18)\n",
            "Requirement already satisfied: certifi>=2017.4.17 in /usr/local/lib/python3.10/dist-packages (from requests->torchvision==0.14.1+cu117) (2023.11.17)\n"
          ]
        }
      ]
    },
    {
      "cell_type": "code",
      "source": [
        "%cd examples\n"
      ],
      "metadata": {
        "id": "PIppegJvEw8x",
        "outputId": "bfeb6907-a4fe-4a8a-b6a9-9a5e3f0ad68d",
        "colab": {
          "base_uri": "https://localhost:8080/"
        }
      },
      "id": "PIppegJvEw8x",
      "execution_count": 12,
      "outputs": [
        {
          "output_type": "stream",
          "name": "stdout",
          "text": [
            "/content/analysing_pii_leakage/examples\n"
          ]
        }
      ]
    },
    {
      "cell_type": "code",
      "source": [
        "!python fine_tune.py --config_path ../configs/fine-tune/bert_config.yml\n"
      ],
      "metadata": {
        "id": "zfxYWjiGE5OY",
        "outputId": "c13fac0c-40ad-4322-be7b-81aa818a17a1",
        "colab": {
          "base_uri": "https://localhost:8080/"
        }
      },
      "id": "zfxYWjiGE5OY",
      "execution_count": 15,
      "outputs": [
        {
          "output_type": "stream",
          "name": "stdout",
          "text": [
            "2023-12-18 05:10:38.146540: E external/local_xla/xla/stream_executor/cuda/cuda_dnn.cc:9261] Unable to register cuDNN factory: Attempting to register factory for plugin cuDNN when one has already been registered\n",
            "2023-12-18 05:10:38.146620: E external/local_xla/xla/stream_executor/cuda/cuda_fft.cc:607] Unable to register cuFFT factory: Attempting to register factory for plugin cuFFT when one has already been registered\n",
            "2023-12-18 05:10:38.148813: E external/local_xla/xla/stream_executor/cuda/cuda_blas.cc:1515] Unable to register cuBLAS factory: Attempting to register factory for plugin cuBLAS when one has already been registered\n",
            "2023-12-18 05:10:40.221643: W tensorflow/compiler/tf2tensorrt/utils/py_utils.cc:38] TF-TRT Warning: Could not find TensorRT\n",
            "\n",
            "\u001b[92m\n",
            "eps_error       : 0.1000\n",
            "lora_alpha      : 32\n",
            "lora_dim        : 0\n",
            "lora_dropout    : 0.0000\n",
            "max_grad_norm_dp: 1.0000\n",
            "no_accountant   : False\n",
            "noise_multiplier: None\n",
            "target_delta    : None\n",
            "target_epsilon  : -1\n",
            "\u001b[0m\n",
            "\n",
            "2023-12-18 05:11:02,125 SequenceTagger predicts: Dictionary with 76 tags: <unk>, O, B-CARDINAL, E-CARDINAL, S-PERSON, S-CARDINAL, S-PRODUCT, B-PRODUCT, I-PRODUCT, E-PRODUCT, B-WORK_OF_ART, I-WORK_OF_ART, E-WORK_OF_ART, B-PERSON, E-PERSON, S-GPE, B-DATE, I-DATE, E-DATE, S-ORDINAL, S-LANGUAGE, I-PERSON, S-EVENT, S-DATE, B-QUANTITY, E-QUANTITY, S-TIME, B-TIME, I-TIME, E-TIME, B-GPE, E-GPE, S-ORG, I-GPE, S-NORP, B-FAC, I-FAC, E-FAC, B-NORP, E-NORP, S-PERCENT, B-ORG, E-ORG, B-LANGUAGE, E-LANGUAGE, I-CARDINAL, I-ORG, S-WORK_OF_ART, I-QUANTITY, B-MONEY\n",
            "\n",
            "\u001b[92m\n",
            "anon_token   : <MASK>\n",
            "anonymize    : False\n",
            "ner          : flair\n",
            "ner_model    : flair/ner-english-ontonotes-large\n",
            "tag_n_batches: 10000\n",
            "\u001b[0m\n",
            "\n",
            "2023-12-18 05:11:18,811 SequenceTagger predicts: Dictionary with 76 tags: <unk>, O, B-CARDINAL, E-CARDINAL, S-PERSON, S-CARDINAL, S-PRODUCT, B-PRODUCT, I-PRODUCT, E-PRODUCT, B-WORK_OF_ART, I-WORK_OF_ART, E-WORK_OF_ART, B-PERSON, E-PERSON, S-GPE, B-DATE, I-DATE, E-DATE, S-ORDINAL, S-LANGUAGE, I-PERSON, S-EVENT, S-DATE, B-QUANTITY, E-QUANTITY, S-TIME, B-TIME, I-TIME, E-TIME, B-GPE, E-GPE, S-ORG, I-GPE, S-NORP, B-FAC, I-FAC, E-FAC, B-NORP, E-NORP, S-PERCENT, B-ORG, E-ORG, B-LANGUAGE, E-LANGUAGE, I-CARDINAL, I-ORG, S-WORK_OF_ART, I-QUANTITY, B-MONEY\n",
            "\n",
            "\u001b[92m\n",
            "anon_token   : <MASK>\n",
            "anonymize    : False\n",
            "ner          : flair\n",
            "ner_model    : flair/ner-english-ontonotes-large\n",
            "tag_n_batches: 10000\n",
            "\u001b[0m\n",
            "\n",
            "2023-12-18 05:11:35,463 SequenceTagger predicts: Dictionary with 76 tags: <unk>, O, B-CARDINAL, E-CARDINAL, S-PERSON, S-CARDINAL, S-PRODUCT, B-PRODUCT, I-PRODUCT, E-PRODUCT, B-WORK_OF_ART, I-WORK_OF_ART, E-WORK_OF_ART, B-PERSON, E-PERSON, S-GPE, B-DATE, I-DATE, E-DATE, S-ORDINAL, S-LANGUAGE, I-PERSON, S-EVENT, S-DATE, B-QUANTITY, E-QUANTITY, S-TIME, B-TIME, I-TIME, E-TIME, B-GPE, E-GPE, S-ORG, I-GPE, S-NORP, B-FAC, I-FAC, E-FAC, B-NORP, E-NORP, S-PERCENT, B-ORG, E-ORG, B-LANGUAGE, E-LANGUAGE, I-CARDINAL, I-ORG, S-WORK_OF_ART, I-QUANTITY, B-MONEY\n",
            "\n",
            "\u001b[92m\n",
            "anon_token   : <MASK>\n",
            "anonymize    : False\n",
            "ner          : flair\n",
            "ner_model    : flair/ner-english-ontonotes-large\n",
            "tag_n_batches: 10000\n",
            "\u001b[0m\n",
            "\n",
            "2023-12-18 05:11:53,687 SequenceTagger predicts: Dictionary with 76 tags: <unk>, O, B-CARDINAL, E-CARDINAL, S-PERSON, S-CARDINAL, S-PRODUCT, B-PRODUCT, I-PRODUCT, E-PRODUCT, B-WORK_OF_ART, I-WORK_OF_ART, E-WORK_OF_ART, B-PERSON, E-PERSON, S-GPE, B-DATE, I-DATE, E-DATE, S-ORDINAL, S-LANGUAGE, I-PERSON, S-EVENT, S-DATE, B-QUANTITY, E-QUANTITY, S-TIME, B-TIME, I-TIME, E-TIME, B-GPE, E-GPE, S-ORG, I-GPE, S-NORP, B-FAC, I-FAC, E-FAC, B-NORP, E-NORP, S-PERCENT, B-ORG, E-ORG, B-LANGUAGE, E-LANGUAGE, I-CARDINAL, I-ORG, S-WORK_OF_ART, I-QUANTITY, B-MONEY\n",
            "\n",
            "\u001b[92m\n",
            "anon_token   : <MASK>\n",
            "anonymize    : False\n",
            "ner          : flair\n",
            "ner_model    : flair/ner-english-ontonotes-large\n",
            "tag_n_batches: 10000\n",
            "\u001b[0m\n",
            "\n",
            "> Loading a public, pre-trained bert-base-uncased model.\n",
            "Traceback (most recent call last):\n",
            "  File \"/content/analysing_pii_leakage/examples/fine_tune.py\", line 81, in <module>\n",
            "    fine_tune(*parse_args())\n",
            "  File \"/content/analysing_pii_leakage/examples/fine_tune.py\", line 63, in fine_tune\n",
            "    lm: LanguageModel = ModelFactory.from_model_args(model_args, env_args=env_args).load(True)\n",
            "  File \"/content/analysing_pii_leakage/src/pii_leakage/models/language_model.py\", line 102, in load\n",
            "    mean_tok_emb = self._lm.transformer.wte.weight.data.mean(dim=0)\n",
            "  File \"/usr/local/lib/python3.10/dist-packages/torch/nn/modules/module.py\", line 1269, in __getattr__\n",
            "    raise AttributeError(\"'{}' object has no attribute '{}'\".format(\n",
            "AttributeError: 'BertLMHeadModel' object has no attribute 'transformer'\n"
          ]
        }
      ]
    },
    {
      "cell_type": "code",
      "source": [],
      "metadata": {
        "id": "-aoM4dGHVS5E"
      },
      "id": "-aoM4dGHVS5E",
      "execution_count": null,
      "outputs": []
    },
    {
      "cell_type": "code",
      "source": [],
      "metadata": {
        "id": "LdKG4w4XTBZ1"
      },
      "id": "LdKG4w4XTBZ1",
      "execution_count": 13,
      "outputs": []
    },
    {
      "cell_type": "code",
      "source": [],
      "metadata": {
        "id": "t1R_wZE2FIg6"
      },
      "id": "t1R_wZE2FIg6",
      "execution_count": 13,
      "outputs": []
    }
  ],
  "metadata": {
    "kernelspec": {
      "display_name": "Python 3",
      "name": "python3"
    },
    "language_info": {
      "codemirror_mode": {
        "name": "ipython",
        "version": 3
      },
      "file_extension": ".py",
      "mimetype": "text/x-python",
      "name": "python",
      "nbconvert_exporter": "python",
      "pygments_lexer": "ipython3",
      "version": "3.11.4"
    },
    "colab": {
      "provenance": [],
      "gpuType": "T4"
    },
    "accelerator": "GPU"
  },
  "nbformat": 4,
  "nbformat_minor": 5
}