{
  "cells": [
    {
      "cell_type": "markdown",
      "source": [
        "## Git config"
      ],
      "metadata": {
        "id": "wOtAOGSyB0KR"
      },
      "id": "wOtAOGSyB0KR"
    },
    {
      "cell_type": "code",
      "execution_count": 1,
      "id": "71628f18",
      "metadata": {
        "id": "71628f18"
      },
      "outputs": [],
      "source": [
        "!git config --global user.name \"HurricaHjz\"\n",
        "!git config --global user.email \"jerryzmj4210@gmail.com\"\n",
        "!git config --global user.password \"jerryzmj021226.\""
      ]
    },
    {
      "cell_type": "code",
      "execution_count": 2,
      "id": "171fc6ed",
      "metadata": {
        "id": "171fc6ed"
      },
      "outputs": [],
      "source": [
        "token = 'ilovellm'\n",
        "username = 'HurricaHjz'\n",
        "repo = 'analysing_pii_leakage'"
      ]
    },
    {
      "cell_type": "code",
      "source": [
        "!git clone https://{token}@github.com/{username}/{repo}"
      ],
      "metadata": {
        "colab": {
          "base_uri": "https://localhost:8080/"
        },
        "id": "rAhALp6e-DPz",
        "outputId": "76b8e230-d258-4ea5-e090-097fb6aeef6f"
      },
      "id": "rAhALp6e-DPz",
      "execution_count": 3,
      "outputs": [
        {
          "output_type": "stream",
          "name": "stdout",
          "text": [
            "fatal: destination path 'analysing_pii_leakage' already exists and is not an empty directory.\n"
          ]
        }
      ]
    },
    {
      "cell_type": "code",
      "source": [
        "%cd {repo}"
      ],
      "metadata": {
        "colab": {
          "base_uri": "https://localhost:8080/"
        },
        "id": "RC-SHfgj--c6",
        "outputId": "477d8f62-5b12-46e3-b57a-32725720cf14"
      },
      "id": "RC-SHfgj--c6",
      "execution_count": 4,
      "outputs": [
        {
          "output_type": "stream",
          "name": "stdout",
          "text": [
            "/content/analysing_pii_leakage\n"
          ]
        }
      ]
    },
    {
      "cell_type": "code",
      "source": [
        "%ls"
      ],
      "metadata": {
        "colab": {
          "base_uri": "https://localhost:8080/"
        },
        "id": "sT8Em-Sm_AlT",
        "outputId": "eab4cf64-addb-4a3f-f31e-269fb9809a31"
      },
      "id": "sT8Em-Sm_AlT",
      "execution_count": 5,
      "outputs": [
        {
          "output_type": "stream",
          "name": "stdout",
          "text": [
            "clear_cache.py      \u001b[0m\u001b[01;34mexamples\u001b[0m/         \u001b[01;34mpii_models\u001b[0m/       SECURITY.md  \u001b[01;34msrc\u001b[0m/\n",
            "CODE_OF_CONDUCT.md  Experiment.ipynb  README.md         setup.cfg    SUPPORT.md\n",
            "\u001b[01;34mconfigs\u001b[0m/            LICENSE           requirements.txt  setup.py\n"
          ]
        }
      ]
    },
    {
      "cell_type": "code",
      "source": [
        "# !mv /content/Check_If_Two_String_Arrays_are_Equivalent.ipynb /content/LeetCode-HackerRank-Solutions-and-More/Solutions\n",
        "\n",
        "\n",
        "# !git status\n",
        "\n",
        "\n",
        "# !git add --all\n",
        "\n",
        "\n",
        "# !git commit -a -m \"Added a file to the LeetCode folder\"\n",
        "\n",
        "\n",
        "# !git remote -v\n",
        "\n",
        "\n",
        "# !git push origin master"
      ],
      "metadata": {
        "id": "MMCkoTL8_FkL"
      },
      "id": "MMCkoTL8_FkL",
      "execution_count": 6,
      "outputs": []
    },
    {
      "cell_type": "markdown",
      "source": [
        "## set-up"
      ],
      "metadata": {
        "id": "9gTqc_mGBvcG"
      },
      "id": "9gTqc_mGBvcG"
    },
    {
      "cell_type": "code",
      "source": [
        "!python --version\n"
      ],
      "metadata": {
        "colab": {
          "base_uri": "https://localhost:8080/"
        },
        "id": "LfxfTm9D_3_j",
        "outputId": "156b18cd-1026-4828-86fb-5bdd8a78cdcb"
      },
      "id": "LfxfTm9D_3_j",
      "execution_count": 7,
      "outputs": [
        {
          "output_type": "stream",
          "name": "stdout",
          "text": [
            "Python 3.10.12\n"
          ]
        }
      ]
    },
    {
      "cell_type": "code",
      "source": [
        "%env PYTHONUTF8=1\n"
      ],
      "metadata": {
        "colab": {
          "base_uri": "https://localhost:8080/"
        },
        "id": "MXLm7EMd_RVm",
        "outputId": "5e4dad18-76a9-49d5-fe62-224edf20bab2"
      },
      "id": "MXLm7EMd_RVm",
      "execution_count": 8,
      "outputs": [
        {
          "output_type": "stream",
          "name": "stdout",
          "text": [
            "env: PYTHONUTF8=1\n"
          ]
        }
      ]
    },
    {
      "cell_type": "code",
      "source": [
        "!pip install -e ."
      ],
      "metadata": {
        "id": "zj3UH1e4BswF",
        "outputId": "7aecf79a-c485-4b77-bf9d-27c2bbd63a1e",
        "colab": {
          "base_uri": "https://localhost:8080/"
        }
      },
      "id": "zj3UH1e4BswF",
      "execution_count": 9,
      "outputs": [
        {
          "output_type": "stream",
          "name": "stdout",
          "text": [
            "Obtaining file:///content/analysing_pii_leakage\n",
            "  Preparing metadata (setup.py) ... \u001b[?25l\u001b[?25hdone\n",
            "Collecting flair@ git+https://github.com/flairNLP/flair (from pii-leakage==0.1.0)\n",
            "  Cloning https://github.com/flairNLP/flair to /tmp/pip-install-evwfbroy/flair_1962be8b8fcf45ffbe88fe65dcacc8b4\n",
            "  Running command git clone --filter=blob:none --quiet https://github.com/flairNLP/flair /tmp/pip-install-evwfbroy/flair_1962be8b8fcf45ffbe88fe65dcacc8b4\n",
            "  Resolved https://github.com/flairNLP/flair to commit c84776c29cf365a28bab84167ecca92e3f9562f1\n",
            "  Installing build dependencies ... \u001b[?25l\u001b[?25hdone\n",
            "  Getting requirements to build wheel ... \u001b[?25l\u001b[?25hdone\n",
            "  Preparing metadata (pyproject.toml) ... \u001b[?25l\u001b[?25hdone\n",
            "Collecting dp_transformers@ git+https://github.com/microsoft/dp-transformers.git@main#egg=dp_transformers (from pii-leakage==0.1.0)\n",
            "  Cloning https://github.com/microsoft/dp-transformers.git (to revision main) to /tmp/pip-install-evwfbroy/dp-transformers_b9c5aacddbab40d59f6d8fab4242dc25\n",
            "  Running command git clone --filter=blob:none --quiet https://github.com/microsoft/dp-transformers.git /tmp/pip-install-evwfbroy/dp-transformers_b9c5aacddbab40d59f6d8fab4242dc25\n",
            "  Resolved https://github.com/microsoft/dp-transformers.git to commit 9451d385ccea43807a5bedf94d0693383577f2ec\n",
            "  Preparing metadata (setup.py) ... \u001b[?25l\u001b[?25hdone\n",
            "Collecting torch<2.0,>=1.10 (from pii-leakage==0.1.0)\n",
            "  Downloading torch-1.13.1-cp310-cp310-manylinux1_x86_64.whl (887.5 MB)\n",
            "\u001b[2K     \u001b[90m━━━━━━━━━━━━━━━━━━━━━━━━━━━━━━━━━━━━━━━━\u001b[0m \u001b[32m887.5/887.5 MB\u001b[0m \u001b[31m1.2 MB/s\u001b[0m eta \u001b[36m0:00:00\u001b[0m\n",
            "\u001b[?25hRequirement already satisfied: transformers in /usr/local/lib/python3.10/dist-packages (from pii-leakage==0.1.0) (4.35.2)\n",
            "Requirement already satisfied: tqdm in /usr/local/lib/python3.10/dist-packages (from pii-leakage==0.1.0) (4.66.1)\n",
            "Collecting opacus (from pii-leakage==0.1.0)\n",
            "  Downloading opacus-1.4.0-py3-none-any.whl (224 kB)\n",
            "\u001b[2K     \u001b[90m━━━━━━━━━━━━━━━━━━━━━━━━━━━━━━━━━━━━━━━━\u001b[0m \u001b[32m224.8/224.8 kB\u001b[0m \u001b[31m29.5 MB/s\u001b[0m eta \u001b[36m0:00:00\u001b[0m\n",
            "\u001b[?25hRequirement already satisfied: typing-extensions in /usr/local/lib/python3.10/dist-packages (from torch<2.0,>=1.10->pii-leakage==0.1.0) (4.5.0)\n",
            "Collecting nvidia-cuda-runtime-cu11==11.7.99 (from torch<2.0,>=1.10->pii-leakage==0.1.0)\n",
            "  Downloading nvidia_cuda_runtime_cu11-11.7.99-py3-none-manylinux1_x86_64.whl (849 kB)\n",
            "\u001b[2K     \u001b[90m━━━━━━━━━━━━━━━━━━━━━━━━━━━━━━━━━━━━━━━━\u001b[0m \u001b[32m849.3/849.3 kB\u001b[0m \u001b[31m69.7 MB/s\u001b[0m eta \u001b[36m0:00:00\u001b[0m\n",
            "\u001b[?25hCollecting nvidia-cudnn-cu11==8.5.0.96 (from torch<2.0,>=1.10->pii-leakage==0.1.0)\n",
            "  Downloading nvidia_cudnn_cu11-8.5.0.96-2-py3-none-manylinux1_x86_64.whl (557.1 MB)\n",
            "\u001b[2K     \u001b[90m━━━━━━━━━━━━━━━━━━━━━━━━━━━━━━━━━━━━━━━━\u001b[0m \u001b[32m557.1/557.1 MB\u001b[0m \u001b[31m1.1 MB/s\u001b[0m eta \u001b[36m0:00:00\u001b[0m\n",
            "\u001b[?25hCollecting nvidia-cublas-cu11==11.10.3.66 (from torch<2.0,>=1.10->pii-leakage==0.1.0)\n",
            "  Downloading nvidia_cublas_cu11-11.10.3.66-py3-none-manylinux1_x86_64.whl (317.1 MB)\n",
            "\u001b[2K     \u001b[90m━━━━━━━━━━━━━━━━━━━━━━━━━━━━━━━━━━━━━━━━\u001b[0m \u001b[32m317.1/317.1 MB\u001b[0m \u001b[31m3.4 MB/s\u001b[0m eta \u001b[36m0:00:00\u001b[0m\n",
            "\u001b[?25hCollecting nvidia-cuda-nvrtc-cu11==11.7.99 (from torch<2.0,>=1.10->pii-leakage==0.1.0)\n",
            "  Downloading nvidia_cuda_nvrtc_cu11-11.7.99-2-py3-none-manylinux1_x86_64.whl (21.0 MB)\n",
            "\u001b[2K     \u001b[90m━━━━━━━━━━━━━━━━━━━━━━━━━━━━━━━━━━━━━━━━\u001b[0m \u001b[32m21.0/21.0 MB\u001b[0m \u001b[31m65.9 MB/s\u001b[0m eta \u001b[36m0:00:00\u001b[0m\n",
            "\u001b[?25hRequirement already satisfied: setuptools in /usr/local/lib/python3.10/dist-packages (from nvidia-cublas-cu11==11.10.3.66->torch<2.0,>=1.10->pii-leakage==0.1.0) (67.7.2)\n",
            "Requirement already satisfied: wheel in /usr/local/lib/python3.10/dist-packages (from nvidia-cublas-cu11==11.10.3.66->torch<2.0,>=1.10->pii-leakage==0.1.0) (0.42.0)\n",
            "Collecting datasets>=2.0.0 (from dp_transformers@ git+https://github.com/microsoft/dp-transformers.git@main#egg=dp_transformers->pii-leakage==0.1.0)\n",
            "  Downloading datasets-2.15.0-py3-none-any.whl (521 kB)\n",
            "\u001b[2K     \u001b[90m━━━━━━━━━━━━━━━━━━━━━━━━━━━━━━━━━━━━━━━━\u001b[0m \u001b[32m521.2/521.2 kB\u001b[0m \u001b[31m50.9 MB/s\u001b[0m eta \u001b[36m0:00:00\u001b[0m\n",
            "\u001b[?25hCollecting peft (from dp_transformers@ git+https://github.com/microsoft/dp-transformers.git@main#egg=dp_transformers->pii-leakage==0.1.0)\n",
            "  Downloading peft-0.7.1-py3-none-any.whl (168 kB)\n",
            "\u001b[2K     \u001b[90m━━━━━━━━━━━━━━━━━━━━━━━━━━━━━━━━━━━━━━━━\u001b[0m \u001b[32m168.3/168.3 kB\u001b[0m \u001b[31m24.0 MB/s\u001b[0m eta \u001b[36m0:00:00\u001b[0m\n",
            "\u001b[?25hCollecting prv_accountant<0.2.0 (from dp_transformers@ git+https://github.com/microsoft/dp-transformers.git@main#egg=dp_transformers->pii-leakage==0.1.0)\n",
            "  Downloading prv_accountant-0.1.1.post1-py3-none-any.whl (13 kB)\n",
            "Requirement already satisfied: numpy>=1.15 in /usr/local/lib/python3.10/dist-packages (from opacus->pii-leakage==0.1.0) (1.23.5)\n",
            "Requirement already satisfied: scipy>=1.2 in /usr/local/lib/python3.10/dist-packages (from opacus->pii-leakage==0.1.0) (1.11.4)\n",
            "Requirement already satisfied: opt-einsum>=3.3.0 in /usr/local/lib/python3.10/dist-packages (from opacus->pii-leakage==0.1.0) (3.3.0)\n",
            "Requirement already satisfied: filelock in /usr/local/lib/python3.10/dist-packages (from transformers->pii-leakage==0.1.0) (3.13.1)\n",
            "Requirement already satisfied: huggingface-hub<1.0,>=0.16.4 in /usr/local/lib/python3.10/dist-packages (from transformers->pii-leakage==0.1.0) (0.19.4)\n",
            "Requirement already satisfied: packaging>=20.0 in /usr/local/lib/python3.10/dist-packages (from transformers->pii-leakage==0.1.0) (23.2)\n",
            "Requirement already satisfied: pyyaml>=5.1 in /usr/local/lib/python3.10/dist-packages (from transformers->pii-leakage==0.1.0) (6.0.1)\n",
            "Requirement already satisfied: regex!=2019.12.17 in /usr/local/lib/python3.10/dist-packages (from transformers->pii-leakage==0.1.0) (2023.6.3)\n",
            "Requirement already satisfied: requests in /usr/local/lib/python3.10/dist-packages (from transformers->pii-leakage==0.1.0) (2.31.0)\n",
            "Requirement already satisfied: tokenizers<0.19,>=0.14 in /usr/local/lib/python3.10/dist-packages (from transformers->pii-leakage==0.1.0) (0.15.0)\n",
            "Requirement already satisfied: safetensors>=0.3.1 in /usr/local/lib/python3.10/dist-packages (from transformers->pii-leakage==0.1.0) (0.4.1)\n",
            "Collecting boto3>=1.20.27 (from flair@ git+https://github.com/flairNLP/flair->pii-leakage==0.1.0)\n",
            "  Downloading boto3-1.34.2-py3-none-any.whl (139 kB)\n",
            "\u001b[2K     \u001b[90m━━━━━━━━━━━━━━━━━━━━━━━━━━━━━━━━━━━━━━━━\u001b[0m \u001b[32m139.3/139.3 kB\u001b[0m \u001b[31m19.2 MB/s\u001b[0m eta \u001b[36m0:00:00\u001b[0m\n",
            "\u001b[?25hCollecting bpemb>=0.3.2 (from flair@ git+https://github.com/flairNLP/flair->pii-leakage==0.1.0)\n",
            "  Downloading bpemb-0.3.4-py3-none-any.whl (19 kB)\n",
            "Collecting conllu>=4.0 (from flair@ git+https://github.com/flairNLP/flair->pii-leakage==0.1.0)\n",
            "  Downloading conllu-4.5.3-py2.py3-none-any.whl (16 kB)\n",
            "Collecting deprecated>=1.2.13 (from flair@ git+https://github.com/flairNLP/flair->pii-leakage==0.1.0)\n",
            "  Downloading Deprecated-1.2.14-py2.py3-none-any.whl (9.6 kB)\n",
            "Collecting ftfy>=6.1.0 (from flair@ git+https://github.com/flairNLP/flair->pii-leakage==0.1.0)\n",
            "  Downloading ftfy-6.1.3-py3-none-any.whl (53 kB)\n",
            "\u001b[2K     \u001b[90m━━━━━━━━━━━━━━━━━━━━━━━━━━━━━━━━━━━━━━━━\u001b[0m \u001b[32m53.4/53.4 kB\u001b[0m \u001b[31m8.5 MB/s\u001b[0m eta \u001b[36m0:00:00\u001b[0m\n",
            "\u001b[?25hRequirement already satisfied: gdown>=4.4.0 in /usr/local/lib/python3.10/dist-packages (from flair@ git+https://github.com/flairNLP/flair->pii-leakage==0.1.0) (4.6.6)\n",
            "Requirement already satisfied: gensim>=4.2.0 in /usr/local/lib/python3.10/dist-packages (from flair@ git+https://github.com/flairNLP/flair->pii-leakage==0.1.0) (4.3.2)\n",
            "Collecting janome>=0.4.2 (from flair@ git+https://github.com/flairNLP/flair->pii-leakage==0.1.0)\n",
            "  Downloading Janome-0.5.0-py2.py3-none-any.whl (19.7 MB)\n",
            "\u001b[2K     \u001b[90m━━━━━━━━━━━━━━━━━━━━━━━━━━━━━━━━━━━━━━━━\u001b[0m \u001b[32m19.7/19.7 MB\u001b[0m \u001b[31m68.4 MB/s\u001b[0m eta \u001b[36m0:00:00\u001b[0m\n",
            "\u001b[?25hCollecting langdetect>=1.0.9 (from flair@ git+https://github.com/flairNLP/flair->pii-leakage==0.1.0)\n",
            "  Downloading langdetect-1.0.9.tar.gz (981 kB)\n",
            "\u001b[2K     \u001b[90m━━━━━━━━━━━━━━━━━━━━━━━━━━━━━━━━━━━━━━━━\u001b[0m \u001b[32m981.5/981.5 kB\u001b[0m \u001b[31m73.2 MB/s\u001b[0m eta \u001b[36m0:00:00\u001b[0m\n",
            "\u001b[?25h  Preparing metadata (setup.py) ... \u001b[?25l\u001b[?25hdone\n",
            "Requirement already satisfied: lxml>=4.8.0 in /usr/local/lib/python3.10/dist-packages (from flair@ git+https://github.com/flairNLP/flair->pii-leakage==0.1.0) (4.9.3)\n",
            "Requirement already satisfied: matplotlib>=2.2.3 in /usr/local/lib/python3.10/dist-packages (from flair@ git+https://github.com/flairNLP/flair->pii-leakage==0.1.0) (3.7.1)\n",
            "Requirement already satisfied: more-itertools>=8.13.0 in /usr/local/lib/python3.10/dist-packages (from flair@ git+https://github.com/flairNLP/flair->pii-leakage==0.1.0) (10.1.0)\n",
            "Collecting mpld3>=0.3 (from flair@ git+https://github.com/flairNLP/flair->pii-leakage==0.1.0)\n",
            "  Downloading mpld3-0.5.9-py3-none-any.whl (201 kB)\n",
            "\u001b[2K     \u001b[90m━━━━━━━━━━━━━━━━━━━━━━━━━━━━━━━━━━━━━━━━\u001b[0m \u001b[32m201.2/201.2 kB\u001b[0m \u001b[31m25.3 MB/s\u001b[0m eta \u001b[36m0:00:00\u001b[0m\n",
            "\u001b[?25hCollecting pptree>=3.1 (from flair@ git+https://github.com/flairNLP/flair->pii-leakage==0.1.0)\n",
            "  Downloading pptree-3.1.tar.gz (3.0 kB)\n",
            "  Preparing metadata (setup.py) ... \u001b[?25l\u001b[?25hdone\n",
            "Requirement already satisfied: python-dateutil>=2.8.2 in /usr/local/lib/python3.10/dist-packages (from flair@ git+https://github.com/flairNLP/flair->pii-leakage==0.1.0) (2.8.2)\n",
            "Collecting pytorch-revgrad>=0.2.0 (from flair@ git+https://github.com/flairNLP/flair->pii-leakage==0.1.0)\n",
            "  Downloading pytorch_revgrad-0.2.0-py3-none-any.whl (4.6 kB)\n",
            "Requirement already satisfied: scikit-learn>=1.0.2 in /usr/local/lib/python3.10/dist-packages (from flair@ git+https://github.com/flairNLP/flair->pii-leakage==0.1.0) (1.2.2)\n",
            "Collecting segtok>=1.5.11 (from flair@ git+https://github.com/flairNLP/flair->pii-leakage==0.1.0)\n",
            "  Downloading segtok-1.5.11-py3-none-any.whl (24 kB)\n",
            "Collecting sqlitedict>=2.0.0 (from flair@ git+https://github.com/flairNLP/flair->pii-leakage==0.1.0)\n",
            "  Downloading sqlitedict-2.1.0.tar.gz (21 kB)\n",
            "  Preparing metadata (setup.py) ... \u001b[?25l\u001b[?25hdone\n",
            "Requirement already satisfied: tabulate>=0.8.10 in /usr/local/lib/python3.10/dist-packages (from flair@ git+https://github.com/flairNLP/flair->pii-leakage==0.1.0) (0.9.0)\n",
            "Collecting transformer-smaller-training-vocab>=0.2.3 (from flair@ git+https://github.com/flairNLP/flair->pii-leakage==0.1.0)\n",
            "  Downloading transformer_smaller_training_vocab-0.3.3-py3-none-any.whl (14 kB)\n",
            "Collecting urllib3<2.0.0,>=1.0.0 (from flair@ git+https://github.com/flairNLP/flair->pii-leakage==0.1.0)\n",
            "  Downloading urllib3-1.26.18-py2.py3-none-any.whl (143 kB)\n",
            "\u001b[2K     \u001b[90m━━━━━━━━━━━━━━━━━━━━━━━━━━━━━━━━━━━━━━━━\u001b[0m \u001b[32m143.8/143.8 kB\u001b[0m \u001b[31m20.7 MB/s\u001b[0m eta \u001b[36m0:00:00\u001b[0m\n",
            "\u001b[?25hCollecting wikipedia-api>=0.5.7 (from flair@ git+https://github.com/flairNLP/flair->pii-leakage==0.1.0)\n",
            "  Downloading Wikipedia_API-0.6.0-py3-none-any.whl (14 kB)\n",
            "Collecting semver<4.0.0,>=3.0.0 (from flair@ git+https://github.com/flairNLP/flair->pii-leakage==0.1.0)\n",
            "  Downloading semver-3.0.2-py3-none-any.whl (17 kB)\n",
            "Collecting botocore<1.35.0,>=1.34.2 (from boto3>=1.20.27->flair@ git+https://github.com/flairNLP/flair->pii-leakage==0.1.0)\n",
            "  Downloading botocore-1.34.2-py3-none-any.whl (11.8 MB)\n",
            "\u001b[2K     \u001b[90m━━━━━━━━━━━━━━━━━━━━━━━━━━━━━━━━━━━━━━━━\u001b[0m \u001b[32m11.8/11.8 MB\u001b[0m \u001b[31m74.4 MB/s\u001b[0m eta \u001b[36m0:00:00\u001b[0m\n",
            "\u001b[?25hCollecting jmespath<2.0.0,>=0.7.1 (from boto3>=1.20.27->flair@ git+https://github.com/flairNLP/flair->pii-leakage==0.1.0)\n",
            "  Downloading jmespath-1.0.1-py3-none-any.whl (20 kB)\n",
            "Collecting s3transfer<0.10.0,>=0.9.0 (from boto3>=1.20.27->flair@ git+https://github.com/flairNLP/flair->pii-leakage==0.1.0)\n",
            "  Downloading s3transfer-0.9.0-py3-none-any.whl (82 kB)\n",
            "\u001b[2K     \u001b[90m━━━━━━━━━━━━━━━━━━━━━━━━━━━━━━━━━━━━━━━━\u001b[0m \u001b[32m82.0/82.0 kB\u001b[0m \u001b[31m12.0 MB/s\u001b[0m eta \u001b[36m0:00:00\u001b[0m\n",
            "\u001b[?25hCollecting sentencepiece (from bpemb>=0.3.2->flair@ git+https://github.com/flairNLP/flair->pii-leakage==0.1.0)\n",
            "  Downloading sentencepiece-0.1.99-cp310-cp310-manylinux_2_17_x86_64.manylinux2014_x86_64.whl (1.3 MB)\n",
            "\u001b[2K     \u001b[90m━━━━━━━━━━━━━━━━━━━━━━━━━━━━━━━━━━━━━━━━\u001b[0m \u001b[32m1.3/1.3 MB\u001b[0m \u001b[31m63.2 MB/s\u001b[0m eta \u001b[36m0:00:00\u001b[0m\n",
            "\u001b[?25hRequirement already satisfied: pyarrow>=8.0.0 in /usr/local/lib/python3.10/dist-packages (from datasets>=2.0.0->dp_transformers@ git+https://github.com/microsoft/dp-transformers.git@main#egg=dp_transformers->pii-leakage==0.1.0) (10.0.1)\n",
            "Collecting pyarrow-hotfix (from datasets>=2.0.0->dp_transformers@ git+https://github.com/microsoft/dp-transformers.git@main#egg=dp_transformers->pii-leakage==0.1.0)\n",
            "  Downloading pyarrow_hotfix-0.6-py3-none-any.whl (7.9 kB)\n",
            "Collecting dill<0.3.8,>=0.3.0 (from datasets>=2.0.0->dp_transformers@ git+https://github.com/microsoft/dp-transformers.git@main#egg=dp_transformers->pii-leakage==0.1.0)\n",
            "  Downloading dill-0.3.7-py3-none-any.whl (115 kB)\n",
            "\u001b[2K     \u001b[90m━━━━━━━━━━━━━━━━━━━━━━━━━━━━━━━━━━━━━━━━\u001b[0m \u001b[32m115.3/115.3 kB\u001b[0m \u001b[31m15.4 MB/s\u001b[0m eta \u001b[36m0:00:00\u001b[0m\n",
            "\u001b[?25hRequirement already satisfied: pandas in /usr/local/lib/python3.10/dist-packages (from datasets>=2.0.0->dp_transformers@ git+https://github.com/microsoft/dp-transformers.git@main#egg=dp_transformers->pii-leakage==0.1.0) (1.5.3)\n",
            "Requirement already satisfied: xxhash in /usr/local/lib/python3.10/dist-packages (from datasets>=2.0.0->dp_transformers@ git+https://github.com/microsoft/dp-transformers.git@main#egg=dp_transformers->pii-leakage==0.1.0) (3.4.1)\n",
            "Collecting multiprocess (from datasets>=2.0.0->dp_transformers@ git+https://github.com/microsoft/dp-transformers.git@main#egg=dp_transformers->pii-leakage==0.1.0)\n",
            "  Downloading multiprocess-0.70.15-py310-none-any.whl (134 kB)\n",
            "\u001b[2K     \u001b[90m━━━━━━━━━━━━━━━━━━━━━━━━━━━━━━━━━━━━━━━━\u001b[0m \u001b[32m134.8/134.8 kB\u001b[0m \u001b[31m17.4 MB/s\u001b[0m eta \u001b[36m0:00:00\u001b[0m\n",
            "\u001b[?25hRequirement already satisfied: fsspec[http]<=2023.10.0,>=2023.1.0 in /usr/local/lib/python3.10/dist-packages (from datasets>=2.0.0->dp_transformers@ git+https://github.com/microsoft/dp-transformers.git@main#egg=dp_transformers->pii-leakage==0.1.0) (2023.6.0)\n",
            "Requirement already satisfied: aiohttp in /usr/local/lib/python3.10/dist-packages (from datasets>=2.0.0->dp_transformers@ git+https://github.com/microsoft/dp-transformers.git@main#egg=dp_transformers->pii-leakage==0.1.0) (3.9.1)\n",
            "Requirement already satisfied: wrapt<2,>=1.10 in /usr/local/lib/python3.10/dist-packages (from deprecated>=1.2.13->flair@ git+https://github.com/flairNLP/flair->pii-leakage==0.1.0) (1.14.1)\n",
            "Requirement already satisfied: wcwidth<0.3.0,>=0.2.12 in /usr/local/lib/python3.10/dist-packages (from ftfy>=6.1.0->flair@ git+https://github.com/flairNLP/flair->pii-leakage==0.1.0) (0.2.12)\n",
            "Requirement already satisfied: six in /usr/local/lib/python3.10/dist-packages (from gdown>=4.4.0->flair@ git+https://github.com/flairNLP/flair->pii-leakage==0.1.0) (1.16.0)\n",
            "Requirement already satisfied: beautifulsoup4 in /usr/local/lib/python3.10/dist-packages (from gdown>=4.4.0->flair@ git+https://github.com/flairNLP/flair->pii-leakage==0.1.0) (4.11.2)\n",
            "Requirement already satisfied: smart-open>=1.8.1 in /usr/local/lib/python3.10/dist-packages (from gensim>=4.2.0->flair@ git+https://github.com/flairNLP/flair->pii-leakage==0.1.0) (6.4.0)\n",
            "Requirement already satisfied: contourpy>=1.0.1 in /usr/local/lib/python3.10/dist-packages (from matplotlib>=2.2.3->flair@ git+https://github.com/flairNLP/flair->pii-leakage==0.1.0) (1.2.0)\n",
            "Requirement already satisfied: cycler>=0.10 in /usr/local/lib/python3.10/dist-packages (from matplotlib>=2.2.3->flair@ git+https://github.com/flairNLP/flair->pii-leakage==0.1.0) (0.12.1)\n",
            "Requirement already satisfied: fonttools>=4.22.0 in /usr/local/lib/python3.10/dist-packages (from matplotlib>=2.2.3->flair@ git+https://github.com/flairNLP/flair->pii-leakage==0.1.0) (4.46.0)\n",
            "Requirement already satisfied: kiwisolver>=1.0.1 in /usr/local/lib/python3.10/dist-packages (from matplotlib>=2.2.3->flair@ git+https://github.com/flairNLP/flair->pii-leakage==0.1.0) (1.4.5)\n",
            "Requirement already satisfied: pillow>=6.2.0 in /usr/local/lib/python3.10/dist-packages (from matplotlib>=2.2.3->flair@ git+https://github.com/flairNLP/flair->pii-leakage==0.1.0) (9.4.0)\n",
            "Requirement already satisfied: pyparsing>=2.3.1 in /usr/local/lib/python3.10/dist-packages (from matplotlib>=2.2.3->flair@ git+https://github.com/flairNLP/flair->pii-leakage==0.1.0) (3.1.1)\n",
            "Requirement already satisfied: jinja2 in /usr/local/lib/python3.10/dist-packages (from mpld3>=0.3->flair@ git+https://github.com/flairNLP/flair->pii-leakage==0.1.0) (3.1.2)\n",
            "Requirement already satisfied: charset-normalizer<4,>=2 in /usr/local/lib/python3.10/dist-packages (from requests->transformers->pii-leakage==0.1.0) (3.3.2)\n",
            "Requirement already satisfied: idna<4,>=2.5 in /usr/local/lib/python3.10/dist-packages (from requests->transformers->pii-leakage==0.1.0) (3.6)\n",
            "Requirement already satisfied: certifi>=2017.4.17 in /usr/local/lib/python3.10/dist-packages (from requests->transformers->pii-leakage==0.1.0) (2023.11.17)\n",
            "Requirement already satisfied: joblib>=1.1.1 in /usr/local/lib/python3.10/dist-packages (from scikit-learn>=1.0.2->flair@ git+https://github.com/flairNLP/flair->pii-leakage==0.1.0) (1.3.2)\n",
            "Requirement already satisfied: threadpoolctl>=2.0.0 in /usr/local/lib/python3.10/dist-packages (from scikit-learn>=1.0.2->flair@ git+https://github.com/flairNLP/flair->pii-leakage==0.1.0) (3.2.0)\n",
            "Requirement already satisfied: protobuf in /usr/local/lib/python3.10/dist-packages (from transformers->pii-leakage==0.1.0) (3.20.3)\n",
            "Requirement already satisfied: psutil in /usr/local/lib/python3.10/dist-packages (from peft->dp_transformers@ git+https://github.com/microsoft/dp-transformers.git@main#egg=dp_transformers->pii-leakage==0.1.0) (5.9.5)\n",
            "Collecting accelerate>=0.21.0 (from peft->dp_transformers@ git+https://github.com/microsoft/dp-transformers.git@main#egg=dp_transformers->pii-leakage==0.1.0)\n",
            "  Downloading accelerate-0.25.0-py3-none-any.whl (265 kB)\n",
            "\u001b[2K     \u001b[90m━━━━━━━━━━━━━━━━━━━━━━━━━━━━━━━━━━━━━━━━\u001b[0m \u001b[32m265.7/265.7 kB\u001b[0m \u001b[31m24.5 MB/s\u001b[0m eta \u001b[36m0:00:00\u001b[0m\n",
            "\u001b[?25hRequirement already satisfied: attrs>=17.3.0 in /usr/local/lib/python3.10/dist-packages (from aiohttp->datasets>=2.0.0->dp_transformers@ git+https://github.com/microsoft/dp-transformers.git@main#egg=dp_transformers->pii-leakage==0.1.0) (23.1.0)\n",
            "Requirement already satisfied: multidict<7.0,>=4.5 in /usr/local/lib/python3.10/dist-packages (from aiohttp->datasets>=2.0.0->dp_transformers@ git+https://github.com/microsoft/dp-transformers.git@main#egg=dp_transformers->pii-leakage==0.1.0) (6.0.4)\n",
            "Requirement already satisfied: yarl<2.0,>=1.0 in /usr/local/lib/python3.10/dist-packages (from aiohttp->datasets>=2.0.0->dp_transformers@ git+https://github.com/microsoft/dp-transformers.git@main#egg=dp_transformers->pii-leakage==0.1.0) (1.9.4)\n",
            "Requirement already satisfied: frozenlist>=1.1.1 in /usr/local/lib/python3.10/dist-packages (from aiohttp->datasets>=2.0.0->dp_transformers@ git+https://github.com/microsoft/dp-transformers.git@main#egg=dp_transformers->pii-leakage==0.1.0) (1.4.0)\n",
            "Requirement already satisfied: aiosignal>=1.1.2 in /usr/local/lib/python3.10/dist-packages (from aiohttp->datasets>=2.0.0->dp_transformers@ git+https://github.com/microsoft/dp-transformers.git@main#egg=dp_transformers->pii-leakage==0.1.0) (1.3.1)\n",
            "Requirement already satisfied: async-timeout<5.0,>=4.0 in /usr/local/lib/python3.10/dist-packages (from aiohttp->datasets>=2.0.0->dp_transformers@ git+https://github.com/microsoft/dp-transformers.git@main#egg=dp_transformers->pii-leakage==0.1.0) (4.0.3)\n",
            "Requirement already satisfied: soupsieve>1.2 in /usr/local/lib/python3.10/dist-packages (from beautifulsoup4->gdown>=4.4.0->flair@ git+https://github.com/flairNLP/flair->pii-leakage==0.1.0) (2.5)\n",
            "Requirement already satisfied: MarkupSafe>=2.0 in /usr/local/lib/python3.10/dist-packages (from jinja2->mpld3>=0.3->flair@ git+https://github.com/flairNLP/flair->pii-leakage==0.1.0) (2.1.3)\n",
            "Requirement already satisfied: pytz>=2020.1 in /usr/local/lib/python3.10/dist-packages (from pandas->datasets>=2.0.0->dp_transformers@ git+https://github.com/microsoft/dp-transformers.git@main#egg=dp_transformers->pii-leakage==0.1.0) (2023.3.post1)\n",
            "Requirement already satisfied: PySocks!=1.5.7,>=1.5.6 in /usr/local/lib/python3.10/dist-packages (from requests->transformers->pii-leakage==0.1.0) (1.7.1)\n",
            "Building wheels for collected packages: dp_transformers, flair, langdetect, pptree, sqlitedict\n",
            "  Building wheel for dp_transformers (setup.py) ... \u001b[?25l\u001b[?25hdone\n",
            "  Created wheel for dp_transformers: filename=dp_transformers-1.0.1-py3-none-any.whl size=13984 sha256=e874ac4005634e61e5af71a04a40d58fccfbe80aa8772de7af73ea722216ed10\n",
            "  Stored in directory: /tmp/pip-ephem-wheel-cache-oyu52pi_/wheels/1c/75/2f/807887690881d9f539a452fa76715f242f7adf97b5735c74cf\n",
            "  Building wheel for flair (pyproject.toml) ... \u001b[?25l\u001b[?25hdone\n",
            "  Created wheel for flair: filename=flair-0.13.1-py3-none-any.whl size=387282 sha256=4b51c03567f920ed33ff3baf1bbc2a8726087e31fbaaddf2980b75919a07d26e\n",
            "  Stored in directory: /tmp/pip-ephem-wheel-cache-oyu52pi_/wheels/f1/44/f7/f83748b4cb09d18f413dfd2f23c765c2e45898cdb64674601c\n",
            "  Building wheel for langdetect (setup.py) ... \u001b[?25l\u001b[?25hdone\n",
            "  Created wheel for langdetect: filename=langdetect-1.0.9-py3-none-any.whl size=993225 sha256=6e8bbce9e0c22d722ca274886bc7feb206f3dca2716d69133e5cfca9b81622f6\n",
            "  Stored in directory: /root/.cache/pip/wheels/95/03/7d/59ea870c70ce4e5a370638b5462a7711ab78fba2f655d05106\n",
            "  Building wheel for pptree (setup.py) ... \u001b[?25l\u001b[?25hdone\n",
            "  Created wheel for pptree: filename=pptree-3.1-py3-none-any.whl size=4608 sha256=2719fc6f0b95e8f6b12117f15432d412ce3dffc96e940e2b17d83371eecbc187\n",
            "  Stored in directory: /root/.cache/pip/wheels/9f/b6/0e/6f26eb9e6eb53ff2107a7888d72b5a6a597593956113037828\n",
            "  Building wheel for sqlitedict (setup.py) ... \u001b[?25l\u001b[?25hdone\n",
            "  Created wheel for sqlitedict: filename=sqlitedict-2.1.0-py3-none-any.whl size=16863 sha256=383ae477bce1e7213e04c118e261cb9ca97676f864fe1c05d3000b459906a131\n",
            "  Stored in directory: /root/.cache/pip/wheels/79/d6/e7/304e0e6cb2221022c26d8161f7c23cd4f259a9e41e8bbcfabd\n",
            "Successfully built dp_transformers flair langdetect pptree sqlitedict\n",
            "Installing collected packages: sqlitedict, sentencepiece, pptree, janome, urllib3, semver, segtok, pyarrow-hotfix, nvidia-cuda-runtime-cu11, nvidia-cuda-nvrtc-cu11, nvidia-cublas-cu11, langdetect, jmespath, ftfy, dill, deprecated, conllu, prv_accountant, nvidia-cudnn-cu11, multiprocess, botocore, wikipedia-api, torch, s3transfer, mpld3, bpemb, pytorch-revgrad, opacus, datasets, boto3, accelerate, peft, transformer-smaller-training-vocab, dp_transformers, flair, pii-leakage\n",
            "  Attempting uninstall: urllib3\n",
            "    Found existing installation: urllib3 2.0.7\n",
            "    Uninstalling urllib3-2.0.7:\n",
            "      Successfully uninstalled urllib3-2.0.7\n",
            "  Attempting uninstall: torch\n",
            "    Found existing installation: torch 2.1.0+cu121\n",
            "    Uninstalling torch-2.1.0+cu121:\n",
            "      Successfully uninstalled torch-2.1.0+cu121\n",
            "  Running setup.py develop for pii-leakage\n",
            "\u001b[31mERROR: pip's dependency resolver does not currently take into account all the packages that are installed. This behaviour is the source of the following dependency conflicts.\n",
            "torchaudio 2.1.0+cu121 requires torch==2.1.0, but you have torch 1.13.1 which is incompatible.\n",
            "torchdata 0.7.0 requires torch==2.1.0, but you have torch 1.13.1 which is incompatible.\n",
            "torchtext 0.16.0 requires torch==2.1.0, but you have torch 1.13.1 which is incompatible.\n",
            "torchvision 0.16.0+cu121 requires torch==2.1.0, but you have torch 1.13.1 which is incompatible.\u001b[0m\u001b[31m\n",
            "\u001b[0mSuccessfully installed accelerate-0.25.0 boto3-1.34.2 botocore-1.34.2 bpemb-0.3.4 conllu-4.5.3 datasets-2.15.0 deprecated-1.2.14 dill-0.3.7 dp_transformers-1.0.1 flair-0.13.1 ftfy-6.1.3 janome-0.5.0 jmespath-1.0.1 langdetect-1.0.9 mpld3-0.5.9 multiprocess-0.70.15 nvidia-cublas-cu11-11.10.3.66 nvidia-cuda-nvrtc-cu11-11.7.99 nvidia-cuda-runtime-cu11-11.7.99 nvidia-cudnn-cu11-8.5.0.96 opacus-1.4.0 peft-0.7.1 pii-leakage-0.1.0 pptree-3.1 prv_accountant-0.1.1.post1 pyarrow-hotfix-0.6 pytorch-revgrad-0.2.0 s3transfer-0.9.0 segtok-1.5.11 semver-3.0.2 sentencepiece-0.1.99 sqlitedict-2.1.0 torch-1.13.1 transformer-smaller-training-vocab-0.3.3 urllib3-1.26.18 wikipedia-api-0.6.0\n"
          ]
        }
      ]
    },
    {
      "cell_type": "code",
      "source": [
        "!pwd\n"
      ],
      "metadata": {
        "id": "iIGqdeg1B-ej",
        "outputId": "5124b4c9-31e6-4529-8084-be50908de0da",
        "colab": {
          "base_uri": "https://localhost:8080/"
        }
      },
      "id": "iIGqdeg1B-ej",
      "execution_count": 10,
      "outputs": [
        {
          "output_type": "stream",
          "name": "stdout",
          "text": [
            "/content/analysing_pii_leakage\n"
          ]
        }
      ]
    },
    {
      "cell_type": "code",
      "source": [
        "!pip install torch==1.13.1+cu117 torchvision==0.14.1+cu117 torchaudio==0.13.1 --extra-index-url https://download.pytorch.org/whl/cu117"
      ],
      "metadata": {
        "colab": {
          "base_uri": "https://localhost:8080/"
        },
        "id": "pJFv6eV6Ddv4",
        "outputId": "c9a98a44-64f2-4110-eb0f-1d38edb82a22"
      },
      "id": "pJFv6eV6Ddv4",
      "execution_count": 11,
      "outputs": [
        {
          "output_type": "stream",
          "name": "stdout",
          "text": [
            "Looking in indexes: https://pypi.org/simple, https://download.pytorch.org/whl/cu117\n",
            "Collecting torch==1.13.1+cu117\n",
            "  Using cached https://download.pytorch.org/whl/cu117/torch-1.13.1%2Bcu117-cp310-cp310-linux_x86_64.whl (1801.8 MB)\n",
            "Collecting torchvision==0.14.1+cu117\n",
            "  Downloading https://download.pytorch.org/whl/cu117/torchvision-0.14.1%2Bcu117-cp310-cp310-linux_x86_64.whl (24.3 MB)\n",
            "\u001b[2K     \u001b[90m━━━━━━━━━━━━━━━━━━━━━━━━━━━━━━━━━━━━━━━━\u001b[0m \u001b[32m24.3/24.3 MB\u001b[0m \u001b[31m44.3 MB/s\u001b[0m eta \u001b[36m0:00:00\u001b[0m\n",
            "\u001b[?25hCollecting torchaudio==0.13.1\n",
            "  Downloading https://download.pytorch.org/whl/cu117/torchaudio-0.13.1%2Bcu117-cp310-cp310-linux_x86_64.whl (4.2 MB)\n",
            "\u001b[2K     \u001b[90m━━━━━━━━━━━━━━━━━━━━━━━━━━━━━━━━━━━━━━━━\u001b[0m \u001b[32m4.2/4.2 MB\u001b[0m \u001b[31m78.8 MB/s\u001b[0m eta \u001b[36m0:00:00\u001b[0m\n",
            "\u001b[?25hRequirement already satisfied: typing-extensions in /usr/local/lib/python3.10/dist-packages (from torch==1.13.1+cu117) (4.5.0)\n",
            "Requirement already satisfied: numpy in /usr/local/lib/python3.10/dist-packages (from torchvision==0.14.1+cu117) (1.23.5)\n",
            "Requirement already satisfied: requests in /usr/local/lib/python3.10/dist-packages (from torchvision==0.14.1+cu117) (2.31.0)\n",
            "Requirement already satisfied: pillow!=8.3.*,>=5.3.0 in /usr/local/lib/python3.10/dist-packages (from torchvision==0.14.1+cu117) (9.4.0)\n",
            "Requirement already satisfied: charset-normalizer<4,>=2 in /usr/local/lib/python3.10/dist-packages (from requests->torchvision==0.14.1+cu117) (3.3.2)\n",
            "Requirement already satisfied: idna<4,>=2.5 in /usr/local/lib/python3.10/dist-packages (from requests->torchvision==0.14.1+cu117) (3.6)\n",
            "Requirement already satisfied: urllib3<3,>=1.21.1 in /usr/local/lib/python3.10/dist-packages (from requests->torchvision==0.14.1+cu117) (1.26.18)\n",
            "Requirement already satisfied: certifi>=2017.4.17 in /usr/local/lib/python3.10/dist-packages (from requests->torchvision==0.14.1+cu117) (2023.11.17)\n",
            "Installing collected packages: torch, torchvision, torchaudio\n",
            "  Attempting uninstall: torch\n",
            "    Found existing installation: torch 1.13.1\n",
            "    Uninstalling torch-1.13.1:\n",
            "      Successfully uninstalled torch-1.13.1\n",
            "  Attempting uninstall: torchvision\n",
            "    Found existing installation: torchvision 0.16.0+cu121\n",
            "    Uninstalling torchvision-0.16.0+cu121:\n",
            "      Successfully uninstalled torchvision-0.16.0+cu121\n",
            "  Attempting uninstall: torchaudio\n",
            "    Found existing installation: torchaudio 2.1.0+cu121\n",
            "    Uninstalling torchaudio-2.1.0+cu121:\n",
            "      Successfully uninstalled torchaudio-2.1.0+cu121\n",
            "\u001b[31mERROR: pip's dependency resolver does not currently take into account all the packages that are installed. This behaviour is the source of the following dependency conflicts.\n",
            "torchdata 0.7.0 requires torch==2.1.0, but you have torch 1.13.1+cu117 which is incompatible.\n",
            "torchtext 0.16.0 requires torch==2.1.0, but you have torch 1.13.1+cu117 which is incompatible.\u001b[0m\u001b[31m\n",
            "\u001b[0mSuccessfully installed torch-1.13.1+cu117 torchaudio-0.13.1+cu117 torchvision-0.14.1+cu117\n"
          ]
        }
      ]
    },
    {
      "cell_type": "code",
      "source": [
        "%cd examples\n"
      ],
      "metadata": {
        "id": "PIppegJvEw8x",
        "outputId": "c20233d3-307b-4fc5-ded1-82dc286e3565",
        "colab": {
          "base_uri": "https://localhost:8080/"
        }
      },
      "id": "PIppegJvEw8x",
      "execution_count": 12,
      "outputs": [
        {
          "output_type": "stream",
          "name": "stdout",
          "text": [
            "/content/analysing_pii_leakage/examples\n"
          ]
        }
      ]
    },
    {
      "cell_type": "code",
      "source": [
        "!python fine_tune.py --config_path ../configs/fine-tune/bert_config.yml\n"
      ],
      "metadata": {
        "id": "zfxYWjiGE5OY",
        "outputId": "c5f52d1f-0d28-46c1-a240-22eff74852ba",
        "colab": {
          "base_uri": "https://localhost:8080/"
        }
      },
      "id": "zfxYWjiGE5OY",
      "execution_count": 13,
      "outputs": [
        {
          "output_type": "stream",
          "name": "stdout",
          "text": [
            "2023-12-18 00:51:46.173668: E external/local_xla/xla/stream_executor/cuda/cuda_dnn.cc:9261] Unable to register cuDNN factory: Attempting to register factory for plugin cuDNN when one has already been registered\n",
            "2023-12-18 00:51:46.173780: E external/local_xla/xla/stream_executor/cuda/cuda_fft.cc:607] Unable to register cuFFT factory: Attempting to register factory for plugin cuFFT when one has already been registered\n",
            "2023-12-18 00:51:46.302358: E external/local_xla/xla/stream_executor/cuda/cuda_blas.cc:1515] Unable to register cuBLAS factory: Attempting to register factory for plugin cuBLAS when one has already been registered\n",
            "2023-12-18 00:51:48.577152: W tensorflow/compiler/tf2tensorrt/utils/py_utils.cc:38] TF-TRT Warning: Could not find TensorRT\n",
            "\n",
            "\u001b[92m\n",
            "eps_error       : 0.1000\n",
            "lora_alpha      : 32\n",
            "lora_dim        : 0\n",
            "lora_dropout    : 0.0000\n",
            "max_grad_norm_dp: 1.0000\n",
            "no_accountant   : False\n",
            "noise_multiplier: None\n",
            "target_delta    : None\n",
            "target_epsilon  : -1\n",
            "\u001b[0m\n",
            "\n",
            "pytorch_model.bin: 100% 2.24G/2.24G [00:16<00:00, 139MB/s]\n",
            "config.json: 100% 616/616 [00:00<00:00, 3.39MB/s]\n",
            "sentencepiece.bpe.model: 100% 5.07M/5.07M [00:01<00:00, 3.41MB/s]\n",
            "tokenizer.json: 100% 9.10M/9.10M [00:01<00:00, 6.15MB/s]\n",
            "2023-12-18 00:52:35,880 SequenceTagger predicts: Dictionary with 76 tags: <unk>, O, B-CARDINAL, E-CARDINAL, S-PERSON, S-CARDINAL, S-PRODUCT, B-PRODUCT, I-PRODUCT, E-PRODUCT, B-WORK_OF_ART, I-WORK_OF_ART, E-WORK_OF_ART, B-PERSON, E-PERSON, S-GPE, B-DATE, I-DATE, E-DATE, S-ORDINAL, S-LANGUAGE, I-PERSON, S-EVENT, S-DATE, B-QUANTITY, E-QUANTITY, S-TIME, B-TIME, I-TIME, E-TIME, B-GPE, E-GPE, S-ORG, I-GPE, S-NORP, B-FAC, I-FAC, E-FAC, B-NORP, E-NORP, S-PERCENT, B-ORG, E-ORG, B-LANGUAGE, E-LANGUAGE, I-CARDINAL, I-ORG, S-WORK_OF_ART, I-QUANTITY, B-MONEY\n",
            "\n",
            "\u001b[92m\n",
            "anon_token   : <MASK>\n",
            "anonymize    : False\n",
            "ner          : flair\n",
            "ner_model    : flair/ner-english-ontonotes-large\n",
            "tag_n_batches: 10000\n",
            "\u001b[0m\n",
            "\n",
            "Downloading builder script: 100% 8.61k/8.61k [00:00<00:00, 24.1MB/s]\n",
            "Downloading metadata: 100% 4.57k/4.57k [00:00<00:00, 21.9MB/s]\n",
            "Downloading readme: 100% 13.9k/13.9k [00:00<00:00, 44.6MB/s]\n",
            "Downloading data: 100% 32.8M/32.8M [00:33<00:00, 974kB/s] \n",
            "Generating train split: 100% 9000/9000 [00:02<00:00, 4194.06 examples/s]\n",
            "Generating test split: 100% 1000/1000 [00:00<00:00, 3837.66 examples/s]\n",
            "Generating validation split: 100% 1000/1000 [00:00<00:00, 3970.08 examples/s]\n",
            "Generating train split: 0 examples [00:00, ? examples/s]\n",
            "\u001b[92m\n",
            "Length of data: 262580. Scrubbing from 0 to 118161 (Total=118161).\n",
            "\u001b[0m\n",
            "\n",
            "\n",
            "\u001b[92m\n",
            "72.  On 23 October 2000 the Aliens Office informed the applicant’s lawyer that the time-limit had been extended until such time as the applicant and his child were fully recovered.\n",
            "\u001b[0m\n",
            "\n",
            "Generating train split: 118161 examples [1:23:00, 23.73 examples/s]\n",
            "Generating test split: 0 examples [00:00, ? examples/s]\n",
            "\u001b[92m\n",
            "Length of data: 262580. Scrubbing from 118161 to 144419 (Total=26258).\n",
            "\u001b[0m\n",
            "\n",
            "\n",
            "\u001b[92m\n",
            "7.  The applicant was the owner of three plots of land in the village of Ayios Tychonas in the district of Limassol (plots nos. 148, 137 and 137/1). These plots were classified under the Antiquities Law as being of archaeological importance and were within the ambit of a town planning zone subject to building restrictions for the purpose of protecting antiquities in the area.\n",
            "\u001b[0m\n",
            "\n",
            "Generating test split: 26258 examples [18:30, 23.64 examples/s]\n",
            "Generating validation split: 0 examples [00:00, ? examples/s]\n",
            "\u001b[92m\n",
            "Length of data: 262580. Scrubbing from 144419 to 262580 (Total=118161).\n",
            "\u001b[0m\n",
            "\n",
            "\n",
            "\u001b[92m\n",
            "9.  On 18 March 2004 the applicant was ordered not to leave town.\n",
            "\u001b[0m\n",
            "\n",
            "Generating validation split: 118161 examples [1:21:11, 24.26 examples/s]\n",
            "2023-12-18 03:56:25,688 SequenceTagger predicts: Dictionary with 76 tags: <unk>, O, B-CARDINAL, E-CARDINAL, S-PERSON, S-CARDINAL, S-PRODUCT, B-PRODUCT, I-PRODUCT, E-PRODUCT, B-WORK_OF_ART, I-WORK_OF_ART, E-WORK_OF_ART, B-PERSON, E-PERSON, S-GPE, B-DATE, I-DATE, E-DATE, S-ORDINAL, S-LANGUAGE, I-PERSON, S-EVENT, S-DATE, B-QUANTITY, E-QUANTITY, S-TIME, B-TIME, I-TIME, E-TIME, B-GPE, E-GPE, S-ORG, I-GPE, S-NORP, B-FAC, I-FAC, E-FAC, B-NORP, E-NORP, S-PERCENT, B-ORG, E-ORG, B-LANGUAGE, E-LANGUAGE, I-CARDINAL, I-ORG, S-WORK_OF_ART, I-QUANTITY, B-MONEY\n",
            "\n",
            "\u001b[92m\n",
            "anon_token   : <MASK>\n",
            "anonymize    : False\n",
            "ner          : flair\n",
            "ner_model    : flair/ner-english-ontonotes-large\n",
            "tag_n_batches: 10000\n",
            "\u001b[0m\n",
            "\n",
            "2023-12-18 03:56:43,244 SequenceTagger predicts: Dictionary with 76 tags: <unk>, O, B-CARDINAL, E-CARDINAL, S-PERSON, S-CARDINAL, S-PRODUCT, B-PRODUCT, I-PRODUCT, E-PRODUCT, B-WORK_OF_ART, I-WORK_OF_ART, E-WORK_OF_ART, B-PERSON, E-PERSON, S-GPE, B-DATE, I-DATE, E-DATE, S-ORDINAL, S-LANGUAGE, I-PERSON, S-EVENT, S-DATE, B-QUANTITY, E-QUANTITY, S-TIME, B-TIME, I-TIME, E-TIME, B-GPE, E-GPE, S-ORG, I-GPE, S-NORP, B-FAC, I-FAC, E-FAC, B-NORP, E-NORP, S-PERCENT, B-ORG, E-ORG, B-LANGUAGE, E-LANGUAGE, I-CARDINAL, I-ORG, S-WORK_OF_ART, I-QUANTITY, B-MONEY\n",
            "\n",
            "\u001b[92m\n",
            "anon_token   : <MASK>\n",
            "anonymize    : False\n",
            "ner          : flair\n",
            "ner_model    : flair/ner-english-ontonotes-large\n",
            "tag_n_batches: 10000\n",
            "\u001b[0m\n",
            "\n",
            "2023-12-18 03:57:00,654 SequenceTagger predicts: Dictionary with 76 tags: <unk>, O, B-CARDINAL, E-CARDINAL, S-PERSON, S-CARDINAL, S-PRODUCT, B-PRODUCT, I-PRODUCT, E-PRODUCT, B-WORK_OF_ART, I-WORK_OF_ART, E-WORK_OF_ART, B-PERSON, E-PERSON, S-GPE, B-DATE, I-DATE, E-DATE, S-ORDINAL, S-LANGUAGE, I-PERSON, S-EVENT, S-DATE, B-QUANTITY, E-QUANTITY, S-TIME, B-TIME, I-TIME, E-TIME, B-GPE, E-GPE, S-ORG, I-GPE, S-NORP, B-FAC, I-FAC, E-FAC, B-NORP, E-NORP, S-PERCENT, B-ORG, E-ORG, B-LANGUAGE, E-LANGUAGE, I-CARDINAL, I-ORG, S-WORK_OF_ART, I-QUANTITY, B-MONEY\n",
            "\n",
            "\u001b[92m\n",
            "anon_token   : <MASK>\n",
            "anonymize    : False\n",
            "ner          : flair\n",
            "ner_model    : flair/ner-english-ontonotes-large\n",
            "tag_n_batches: 10000\n",
            "\u001b[0m\n",
            "\n",
            "Traceback (most recent call last):\n",
            "  File \"/usr/local/lib/python3.10/dist-packages/huggingface_hub/utils/_errors.py\", line 270, in hf_raise_for_status\n",
            "    response.raise_for_status()\n",
            "  File \"/usr/local/lib/python3.10/dist-packages/requests/models.py\", line 1021, in raise_for_status\n",
            "    raise HTTPError(http_error_msg, response=self)\n",
            "requests.exceptions.HTTPError: 401 Client Error: Unauthorized for url: https://huggingface.co/bert/resolve/main/config.json\n",
            "\n",
            "The above exception was the direct cause of the following exception:\n",
            "\n",
            "Traceback (most recent call last):\n",
            "  File \"/usr/local/lib/python3.10/dist-packages/transformers/utils/hub.py\", line 430, in cached_file\n",
            "    resolved_file = hf_hub_download(\n",
            "  File \"/usr/local/lib/python3.10/dist-packages/huggingface_hub/utils/_validators.py\", line 118, in _inner_fn\n",
            "    return fn(*args, **kwargs)\n",
            "  File \"/usr/local/lib/python3.10/dist-packages/huggingface_hub/file_download.py\", line 1374, in hf_hub_download\n",
            "    raise head_call_error\n",
            "  File \"/usr/local/lib/python3.10/dist-packages/huggingface_hub/file_download.py\", line 1247, in hf_hub_download\n",
            "    metadata = get_hf_file_metadata(\n",
            "  File \"/usr/local/lib/python3.10/dist-packages/huggingface_hub/utils/_validators.py\", line 118, in _inner_fn\n",
            "    return fn(*args, **kwargs)\n",
            "  File \"/usr/local/lib/python3.10/dist-packages/huggingface_hub/file_download.py\", line 1624, in get_hf_file_metadata\n",
            "    r = _request_wrapper(\n",
            "  File \"/usr/local/lib/python3.10/dist-packages/huggingface_hub/file_download.py\", line 402, in _request_wrapper\n",
            "    response = _request_wrapper(\n",
            "  File \"/usr/local/lib/python3.10/dist-packages/huggingface_hub/file_download.py\", line 426, in _request_wrapper\n",
            "    hf_raise_for_status(response)\n",
            "  File \"/usr/local/lib/python3.10/dist-packages/huggingface_hub/utils/_errors.py\", line 320, in hf_raise_for_status\n",
            "    raise RepositoryNotFoundError(message, response) from e\n",
            "huggingface_hub.utils._errors.RepositoryNotFoundError: 401 Client Error. (Request ID: Root=1-657fc30e-3ef8e3ee63c7804a083cadfd;fe89496a-f368-4feb-8143-87544040a08c)\n",
            "\n",
            "Repository Not Found for url: https://huggingface.co/bert/resolve/main/config.json.\n",
            "Please make sure you specified the correct `repo_id` and `repo_type`.\n",
            "If you are trying to access a private or gated repo, make sure you are authenticated.\n",
            "Invalid username or password.\n",
            "\n",
            "The above exception was the direct cause of the following exception:\n",
            "\n",
            "Traceback (most recent call last):\n",
            "  File \"/content/analysing_pii_leakage/examples/fine_tune.py\", line 81, in <module>\n",
            "    fine_tune(*parse_args())\n",
            "  File \"/content/analysing_pii_leakage/examples/fine_tune.py\", line 63, in fine_tune\n",
            "    lm: LanguageModel = ModelFactory.from_model_args(model_args, env_args=env_args).load()\n",
            "  File \"/content/analysing_pii_leakage/src/pii_leakage/models/language_model.py\", line 92, in load\n",
            "    self._lm = model_cls.from_pretrained(self.model_args.architecture, return_dict=True).eval()\n",
            "  File \"/usr/local/lib/python3.10/dist-packages/transformers/models/auto/auto_factory.py\", line 488, in from_pretrained\n",
            "    resolved_config_file = cached_file(\n",
            "  File \"/usr/local/lib/python3.10/dist-packages/transformers/utils/hub.py\", line 451, in cached_file\n",
            "    raise EnvironmentError(\n",
            "OSError: bert is not a local folder and is not a valid model identifier listed on 'https://huggingface.co/models'\n",
            "If this is a private repository, make sure to pass a token having permission to this repo either by logging in with `huggingface-cli login` or by passing `token=<your_token>`\n"
          ]
        }
      ]
    },
    {
      "cell_type": "code",
      "source": [],
      "metadata": {
        "id": "t1R_wZE2FIg6"
      },
      "id": "t1R_wZE2FIg6",
      "execution_count": 13,
      "outputs": []
    }
  ],
  "metadata": {
    "kernelspec": {
      "display_name": "Python 3",
      "name": "python3"
    },
    "language_info": {
      "codemirror_mode": {
        "name": "ipython",
        "version": 3
      },
      "file_extension": ".py",
      "mimetype": "text/x-python",
      "name": "python",
      "nbconvert_exporter": "python",
      "pygments_lexer": "ipython3",
      "version": "3.11.4"
    },
    "colab": {
      "provenance": [],
      "gpuType": "T4"
    },
    "accelerator": "GPU"
  },
  "nbformat": 4,
  "nbformat_minor": 5
}