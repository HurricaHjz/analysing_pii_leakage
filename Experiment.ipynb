{
  "cells": [
    {
      "cell_type": "markdown",
      "source": [
        "## Git config"
      ],
      "metadata": {
        "id": "wOtAOGSyB0KR"
      },
      "id": "wOtAOGSyB0KR"
    },
    {
      "cell_type": "code",
      "execution_count": 1,
      "id": "71628f18",
      "metadata": {
        "id": "71628f18"
      },
      "outputs": [],
      "source": [
        "!git config --global user.name \"HurricaHjz\"\n",
        "!git config --global user.email \"jerryzmj4210@gmail.com\"\n",
        "!git config --global user.password \"jerryzmj021226.\""
      ]
    },
    {
      "cell_type": "code",
      "execution_count": 2,
      "id": "171fc6ed",
      "metadata": {
        "id": "171fc6ed"
      },
      "outputs": [],
      "source": [
        "token = 'ilovellm'\n",
        "username = 'HurricaHjz'\n",
        "repo = 'analysing_pii_leakage'"
      ]
    },
    {
      "cell_type": "code",
      "source": [
        "!git clone https://{token}@github.com/{username}/{repo}"
      ],
      "metadata": {
        "colab": {
          "base_uri": "https://localhost:8080/"
        },
        "id": "rAhALp6e-DPz",
        "outputId": "3ed16cb6-47a2-452a-d0ed-c2b25fd28256"
      },
      "id": "rAhALp6e-DPz",
      "execution_count": 3,
      "outputs": [
        {
          "output_type": "stream",
          "name": "stdout",
          "text": [
            "fatal: destination path 'analysing_pii_leakage' already exists and is not an empty directory.\n"
          ]
        }
      ]
    },
    {
      "cell_type": "code",
      "source": [
        "%cd {repo}"
      ],
      "metadata": {
        "colab": {
          "base_uri": "https://localhost:8080/"
        },
        "id": "RC-SHfgj--c6",
        "outputId": "e43df102-dde3-4608-a9e6-a80eff287ec4"
      },
      "id": "RC-SHfgj--c6",
      "execution_count": 4,
      "outputs": [
        {
          "output_type": "stream",
          "name": "stdout",
          "text": [
            "/content/analysing_pii_leakage\n"
          ]
        }
      ]
    },
    {
      "cell_type": "code",
      "source": [
        "%ls"
      ],
      "metadata": {
        "colab": {
          "base_uri": "https://localhost:8080/"
        },
        "id": "sT8Em-Sm_AlT",
        "outputId": "5077976e-1410-449c-9da5-472c3df220f5"
      },
      "id": "sT8Em-Sm_AlT",
      "execution_count": 5,
      "outputs": [
        {
          "output_type": "stream",
          "name": "stdout",
          "text": [
            "CODE_OF_CONDUCT.md  \u001b[0m\u001b[01;34mexamples\u001b[0m/         LICENSE    requirements.txt  setup.cfg  \u001b[01;34msrc\u001b[0m/\n",
            "\u001b[01;34mconfigs\u001b[0m/            Experiment.ipynb  README.md  SECURITY.md       setup.py   SUPPORT.md\n"
          ]
        }
      ]
    },
    {
      "cell_type": "code",
      "source": [
        "# !mv /content/Check_If_Two_String_Arrays_are_Equivalent.ipynb /content/LeetCode-HackerRank-Solutions-and-More/Solutions\n",
        "\n",
        "\n",
        "# !git status\n",
        "\n",
        "\n",
        "# !git add --all\n",
        "\n",
        "\n",
        "# !git commit -a -m \"Added a file to the LeetCode folder\"\n",
        "\n",
        "\n",
        "# !git remote -v\n",
        "\n",
        "\n",
        "# !git push origin master"
      ],
      "metadata": {
        "id": "MMCkoTL8_FkL"
      },
      "id": "MMCkoTL8_FkL",
      "execution_count": 6,
      "outputs": []
    },
    {
      "cell_type": "markdown",
      "source": [
        "## set-up"
      ],
      "metadata": {
        "id": "9gTqc_mGBvcG"
      },
      "id": "9gTqc_mGBvcG"
    },
    {
      "cell_type": "code",
      "source": [
        "!python --version\n"
      ],
      "metadata": {
        "colab": {
          "base_uri": "https://localhost:8080/"
        },
        "id": "LfxfTm9D_3_j",
        "outputId": "39fd6510-d5ca-4168-aedd-917df7ae8bda"
      },
      "id": "LfxfTm9D_3_j",
      "execution_count": 7,
      "outputs": [
        {
          "output_type": "stream",
          "name": "stdout",
          "text": [
            "Python 3.10.12\n"
          ]
        }
      ]
    },
    {
      "cell_type": "code",
      "source": [
        "%env PYTHONUTF8=1\n"
      ],
      "metadata": {
        "colab": {
          "base_uri": "https://localhost:8080/"
        },
        "id": "MXLm7EMd_RVm",
        "outputId": "db5187b3-a0ba-471a-d480-e716a0cd0744"
      },
      "id": "MXLm7EMd_RVm",
      "execution_count": 8,
      "outputs": [
        {
          "output_type": "stream",
          "name": "stdout",
          "text": [
            "env: PYTHONUTF8=1\n"
          ]
        }
      ]
    },
    {
      "cell_type": "code",
      "source": [
        "!pip install -e ."
      ],
      "metadata": {
        "id": "zj3UH1e4BswF",
        "outputId": "56c415b3-316a-4500-b34f-36eaec003441",
        "colab": {
          "base_uri": "https://localhost:8080/"
        }
      },
      "id": "zj3UH1e4BswF",
      "execution_count": 9,
      "outputs": [
        {
          "output_type": "stream",
          "name": "stdout",
          "text": [
            "Obtaining file:///content/analysing_pii_leakage\n",
            "  Preparing metadata (setup.py) ... \u001b[?25l\u001b[?25hdone\n",
            "Collecting flair@ git+https://github.com/flairNLP/flair (from pii-leakage==0.1.0)\n",
            "  Cloning https://github.com/flairNLP/flair to /tmp/pip-install-dgwnib3g/flair_8272f55ce5eb4c20bd2d720190a5d796\n",
            "  Running command git clone --filter=blob:none --quiet https://github.com/flairNLP/flair /tmp/pip-install-dgwnib3g/flair_8272f55ce5eb4c20bd2d720190a5d796\n",
            "  Resolved https://github.com/flairNLP/flair to commit 0a582db288984ec990895e4bb1ebd9e4c62e6274\n",
            "  Installing build dependencies ... \u001b[?25l\u001b[?25hdone\n",
            "  Getting requirements to build wheel ... \u001b[?25l\u001b[?25hdone\n",
            "  Preparing metadata (pyproject.toml) ... \u001b[?25l\u001b[?25hdone\n",
            "Collecting dp_transformers@ git+https://github.com/microsoft/dp-transformers.git@main#egg=dp_transformers (from pii-leakage==0.1.0)\n",
            "  Cloning https://github.com/microsoft/dp-transformers.git (to revision main) to /tmp/pip-install-dgwnib3g/dp-transformers_e0f281e7552040beabd7b2f83235c97f\n",
            "  Running command git clone --filter=blob:none --quiet https://github.com/microsoft/dp-transformers.git /tmp/pip-install-dgwnib3g/dp-transformers_e0f281e7552040beabd7b2f83235c97f\n",
            "  Resolved https://github.com/microsoft/dp-transformers.git to commit 9451d385ccea43807a5bedf94d0693383577f2ec\n",
            "  Preparing metadata (setup.py) ... \u001b[?25l\u001b[?25hdone\n",
            "Requirement already satisfied: torch<2.0,>=1.10 in /usr/local/lib/python3.10/dist-packages (from pii-leakage==0.1.0) (1.13.1)\n",
            "Requirement already satisfied: transformers in /usr/local/lib/python3.10/dist-packages (from pii-leakage==0.1.0) (4.35.2)\n",
            "Requirement already satisfied: tqdm in /usr/local/lib/python3.10/dist-packages (from pii-leakage==0.1.0) (4.66.1)\n",
            "Requirement already satisfied: opacus in /usr/local/lib/python3.10/dist-packages (from pii-leakage==0.1.0) (1.4.0)\n",
            "Requirement already satisfied: typing-extensions in /usr/local/lib/python3.10/dist-packages (from torch<2.0,>=1.10->pii-leakage==0.1.0) (4.5.0)\n",
            "Requirement already satisfied: nvidia-cuda-runtime-cu11==11.7.99 in /usr/local/lib/python3.10/dist-packages (from torch<2.0,>=1.10->pii-leakage==0.1.0) (11.7.99)\n",
            "Requirement already satisfied: nvidia-cudnn-cu11==8.5.0.96 in /usr/local/lib/python3.10/dist-packages (from torch<2.0,>=1.10->pii-leakage==0.1.0) (8.5.0.96)\n",
            "Requirement already satisfied: nvidia-cublas-cu11==11.10.3.66 in /usr/local/lib/python3.10/dist-packages (from torch<2.0,>=1.10->pii-leakage==0.1.0) (11.10.3.66)\n",
            "Requirement already satisfied: nvidia-cuda-nvrtc-cu11==11.7.99 in /usr/local/lib/python3.10/dist-packages (from torch<2.0,>=1.10->pii-leakage==0.1.0) (11.7.99)\n",
            "Requirement already satisfied: setuptools in /usr/local/lib/python3.10/dist-packages (from nvidia-cublas-cu11==11.10.3.66->torch<2.0,>=1.10->pii-leakage==0.1.0) (67.7.2)\n",
            "Requirement already satisfied: wheel in /usr/local/lib/python3.10/dist-packages (from nvidia-cublas-cu11==11.10.3.66->torch<2.0,>=1.10->pii-leakage==0.1.0) (0.42.0)\n",
            "Requirement already satisfied: datasets>=2.0.0 in /usr/local/lib/python3.10/dist-packages (from dp_transformers@ git+https://github.com/microsoft/dp-transformers.git@main#egg=dp_transformers->pii-leakage==0.1.0) (2.15.0)\n",
            "Requirement already satisfied: peft in /usr/local/lib/python3.10/dist-packages (from dp_transformers@ git+https://github.com/microsoft/dp-transformers.git@main#egg=dp_transformers->pii-leakage==0.1.0) (0.6.2)\n",
            "Requirement already satisfied: prv_accountant<0.2.0 in /usr/local/lib/python3.10/dist-packages (from dp_transformers@ git+https://github.com/microsoft/dp-transformers.git@main#egg=dp_transformers->pii-leakage==0.1.0) (0.1.1.post1)\n",
            "Requirement already satisfied: numpy>=1.15 in /usr/local/lib/python3.10/dist-packages (from opacus->pii-leakage==0.1.0) (1.23.5)\n",
            "Requirement already satisfied: scipy>=1.2 in /usr/local/lib/python3.10/dist-packages (from opacus->pii-leakage==0.1.0) (1.11.4)\n",
            "Requirement already satisfied: opt-einsum>=3.3.0 in /usr/local/lib/python3.10/dist-packages (from opacus->pii-leakage==0.1.0) (3.3.0)\n",
            "Requirement already satisfied: filelock in /usr/local/lib/python3.10/dist-packages (from transformers->pii-leakage==0.1.0) (3.13.1)\n",
            "Requirement already satisfied: huggingface-hub<1.0,>=0.16.4 in /usr/local/lib/python3.10/dist-packages (from transformers->pii-leakage==0.1.0) (0.19.4)\n",
            "Requirement already satisfied: packaging>=20.0 in /usr/local/lib/python3.10/dist-packages (from transformers->pii-leakage==0.1.0) (23.2)\n",
            "Requirement already satisfied: pyyaml>=5.1 in /usr/local/lib/python3.10/dist-packages (from transformers->pii-leakage==0.1.0) (6.0.1)\n",
            "Requirement already satisfied: regex!=2019.12.17 in /usr/local/lib/python3.10/dist-packages (from transformers->pii-leakage==0.1.0) (2023.6.3)\n",
            "Requirement already satisfied: requests in /usr/local/lib/python3.10/dist-packages (from transformers->pii-leakage==0.1.0) (2.31.0)\n",
            "Requirement already satisfied: tokenizers<0.19,>=0.14 in /usr/local/lib/python3.10/dist-packages (from transformers->pii-leakage==0.1.0) (0.15.0)\n",
            "Requirement already satisfied: safetensors>=0.3.1 in /usr/local/lib/python3.10/dist-packages (from transformers->pii-leakage==0.1.0) (0.4.1)\n",
            "Requirement already satisfied: boto3>=1.20.27 in /usr/local/lib/python3.10/dist-packages (from flair@ git+https://github.com/flairNLP/flair->pii-leakage==0.1.0) (1.33.7)\n",
            "Requirement already satisfied: bpemb>=0.3.2 in /usr/local/lib/python3.10/dist-packages (from flair@ git+https://github.com/flairNLP/flair->pii-leakage==0.1.0) (0.3.4)\n",
            "Requirement already satisfied: conllu>=4.0 in /usr/local/lib/python3.10/dist-packages (from flair@ git+https://github.com/flairNLP/flair->pii-leakage==0.1.0) (4.5.3)\n",
            "Requirement already satisfied: deprecated>=1.2.13 in /usr/local/lib/python3.10/dist-packages (from flair@ git+https://github.com/flairNLP/flair->pii-leakage==0.1.0) (1.2.14)\n",
            "Requirement already satisfied: ftfy>=6.1.0 in /usr/local/lib/python3.10/dist-packages (from flair@ git+https://github.com/flairNLP/flair->pii-leakage==0.1.0) (6.1.3)\n",
            "Requirement already satisfied: gdown>=4.4.0 in /usr/local/lib/python3.10/dist-packages (from flair@ git+https://github.com/flairNLP/flair->pii-leakage==0.1.0) (4.6.6)\n",
            "Requirement already satisfied: gensim>=4.2.0 in /usr/local/lib/python3.10/dist-packages (from flair@ git+https://github.com/flairNLP/flair->pii-leakage==0.1.0) (4.3.2)\n",
            "Requirement already satisfied: janome>=0.4.2 in /usr/local/lib/python3.10/dist-packages (from flair@ git+https://github.com/flairNLP/flair->pii-leakage==0.1.0) (0.5.0)\n",
            "Requirement already satisfied: langdetect>=1.0.9 in /usr/local/lib/python3.10/dist-packages (from flair@ git+https://github.com/flairNLP/flair->pii-leakage==0.1.0) (1.0.9)\n",
            "Requirement already satisfied: lxml>=4.8.0 in /usr/local/lib/python3.10/dist-packages (from flair@ git+https://github.com/flairNLP/flair->pii-leakage==0.1.0) (4.9.3)\n",
            "Requirement already satisfied: matplotlib>=2.2.3 in /usr/local/lib/python3.10/dist-packages (from flair@ git+https://github.com/flairNLP/flair->pii-leakage==0.1.0) (3.7.1)\n",
            "Requirement already satisfied: more-itertools>=8.13.0 in /usr/local/lib/python3.10/dist-packages (from flair@ git+https://github.com/flairNLP/flair->pii-leakage==0.1.0) (10.1.0)\n",
            "Requirement already satisfied: mpld3>=0.3 in /usr/local/lib/python3.10/dist-packages (from flair@ git+https://github.com/flairNLP/flair->pii-leakage==0.1.0) (0.5.9)\n",
            "Requirement already satisfied: pptree>=3.1 in /usr/local/lib/python3.10/dist-packages (from flair@ git+https://github.com/flairNLP/flair->pii-leakage==0.1.0) (3.1)\n",
            "Requirement already satisfied: python-dateutil>=2.8.2 in /usr/local/lib/python3.10/dist-packages (from flair@ git+https://github.com/flairNLP/flair->pii-leakage==0.1.0) (2.8.2)\n",
            "Requirement already satisfied: pytorch-revgrad>=0.2.0 in /usr/local/lib/python3.10/dist-packages (from flair@ git+https://github.com/flairNLP/flair->pii-leakage==0.1.0) (0.2.0)\n",
            "Requirement already satisfied: scikit-learn>=1.0.2 in /usr/local/lib/python3.10/dist-packages (from flair@ git+https://github.com/flairNLP/flair->pii-leakage==0.1.0) (1.2.2)\n",
            "Requirement already satisfied: segtok>=1.5.11 in /usr/local/lib/python3.10/dist-packages (from flair@ git+https://github.com/flairNLP/flair->pii-leakage==0.1.0) (1.5.11)\n",
            "Requirement already satisfied: sqlitedict>=2.0.0 in /usr/local/lib/python3.10/dist-packages (from flair@ git+https://github.com/flairNLP/flair->pii-leakage==0.1.0) (2.1.0)\n",
            "Requirement already satisfied: tabulate>=0.8.10 in /usr/local/lib/python3.10/dist-packages (from flair@ git+https://github.com/flairNLP/flair->pii-leakage==0.1.0) (0.9.0)\n",
            "Requirement already satisfied: transformer-smaller-training-vocab>=0.2.3 in /usr/local/lib/python3.10/dist-packages (from flair@ git+https://github.com/flairNLP/flair->pii-leakage==0.1.0) (0.3.3)\n",
            "Requirement already satisfied: urllib3<2.0.0,>=1.0.0 in /usr/local/lib/python3.10/dist-packages (from flair@ git+https://github.com/flairNLP/flair->pii-leakage==0.1.0) (1.26.18)\n",
            "Requirement already satisfied: wikipedia-api>=0.5.7 in /usr/local/lib/python3.10/dist-packages (from flair@ git+https://github.com/flairNLP/flair->pii-leakage==0.1.0) (0.6.0)\n",
            "Requirement already satisfied: semver<4.0.0,>=3.0.0 in /usr/local/lib/python3.10/dist-packages (from flair@ git+https://github.com/flairNLP/flair->pii-leakage==0.1.0) (3.0.2)\n",
            "Requirement already satisfied: botocore<1.34.0,>=1.33.7 in /usr/local/lib/python3.10/dist-packages (from boto3>=1.20.27->flair@ git+https://github.com/flairNLP/flair->pii-leakage==0.1.0) (1.33.7)\n",
            "Requirement already satisfied: jmespath<2.0.0,>=0.7.1 in /usr/local/lib/python3.10/dist-packages (from boto3>=1.20.27->flair@ git+https://github.com/flairNLP/flair->pii-leakage==0.1.0) (1.0.1)\n",
            "Requirement already satisfied: s3transfer<0.9.0,>=0.8.2 in /usr/local/lib/python3.10/dist-packages (from boto3>=1.20.27->flair@ git+https://github.com/flairNLP/flair->pii-leakage==0.1.0) (0.8.2)\n",
            "Requirement already satisfied: sentencepiece in /usr/local/lib/python3.10/dist-packages (from bpemb>=0.3.2->flair@ git+https://github.com/flairNLP/flair->pii-leakage==0.1.0) (0.1.99)\n",
            "Requirement already satisfied: pyarrow>=8.0.0 in /usr/local/lib/python3.10/dist-packages (from datasets>=2.0.0->dp_transformers@ git+https://github.com/microsoft/dp-transformers.git@main#egg=dp_transformers->pii-leakage==0.1.0) (9.0.0)\n",
            "Requirement already satisfied: pyarrow-hotfix in /usr/local/lib/python3.10/dist-packages (from datasets>=2.0.0->dp_transformers@ git+https://github.com/microsoft/dp-transformers.git@main#egg=dp_transformers->pii-leakage==0.1.0) (0.6)\n",
            "Requirement already satisfied: dill<0.3.8,>=0.3.0 in /usr/local/lib/python3.10/dist-packages (from datasets>=2.0.0->dp_transformers@ git+https://github.com/microsoft/dp-transformers.git@main#egg=dp_transformers->pii-leakage==0.1.0) (0.3.7)\n",
            "Requirement already satisfied: pandas in /usr/local/lib/python3.10/dist-packages (from datasets>=2.0.0->dp_transformers@ git+https://github.com/microsoft/dp-transformers.git@main#egg=dp_transformers->pii-leakage==0.1.0) (1.5.3)\n",
            "Requirement already satisfied: xxhash in /usr/local/lib/python3.10/dist-packages (from datasets>=2.0.0->dp_transformers@ git+https://github.com/microsoft/dp-transformers.git@main#egg=dp_transformers->pii-leakage==0.1.0) (3.4.1)\n",
            "Requirement already satisfied: multiprocess in /usr/local/lib/python3.10/dist-packages (from datasets>=2.0.0->dp_transformers@ git+https://github.com/microsoft/dp-transformers.git@main#egg=dp_transformers->pii-leakage==0.1.0) (0.70.15)\n",
            "Requirement already satisfied: fsspec[http]<=2023.10.0,>=2023.1.0 in /usr/local/lib/python3.10/dist-packages (from datasets>=2.0.0->dp_transformers@ git+https://github.com/microsoft/dp-transformers.git@main#egg=dp_transformers->pii-leakage==0.1.0) (2023.6.0)\n",
            "Requirement already satisfied: aiohttp in /usr/local/lib/python3.10/dist-packages (from datasets>=2.0.0->dp_transformers@ git+https://github.com/microsoft/dp-transformers.git@main#egg=dp_transformers->pii-leakage==0.1.0) (3.9.1)\n",
            "Requirement already satisfied: wrapt<2,>=1.10 in /usr/local/lib/python3.10/dist-packages (from deprecated>=1.2.13->flair@ git+https://github.com/flairNLP/flair->pii-leakage==0.1.0) (1.14.1)\n",
            "Requirement already satisfied: wcwidth<0.3.0,>=0.2.12 in /usr/local/lib/python3.10/dist-packages (from ftfy>=6.1.0->flair@ git+https://github.com/flairNLP/flair->pii-leakage==0.1.0) (0.2.12)\n",
            "Requirement already satisfied: six in /usr/local/lib/python3.10/dist-packages (from gdown>=4.4.0->flair@ git+https://github.com/flairNLP/flair->pii-leakage==0.1.0) (1.16.0)\n",
            "Requirement already satisfied: beautifulsoup4 in /usr/local/lib/python3.10/dist-packages (from gdown>=4.4.0->flair@ git+https://github.com/flairNLP/flair->pii-leakage==0.1.0) (4.11.2)\n",
            "Requirement already satisfied: smart-open>=1.8.1 in /usr/local/lib/python3.10/dist-packages (from gensim>=4.2.0->flair@ git+https://github.com/flairNLP/flair->pii-leakage==0.1.0) (6.4.0)\n",
            "Requirement already satisfied: contourpy>=1.0.1 in /usr/local/lib/python3.10/dist-packages (from matplotlib>=2.2.3->flair@ git+https://github.com/flairNLP/flair->pii-leakage==0.1.0) (1.2.0)\n",
            "Requirement already satisfied: cycler>=0.10 in /usr/local/lib/python3.10/dist-packages (from matplotlib>=2.2.3->flair@ git+https://github.com/flairNLP/flair->pii-leakage==0.1.0) (0.12.1)\n",
            "Requirement already satisfied: fonttools>=4.22.0 in /usr/local/lib/python3.10/dist-packages (from matplotlib>=2.2.3->flair@ git+https://github.com/flairNLP/flair->pii-leakage==0.1.0) (4.45.1)\n",
            "Requirement already satisfied: kiwisolver>=1.0.1 in /usr/local/lib/python3.10/dist-packages (from matplotlib>=2.2.3->flair@ git+https://github.com/flairNLP/flair->pii-leakage==0.1.0) (1.4.5)\n",
            "Requirement already satisfied: pillow>=6.2.0 in /usr/local/lib/python3.10/dist-packages (from matplotlib>=2.2.3->flair@ git+https://github.com/flairNLP/flair->pii-leakage==0.1.0) (9.4.0)\n",
            "Requirement already satisfied: pyparsing>=2.3.1 in /usr/local/lib/python3.10/dist-packages (from matplotlib>=2.2.3->flair@ git+https://github.com/flairNLP/flair->pii-leakage==0.1.0) (3.1.1)\n",
            "Requirement already satisfied: jinja2 in /usr/local/lib/python3.10/dist-packages (from mpld3>=0.3->flair@ git+https://github.com/flairNLP/flair->pii-leakage==0.1.0) (3.1.2)\n",
            "Requirement already satisfied: charset-normalizer<4,>=2 in /usr/local/lib/python3.10/dist-packages (from requests->transformers->pii-leakage==0.1.0) (3.3.2)\n",
            "Requirement already satisfied: idna<4,>=2.5 in /usr/local/lib/python3.10/dist-packages (from requests->transformers->pii-leakage==0.1.0) (3.6)\n",
            "Requirement already satisfied: certifi>=2017.4.17 in /usr/local/lib/python3.10/dist-packages (from requests->transformers->pii-leakage==0.1.0) (2023.11.17)\n",
            "Requirement already satisfied: joblib>=1.1.1 in /usr/local/lib/python3.10/dist-packages (from scikit-learn>=1.0.2->flair@ git+https://github.com/flairNLP/flair->pii-leakage==0.1.0) (1.3.2)\n",
            "Requirement already satisfied: threadpoolctl>=2.0.0 in /usr/local/lib/python3.10/dist-packages (from scikit-learn>=1.0.2->flair@ git+https://github.com/flairNLP/flair->pii-leakage==0.1.0) (3.2.0)\n",
            "Requirement already satisfied: protobuf in /usr/local/lib/python3.10/dist-packages (from transformers->pii-leakage==0.1.0) (3.20.3)\n",
            "Requirement already satisfied: psutil in /usr/local/lib/python3.10/dist-packages (from peft->dp_transformers@ git+https://github.com/microsoft/dp-transformers.git@main#egg=dp_transformers->pii-leakage==0.1.0) (5.9.5)\n",
            "Requirement already satisfied: accelerate>=0.21.0 in /usr/local/lib/python3.10/dist-packages (from peft->dp_transformers@ git+https://github.com/microsoft/dp-transformers.git@main#egg=dp_transformers->pii-leakage==0.1.0) (0.25.0)\n",
            "Requirement already satisfied: attrs>=17.3.0 in /usr/local/lib/python3.10/dist-packages (from aiohttp->datasets>=2.0.0->dp_transformers@ git+https://github.com/microsoft/dp-transformers.git@main#egg=dp_transformers->pii-leakage==0.1.0) (23.1.0)\n",
            "Requirement already satisfied: multidict<7.0,>=4.5 in /usr/local/lib/python3.10/dist-packages (from aiohttp->datasets>=2.0.0->dp_transformers@ git+https://github.com/microsoft/dp-transformers.git@main#egg=dp_transformers->pii-leakage==0.1.0) (6.0.4)\n",
            "Requirement already satisfied: yarl<2.0,>=1.0 in /usr/local/lib/python3.10/dist-packages (from aiohttp->datasets>=2.0.0->dp_transformers@ git+https://github.com/microsoft/dp-transformers.git@main#egg=dp_transformers->pii-leakage==0.1.0) (1.9.3)\n",
            "Requirement already satisfied: frozenlist>=1.1.1 in /usr/local/lib/python3.10/dist-packages (from aiohttp->datasets>=2.0.0->dp_transformers@ git+https://github.com/microsoft/dp-transformers.git@main#egg=dp_transformers->pii-leakage==0.1.0) (1.4.0)\n",
            "Requirement already satisfied: aiosignal>=1.1.2 in /usr/local/lib/python3.10/dist-packages (from aiohttp->datasets>=2.0.0->dp_transformers@ git+https://github.com/microsoft/dp-transformers.git@main#egg=dp_transformers->pii-leakage==0.1.0) (1.3.1)\n",
            "Requirement already satisfied: async-timeout<5.0,>=4.0 in /usr/local/lib/python3.10/dist-packages (from aiohttp->datasets>=2.0.0->dp_transformers@ git+https://github.com/microsoft/dp-transformers.git@main#egg=dp_transformers->pii-leakage==0.1.0) (4.0.3)\n",
            "Requirement already satisfied: soupsieve>1.2 in /usr/local/lib/python3.10/dist-packages (from beautifulsoup4->gdown>=4.4.0->flair@ git+https://github.com/flairNLP/flair->pii-leakage==0.1.0) (2.5)\n",
            "Requirement already satisfied: MarkupSafe>=2.0 in /usr/local/lib/python3.10/dist-packages (from jinja2->mpld3>=0.3->flair@ git+https://github.com/flairNLP/flair->pii-leakage==0.1.0) (2.1.3)\n",
            "Requirement already satisfied: pytz>=2020.1 in /usr/local/lib/python3.10/dist-packages (from pandas->datasets>=2.0.0->dp_transformers@ git+https://github.com/microsoft/dp-transformers.git@main#egg=dp_transformers->pii-leakage==0.1.0) (2023.3.post1)\n",
            "Requirement already satisfied: PySocks!=1.5.7,>=1.5.6 in /usr/local/lib/python3.10/dist-packages (from requests->transformers->pii-leakage==0.1.0) (1.7.1)\n",
            "Installing collected packages: pii-leakage\n",
            "  Attempting uninstall: pii-leakage\n",
            "    Found existing installation: pii-leakage 0.1.0\n",
            "    Uninstalling pii-leakage-0.1.0:\n",
            "      Successfully uninstalled pii-leakage-0.1.0\n",
            "  Running setup.py develop for pii-leakage\n",
            "Successfully installed pii-leakage-0.1.0\n"
          ]
        }
      ]
    },
    {
      "cell_type": "code",
      "source": [
        "!pwd\n"
      ],
      "metadata": {
        "id": "iIGqdeg1B-ej",
        "outputId": "fb83c668-7dec-41f4-ef0c-e288b4d5c7c2",
        "colab": {
          "base_uri": "https://localhost:8080/"
        }
      },
      "id": "iIGqdeg1B-ej",
      "execution_count": 10,
      "outputs": [
        {
          "output_type": "stream",
          "name": "stdout",
          "text": [
            "/content/analysing_pii_leakage\n"
          ]
        }
      ]
    },
    {
      "cell_type": "code",
      "source": [
        "!pip install torch==1.13.1+cu117 torchvision==0.14.1+cu117 torchaudio==0.13.1 --extra-index-url https://download.pytorch.org/whl/cu117"
      ],
      "metadata": {
        "colab": {
          "base_uri": "https://localhost:8080/"
        },
        "id": "pJFv6eV6Ddv4",
        "outputId": "07a9d1e2-efa6-45bd-ed35-138866b08ac8"
      },
      "id": "pJFv6eV6Ddv4",
      "execution_count": 12,
      "outputs": [
        {
          "output_type": "stream",
          "name": "stdout",
          "text": [
            "Looking in indexes: https://pypi.org/simple, https://download.pytorch.org/whl/cu117\n",
            "Collecting torch==1.13.1+cu117\n",
            "  Downloading https://download.pytorch.org/whl/cu117/torch-1.13.1%2Bcu117-cp310-cp310-linux_x86_64.whl (1801.8 MB)\n",
            "\u001b[2K     \u001b[90m━━━━━━━━━━━━━━━━━━━━━━━━━━━━━━━━━━━━━━━━\u001b[0m \u001b[32m1.8/1.8 GB\u001b[0m \u001b[31m711.0 kB/s\u001b[0m eta \u001b[36m0:00:00\u001b[0m\n",
            "\u001b[?25hCollecting torchvision==0.14.1+cu117\n",
            "  Downloading https://download.pytorch.org/whl/cu117/torchvision-0.14.1%2Bcu117-cp310-cp310-linux_x86_64.whl (24.3 MB)\n",
            "\u001b[2K     \u001b[90m━━━━━━━━━━━━━━━━━━━━━━━━━━━━━━━━━━━━━━━━\u001b[0m \u001b[32m24.3/24.3 MB\u001b[0m \u001b[31m60.4 MB/s\u001b[0m eta \u001b[36m0:00:00\u001b[0m\n",
            "\u001b[?25hCollecting torchaudio==0.13.1\n",
            "  Downloading https://download.pytorch.org/whl/cu117/torchaudio-0.13.1%2Bcu117-cp310-cp310-linux_x86_64.whl (4.2 MB)\n",
            "\u001b[2K     \u001b[90m━━━━━━━━━━━━━━━━━━━━━━━━━━━━━━━━━━━━━━━━\u001b[0m \u001b[32m4.2/4.2 MB\u001b[0m \u001b[31m113.4 MB/s\u001b[0m eta \u001b[36m0:00:00\u001b[0m\n",
            "\u001b[?25hRequirement already satisfied: typing-extensions in /usr/local/lib/python3.10/dist-packages (from torch==1.13.1+cu117) (4.5.0)\n",
            "Requirement already satisfied: numpy in /usr/local/lib/python3.10/dist-packages (from torchvision==0.14.1+cu117) (1.23.5)\n",
            "Requirement already satisfied: requests in /usr/local/lib/python3.10/dist-packages (from torchvision==0.14.1+cu117) (2.31.0)\n",
            "Requirement already satisfied: pillow!=8.3.*,>=5.3.0 in /usr/local/lib/python3.10/dist-packages (from torchvision==0.14.1+cu117) (9.4.0)\n",
            "Requirement already satisfied: charset-normalizer<4,>=2 in /usr/local/lib/python3.10/dist-packages (from requests->torchvision==0.14.1+cu117) (3.3.2)\n",
            "Requirement already satisfied: idna<4,>=2.5 in /usr/local/lib/python3.10/dist-packages (from requests->torchvision==0.14.1+cu117) (3.6)\n",
            "Requirement already satisfied: urllib3<3,>=1.21.1 in /usr/local/lib/python3.10/dist-packages (from requests->torchvision==0.14.1+cu117) (1.26.18)\n",
            "Requirement already satisfied: certifi>=2017.4.17 in /usr/local/lib/python3.10/dist-packages (from requests->torchvision==0.14.1+cu117) (2023.11.17)\n",
            "Installing collected packages: torch, torchvision, torchaudio\n",
            "  Attempting uninstall: torch\n",
            "    Found existing installation: torch 1.13.1\n",
            "    Uninstalling torch-1.13.1:\n",
            "      Successfully uninstalled torch-1.13.1\n",
            "  Attempting uninstall: torchvision\n",
            "    Found existing installation: torchvision 0.16.0+cu118\n",
            "    Uninstalling torchvision-0.16.0+cu118:\n",
            "      Successfully uninstalled torchvision-0.16.0+cu118\n",
            "  Attempting uninstall: torchaudio\n",
            "    Found existing installation: torchaudio 2.1.0+cu118\n",
            "    Uninstalling torchaudio-2.1.0+cu118:\n",
            "      Successfully uninstalled torchaudio-2.1.0+cu118\n",
            "\u001b[31mERROR: pip's dependency resolver does not currently take into account all the packages that are installed. This behaviour is the source of the following dependency conflicts.\n",
            "torchdata 0.7.0 requires torch==2.1.0, but you have torch 1.13.1+cu117 which is incompatible.\n",
            "torchtext 0.16.0 requires torch==2.1.0, but you have torch 1.13.1+cu117 which is incompatible.\u001b[0m\u001b[31m\n",
            "\u001b[0mSuccessfully installed torch-1.13.1+cu117 torchaudio-0.13.1+cu117 torchvision-0.14.1+cu117\n"
          ]
        }
      ]
    },
    {
      "cell_type": "code",
      "source": [
        "%cd examples\n"
      ],
      "metadata": {
        "id": "PIppegJvEw8x",
        "outputId": "76cd9077-59b0-4419-a2ba-360530a07823",
        "colab": {
          "base_uri": "https://localhost:8080/"
        }
      },
      "id": "PIppegJvEw8x",
      "execution_count": 17,
      "outputs": [
        {
          "output_type": "stream",
          "name": "stdout",
          "text": [
            "/content/analysing_pii_leakage/examples\n"
          ]
        }
      ]
    },
    {
      "cell_type": "code",
      "source": [
        "!python fine_tune.py --config_path ../configs/fine-tune/echr-gpt2-small-undefended.yml\n"
      ],
      "metadata": {
        "id": "zfxYWjiGE5OY",
        "outputId": "e2681616-1ef0-491a-e799-12681be166de",
        "colab": {
          "base_uri": "https://localhost:8080/"
        }
      },
      "id": "zfxYWjiGE5OY",
      "execution_count": 18,
      "outputs": [
        {
          "output_type": "stream",
          "name": "stdout",
          "text": [
            "2023-12-05 13:04:38.660131: E tensorflow/compiler/xla/stream_executor/cuda/cuda_dnn.cc:9342] Unable to register cuDNN factory: Attempting to register factory for plugin cuDNN when one has already been registered\n",
            "2023-12-05 13:04:38.660198: E tensorflow/compiler/xla/stream_executor/cuda/cuda_fft.cc:609] Unable to register cuFFT factory: Attempting to register factory for plugin cuFFT when one has already been registered\n",
            "2023-12-05 13:04:38.660248: E tensorflow/compiler/xla/stream_executor/cuda/cuda_blas.cc:1518] Unable to register cuBLAS factory: Attempting to register factory for plugin cuBLAS when one has already been registered\n",
            "2023-12-05 13:04:40.675766: W tensorflow/compiler/tf2tensorrt/utils/py_utils.cc:38] TF-TRT Warning: Could not find TensorRT\n",
            "\n",
            "\u001b[93m\n",
            "No local system configs found. Look into 'src.global_configs.py' to solve this problem. Create a 'local_configs.py' file and paste it into the src folder containing a dataclass 'LocalConfigs' with your local system configs.\n",
            "\u001b[0m\n",
            "\n",
            "\n",
            "\u001b[92m\n",
            "eps_error       : 0.1000\n",
            "lora_alpha      : 32\n",
            "lora_dim        : 0\n",
            "lora_dropout    : 0.0000\n",
            "max_grad_norm_dp: 1.0000\n",
            "no_accountant   : False\n",
            "noise_multiplier: None\n",
            "target_delta    : None\n",
            "target_epsilon  : -1\n",
            "\u001b[0m\n",
            "\n",
            "pytorch_model.bin: 100% 2.24G/2.24G [00:54<00:00, 41.0MB/s]\n",
            "config.json: 100% 616/616 [00:00<00:00, 3.62MB/s]\n",
            "sentencepiece.bpe.model: 100% 5.07M/5.07M [00:00<00:00, 27.8MB/s]\n",
            "tokenizer.json: 100% 9.10M/9.10M [00:00<00:00, 27.0MB/s]\n",
            "2023-12-05 13:05:58,012 SequenceTagger predicts: Dictionary with 76 tags: <unk>, O, B-CARDINAL, E-CARDINAL, S-PERSON, S-CARDINAL, S-PRODUCT, B-PRODUCT, I-PRODUCT, E-PRODUCT, B-WORK_OF_ART, I-WORK_OF_ART, E-WORK_OF_ART, B-PERSON, E-PERSON, S-GPE, B-DATE, I-DATE, E-DATE, S-ORDINAL, S-LANGUAGE, I-PERSON, S-EVENT, S-DATE, B-QUANTITY, E-QUANTITY, S-TIME, B-TIME, I-TIME, E-TIME, B-GPE, E-GPE, S-ORG, I-GPE, S-NORP, B-FAC, I-FAC, E-FAC, B-NORP, E-NORP, S-PERCENT, B-ORG, E-ORG, B-LANGUAGE, E-LANGUAGE, I-CARDINAL, I-ORG, S-WORK_OF_ART, I-QUANTITY, B-MONEY\n",
            "\n",
            "\u001b[92m\n",
            "anon_token   : <MASK>\n",
            "anonymize    : False\n",
            "ner          : flair\n",
            "ner_model    : flair/ner-english-ontonotes-large\n",
            "tag_n_batches: 10000\n",
            "\u001b[0m\n",
            "\n",
            "Downloading builder script: 100% 8.61k/8.61k [00:00<00:00, 35.7MB/s]\n",
            "Downloading metadata: 100% 4.57k/4.57k [00:00<00:00, 22.5MB/s]\n",
            "Downloading readme: 100% 13.9k/13.9k [00:00<00:00, 49.9MB/s]\n",
            "Downloading data: 100% 32.8M/32.8M [00:00<00:00, 39.4MB/s]\n",
            "Generating train split: 100% 9000/9000 [00:02<00:00, 4449.56 examples/s]\n",
            "Generating test split: 100% 1000/1000 [00:00<00:00, 4099.82 examples/s]\n",
            "Generating validation split: 100% 1000/1000 [00:00<00:00, 4094.17 examples/s]\n",
            "Generating train split: 0 examples [00:00, ? examples/s]\n",
            "\u001b[92m\n",
            "Length of data: 262580. Scrubbing from 0 to 118161 (Total=118161).\n",
            "\u001b[0m\n",
            "\n",
            "\n",
            "\u001b[92m\n",
            "72.  On 23 October 2000 the Aliens Office informed the applicant’s lawyer that the time-limit had been extended until such time as the applicant and his child were fully recovered.\n",
            "\u001b[0m\n",
            "\n",
            "Generating train split: 975 examples [00:38, 25.29 examples/s]\n",
            "Traceback (most recent call last):\n",
            "  File \"/usr/local/lib/python3.10/dist-packages/datasets/builder.py\", line 1670, in _prepare_split_single\n",
            "    for key, record in generator:\n",
            "  File \"/root/.cache/huggingface/modules/datasets_modules/datasets/echr/32756b03f048c36830cd8eb40a148ff5a205c6ce894bea411115cc525a2337b0/echr.py\", line 102, in _generate_examples\n",
            "    result: Tuple[str, ListPII] = self._tagger.pseudonymize(text)\n",
            "  File \"/content/analysing_pii_leakage/src/pii_leakage/ner/flair_tagger.py\", line 73, in pseudonymize\n",
            "    piis: ListPII = self.analyze(text)  # these PII contain a start and an end.\n",
            "  File \"/content/analysing_pii_leakage/src/pii_leakage/ner/flair_tagger.py\", line 55, in analyze\n",
            "    self.base_tagger.predict(sentences,\n",
            "  File \"/usr/local/lib/python3.10/dist-packages/flair/models/sequence_tagger_model.py\", line 490, in predict\n",
            "    sentence_tensor, lengths = self._prepare_tensors(batch)\n",
            "  File \"/usr/local/lib/python3.10/dist-packages/flair/models/sequence_tagger_model.py\", line 287, in _prepare_tensors\n",
            "    self.embeddings.embed(sentences)\n",
            "  File \"/usr/local/lib/python3.10/dist-packages/flair/embeddings/base.py\", line 50, in embed\n",
            "    self._add_embeddings_internal(data_points)\n",
            "  File \"/usr/local/lib/python3.10/dist-packages/flair/embeddings/transformer.py\", line 705, in _add_embeddings_internal\n",
            "    embeddings = self._forward_tensors(tensors)\n",
            "  File \"/usr/local/lib/python3.10/dist-packages/flair/embeddings/transformer.py\", line 1424, in _forward_tensors\n",
            "    return self.forward(**tensors)\n",
            "  File \"/usr/local/lib/python3.10/dist-packages/flair/embeddings/transformer.py\", line 1324, in forward\n",
            "    hidden_states = self.model(input_ids, **model_kwargs)[-1]\n",
            "  File \"/usr/local/lib/python3.10/dist-packages/torch/nn/modules/module.py\", line 1194, in _call_impl\n",
            "    return forward_call(*input, **kwargs)\n",
            "  File \"/usr/local/lib/python3.10/dist-packages/transformers/models/xlm_roberta/modeling_xlm_roberta.py\", line 837, in forward\n",
            "    encoder_outputs = self.encoder(\n",
            "  File \"/usr/local/lib/python3.10/dist-packages/torch/nn/modules/module.py\", line 1194, in _call_impl\n",
            "    return forward_call(*input, **kwargs)\n",
            "  File \"/usr/local/lib/python3.10/dist-packages/transformers/models/xlm_roberta/modeling_xlm_roberta.py\", line 525, in forward\n",
            "    layer_outputs = layer_module(\n",
            "  File \"/usr/local/lib/python3.10/dist-packages/torch/nn/modules/module.py\", line 1194, in _call_impl\n",
            "    return forward_call(*input, **kwargs)\n",
            "  File \"/usr/local/lib/python3.10/dist-packages/transformers/models/xlm_roberta/modeling_xlm_roberta.py\", line 414, in forward\n",
            "    self_attention_outputs = self.attention(\n",
            "  File \"/usr/local/lib/python3.10/dist-packages/torch/nn/modules/module.py\", line 1194, in _call_impl\n",
            "    return forward_call(*input, **kwargs)\n",
            "  File \"/usr/local/lib/python3.10/dist-packages/transformers/models/xlm_roberta/modeling_xlm_roberta.py\", line 341, in forward\n",
            "    self_outputs = self.self(\n",
            "  File \"/usr/local/lib/python3.10/dist-packages/torch/nn/modules/module.py\", line 1194, in _call_impl\n",
            "    return forward_call(*input, **kwargs)\n",
            "  File \"/usr/local/lib/python3.10/dist-packages/transformers/models/xlm_roberta/modeling_xlm_roberta.py\", line 220, in forward\n",
            "    key_layer = self.transpose_for_scores(self.key(hidden_states))\n",
            "  File \"/usr/local/lib/python3.10/dist-packages/transformers/models/xlm_roberta/modeling_xlm_roberta.py\", line 186, in transpose_for_scores\n",
            "    return x.permute(0, 2, 1, 3)\n",
            "KeyboardInterrupt\n",
            "\n",
            "During handling of the above exception, another exception occurred:\n",
            "\n",
            "Traceback (most recent call last):\n",
            "  File \"/content/analysing_pii_leakage/examples/fine_tune.py\", line 81, in <module>\n",
            "    fine_tune(*parse_args())\n",
            "  File \"/content/analysing_pii_leakage/examples/fine_tune.py\", line 57, in fine_tune\n",
            "    train_dataset: RealDataset = DatasetFactory.from_dataset_args(dataset_args.set_split(\"train\"),\n",
            "  File \"/content/analysing_pii_leakage/src/pii_leakage/dataset/dataset_factory.py\", line 14, in from_dataset_args\n",
            "    return RealDataset(dataset_args, ner_args=ner_args, env_args=env_args)\n",
            "  File \"/content/analysing_pii_leakage/src/pii_leakage/dataset/real_dataset.py\", line 24, in __init__\n",
            "    super().__init__(ner_args, env_args)\n",
            "  File \"/content/analysing_pii_leakage/src/pii_leakage/dataset/dataset.py\", line 19, in __init__\n",
            "    self._base_dataset = self._load_base_dataset()   # The dataset that this class wraps around (e.g., huggingface)\n",
            "  File \"/content/analysing_pii_leakage/src/pii_leakage/dataset/real_dataset.py\", line 29, in _load_base_dataset\n",
            "    return load_dataset(self.dataset_args.dataset_path, cache_dir=self.dataset_args.cache_dir(),\n",
            "  File \"/usr/local/lib/python3.10/dist-packages/datasets/load.py\", line 2152, in load_dataset\n",
            "    builder_instance.download_and_prepare(\n",
            "  File \"/usr/local/lib/python3.10/dist-packages/datasets/builder.py\", line 948, in download_and_prepare\n",
            "    self._download_and_prepare(\n",
            "  File \"/usr/local/lib/python3.10/dist-packages/datasets/builder.py\", line 1711, in _download_and_prepare\n",
            "    super()._download_and_prepare(\n",
            "  File \"/usr/local/lib/python3.10/dist-packages/datasets/builder.py\", line 1043, in _download_and_prepare\n",
            "    self._prepare_split(split_generator, **prepare_split_kwargs)\n",
            "  File \"/usr/local/lib/python3.10/dist-packages/datasets/builder.py\", line 1549, in _prepare_split\n",
            "    for job_id, done, content in self._prepare_split_single(\n",
            "  File \"/usr/local/lib/python3.10/dist-packages/datasets/builder.py\", line 1670, in _prepare_split_single\n",
            "    for key, record in generator:\n",
            "KeyboardInterrupt\n",
            "^C\n"
          ]
        }
      ]
    },
    {
      "cell_type": "code",
      "source": [],
      "metadata": {
        "id": "t1R_wZE2FIg6"
      },
      "id": "t1R_wZE2FIg6",
      "execution_count": null,
      "outputs": []
    }
  ],
  "metadata": {
    "kernelspec": {
      "display_name": "Python 3",
      "name": "python3"
    },
    "language_info": {
      "codemirror_mode": {
        "name": "ipython",
        "version": 3
      },
      "file_extension": ".py",
      "mimetype": "text/x-python",
      "name": "python",
      "nbconvert_exporter": "python",
      "pygments_lexer": "ipython3",
      "version": "3.11.4"
    },
    "colab": {
      "provenance": [],
      "toc_visible": true,
      "gpuType": "T4"
    },
    "accelerator": "GPU"
  },
  "nbformat": 4,
  "nbformat_minor": 5
}