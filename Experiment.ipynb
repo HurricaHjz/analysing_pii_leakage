{
  "cells": [
    {
      "cell_type": "code",
      "execution_count": null,
      "id": "71628f18",
      "metadata": {
        "id": "71628f18",
        "outputId": "67ed1d55-97f3-4316-c2c6-2aa6ab2d9a2a"
      },
      "outputs": [
        {
          "ename": "AttributeError",
          "evalue": "module 'torch.cuda.memory' has no attribute 'get_allocator_properties'",
          "output_type": "error",
          "traceback": [
            "\u001b[1;31m---------------------------------------------------------------------------\u001b[0m",
            "\u001b[1;31mAttributeError\u001b[0m                            Traceback (most recent call last)",
            "Cell \u001b[1;32mIn[1], line 2\u001b[0m\n\u001b[0;32m      1\u001b[0m \u001b[38;5;28;01mimport\u001b[39;00m \u001b[38;5;21;01mtorch\u001b[39;00m\n\u001b[1;32m----> 2\u001b[0m \u001b[43mtorch\u001b[49m\u001b[38;5;241;43m.\u001b[39;49m\u001b[43mcuda\u001b[49m\u001b[38;5;241;43m.\u001b[39;49m\u001b[43mmemory\u001b[49m\u001b[38;5;241;43m.\u001b[39;49m\u001b[43mget_allocator_properties\u001b[49m(\u001b[38;5;124m'\u001b[39m\u001b[38;5;124mcuda\u001b[39m\u001b[38;5;124m'\u001b[39m)\n",
            "\u001b[1;31mAttributeError\u001b[0m: module 'torch.cuda.memory' has no attribute 'get_allocator_properties'"
          ]
        }
      ],
      "source": [
        "!git config --global user.name \"HurricaHjz\"\n",
        "!git config --global user.email \"jerryzmj4210@gmail.com\"\n",
        "!git config --global user.password \"jerryzmj021226.\""
      ]
    },
    {
      "cell_type": "code",
      "execution_count": null,
      "id": "171fc6ed",
      "metadata": {
        "id": "171fc6ed"
      },
      "outputs": [],
      "source": [
        "token = 'ilovellm'\n",
        "username = 'HurricaHjz'\n",
        "repo = 'your_repo_name'"
      ]
    }
  ],
  "metadata": {
    "kernelspec": {
      "display_name": "Python 3 (ipykernel)",
      "language": "python",
      "name": "python3"
    },
    "language_info": {
      "codemirror_mode": {
        "name": "ipython",
        "version": 3
      },
      "file_extension": ".py",
      "mimetype": "text/x-python",
      "name": "python",
      "nbconvert_exporter": "python",
      "pygments_lexer": "ipython3",
      "version": "3.11.4"
    },
    "colab": {
      "provenance": []
    }
  },
  "nbformat": 4,
  "nbformat_minor": 5
}